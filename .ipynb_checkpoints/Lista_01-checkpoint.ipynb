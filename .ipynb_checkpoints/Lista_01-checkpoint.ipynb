{
 "cells": [
  {
   "cell_type": "markdown",
   "id": "c76cd323",
   "metadata": {},
   "source": [
    "# Mineração de Dados / Statistical Machine Learning\n",
    "    Lista 1\n",
    "    Rafael Izbicki"
   ]
  },
  {
   "cell_type": "markdown",
   "id": "f52e7630",
   "metadata": {},
   "source": [
    "# Importando as bibliotecas"
   ]
  },
  {
   "cell_type": "code",
   "execution_count": 1,
   "id": "84f89326",
   "metadata": {},
   "outputs": [],
   "source": [
    "from sklearn.model_selection import train_test_split\n",
    "from sklearn.model_selection import cross_val_score\n",
    "from sklearn.linear_model import LinearRegression\n",
    "from sklearn.linear_model import Lasso\n",
    "from sklearn.linear_model import Ridge\n",
    "from sklearn.preprocessing import StandardScaler, OneHotEncoder, LabelEncoder, OrdinalEncoder\n",
    "from sklearn.compose import make_column_transformer\n",
    "from sklearn.model_selection import GridSearchCV\n",
    "from sklearn.metrics import mean_absolute_error\n",
    "from sklearn.metrics import mean_squared_error\n",
    "\n",
    "\n",
    "import numpy as np\n",
    "import pandas as pd\n",
    "import matplotlib.pyplot as plt\n",
    "%matplotlib inline\n",
    "plt.style.use('ggplot')\n",
    "\n",
    "import warnings; warnings.simplefilter('ignore')"
   ]
  },
  {
   "cell_type": "markdown",
   "id": "657018cf",
   "metadata": {},
   "source": [
    "# Lista 01 \n",
    "**Exercı́cio 1**\n",
    "* Considere o banco houses_to_rent_v2 (https://www.dropbox.com/s/8auhk2zaogovjvn/houses_to_rent_v2.csv?dl=0), que contém o valor (em reais) do aluguel de imóveis no Brasil. Você pode trabalhar apenas com os imóveis localizados em São Paulo, Rio de Janeiro e Belo Horizonte.\n",
    "1. Divida o conjunto de dados em para treinamento e teste. Explique como decidiu qual porcentagem deixar\n",
    "para cada um.\n",
    "2. Utilizando o conjunto de treinamento, ajuste uma regressão (i) via mı́nimos quadrados, (ii) via lasso (usando validação-cruzada no treinamento para escolher λ) e (iii) (Pós-graduação apenas) regressão ridge. Qual o melhor valor de λ encontrado para o lasso?\n",
    "3. Qual dos métodos acima apresentou melhores resultados? Responda essa pergunta utilizando o conjunto de teste e o melhor valor de λ encontrado. Inclua os intervalos de confiança para o risco preditivo nos seus resultados.\n",
    "4. Interprete os resultados do melhor modelo encontrado (via coeficientes). Ele faz sentido?\n",
    "5. Includa todas as interações entre as variáveis observadas e repita o ajuste do método de mı́nimos quadrados e o lasso. Como esses ajustes se comparam em relação aos anteriores? Qual foi o melhor modelo encontrado?Esses resultados são esperados?"
   ]
  },
  {
   "cell_type": "markdown",
   "id": "de02e1fa",
   "metadata": {},
   "source": [
    "### Importando os dados para \"df\""
   ]
  },
  {
   "cell_type": "code",
   "execution_count": 2,
   "id": "50097f60",
   "metadata": {},
   "outputs": [],
   "source": [
    "df = pd.read_csv('houses_to_rent_v2.csv')"
   ]
  },
  {
   "cell_type": "code",
   "execution_count": 3,
   "id": "18c22bf0",
   "metadata": {},
   "outputs": [
    {
     "data": {
      "text/html": [
       "<div>\n",
       "<style scoped>\n",
       "    .dataframe tbody tr th:only-of-type {\n",
       "        vertical-align: middle;\n",
       "    }\n",
       "\n",
       "    .dataframe tbody tr th {\n",
       "        vertical-align: top;\n",
       "    }\n",
       "\n",
       "    .dataframe thead th {\n",
       "        text-align: right;\n",
       "    }\n",
       "</style>\n",
       "<table border=\"1\" class=\"dataframe\">\n",
       "  <thead>\n",
       "    <tr style=\"text-align: right;\">\n",
       "      <th></th>\n",
       "      <th>city</th>\n",
       "      <th>area</th>\n",
       "      <th>rooms</th>\n",
       "      <th>bathroom</th>\n",
       "      <th>parking spaces</th>\n",
       "      <th>floor</th>\n",
       "      <th>animal</th>\n",
       "      <th>furniture</th>\n",
       "      <th>rent amount (R$)</th>\n",
       "    </tr>\n",
       "  </thead>\n",
       "  <tbody>\n",
       "    <tr>\n",
       "      <th>0</th>\n",
       "      <td>São Paulo</td>\n",
       "      <td>70</td>\n",
       "      <td>2</td>\n",
       "      <td>1</td>\n",
       "      <td>1</td>\n",
       "      <td>7</td>\n",
       "      <td>acept</td>\n",
       "      <td>furnished</td>\n",
       "      <td>3300</td>\n",
       "    </tr>\n",
       "    <tr>\n",
       "      <th>1</th>\n",
       "      <td>São Paulo</td>\n",
       "      <td>320</td>\n",
       "      <td>4</td>\n",
       "      <td>4</td>\n",
       "      <td>0</td>\n",
       "      <td>20</td>\n",
       "      <td>acept</td>\n",
       "      <td>not furnished</td>\n",
       "      <td>4960</td>\n",
       "    </tr>\n",
       "    <tr>\n",
       "      <th>2</th>\n",
       "      <td>Porto Alegre</td>\n",
       "      <td>80</td>\n",
       "      <td>1</td>\n",
       "      <td>1</td>\n",
       "      <td>1</td>\n",
       "      <td>6</td>\n",
       "      <td>acept</td>\n",
       "      <td>not furnished</td>\n",
       "      <td>2800</td>\n",
       "    </tr>\n",
       "    <tr>\n",
       "      <th>3</th>\n",
       "      <td>Porto Alegre</td>\n",
       "      <td>51</td>\n",
       "      <td>2</td>\n",
       "      <td>1</td>\n",
       "      <td>0</td>\n",
       "      <td>2</td>\n",
       "      <td>acept</td>\n",
       "      <td>not furnished</td>\n",
       "      <td>1112</td>\n",
       "    </tr>\n",
       "    <tr>\n",
       "      <th>4</th>\n",
       "      <td>São Paulo</td>\n",
       "      <td>25</td>\n",
       "      <td>1</td>\n",
       "      <td>1</td>\n",
       "      <td>0</td>\n",
       "      <td>1</td>\n",
       "      <td>not acept</td>\n",
       "      <td>not furnished</td>\n",
       "      <td>800</td>\n",
       "    </tr>\n",
       "    <tr>\n",
       "      <th>...</th>\n",
       "      <td>...</td>\n",
       "      <td>...</td>\n",
       "      <td>...</td>\n",
       "      <td>...</td>\n",
       "      <td>...</td>\n",
       "      <td>...</td>\n",
       "      <td>...</td>\n",
       "      <td>...</td>\n",
       "      <td>...</td>\n",
       "    </tr>\n",
       "    <tr>\n",
       "      <th>10687</th>\n",
       "      <td>Porto Alegre</td>\n",
       "      <td>63</td>\n",
       "      <td>2</td>\n",
       "      <td>1</td>\n",
       "      <td>1</td>\n",
       "      <td>5</td>\n",
       "      <td>not acept</td>\n",
       "      <td>furnished</td>\n",
       "      <td>1478</td>\n",
       "    </tr>\n",
       "    <tr>\n",
       "      <th>10688</th>\n",
       "      <td>São Paulo</td>\n",
       "      <td>285</td>\n",
       "      <td>4</td>\n",
       "      <td>4</td>\n",
       "      <td>4</td>\n",
       "      <td>17</td>\n",
       "      <td>acept</td>\n",
       "      <td>not furnished</td>\n",
       "      <td>15000</td>\n",
       "    </tr>\n",
       "    <tr>\n",
       "      <th>10689</th>\n",
       "      <td>Rio de Janeiro</td>\n",
       "      <td>70</td>\n",
       "      <td>3</td>\n",
       "      <td>3</td>\n",
       "      <td>0</td>\n",
       "      <td>8</td>\n",
       "      <td>not acept</td>\n",
       "      <td>furnished</td>\n",
       "      <td>6000</td>\n",
       "    </tr>\n",
       "    <tr>\n",
       "      <th>10690</th>\n",
       "      <td>Rio de Janeiro</td>\n",
       "      <td>120</td>\n",
       "      <td>2</td>\n",
       "      <td>2</td>\n",
       "      <td>2</td>\n",
       "      <td>8</td>\n",
       "      <td>acept</td>\n",
       "      <td>furnished</td>\n",
       "      <td>12000</td>\n",
       "    </tr>\n",
       "    <tr>\n",
       "      <th>10691</th>\n",
       "      <td>São Paulo</td>\n",
       "      <td>80</td>\n",
       "      <td>2</td>\n",
       "      <td>1</td>\n",
       "      <td>0</td>\n",
       "      <td>-</td>\n",
       "      <td>acept</td>\n",
       "      <td>not furnished</td>\n",
       "      <td>1400</td>\n",
       "    </tr>\n",
       "  </tbody>\n",
       "</table>\n",
       "<p>10692 rows × 9 columns</p>\n",
       "</div>"
      ],
      "text/plain": [
       "                 city  area  rooms  bathroom  parking spaces floor     animal  \\\n",
       "0           São Paulo    70      2         1               1     7      acept   \n",
       "1           São Paulo   320      4         4               0    20      acept   \n",
       "2        Porto Alegre    80      1         1               1     6      acept   \n",
       "3        Porto Alegre    51      2         1               0     2      acept   \n",
       "4           São Paulo    25      1         1               0     1  not acept   \n",
       "...               ...   ...    ...       ...             ...   ...        ...   \n",
       "10687    Porto Alegre    63      2         1               1     5  not acept   \n",
       "10688       São Paulo   285      4         4               4    17      acept   \n",
       "10689  Rio de Janeiro    70      3         3               0     8  not acept   \n",
       "10690  Rio de Janeiro   120      2         2               2     8      acept   \n",
       "10691       São Paulo    80      2         1               0     -      acept   \n",
       "\n",
       "           furniture  rent amount (R$)  \n",
       "0          furnished              3300  \n",
       "1      not furnished              4960  \n",
       "2      not furnished              2800  \n",
       "3      not furnished              1112  \n",
       "4      not furnished               800  \n",
       "...              ...               ...  \n",
       "10687      furnished              1478  \n",
       "10688  not furnished             15000  \n",
       "10689      furnished              6000  \n",
       "10690      furnished             12000  \n",
       "10691  not furnished              1400  \n",
       "\n",
       "[10692 rows x 9 columns]"
      ]
     },
     "execution_count": 3,
     "metadata": {},
     "output_type": "execute_result"
    }
   ],
   "source": [
    "df"
   ]
  },
  {
   "cell_type": "markdown",
   "id": "0c52ea90",
   "metadata": {},
   "source": [
    "# Seleciando apenas as cidades de São Paulo / Rio de Janeiro / Belo Horizonte"
   ]
  },
  {
   "cell_type": "code",
   "execution_count": 4,
   "id": "88b5476e",
   "metadata": {},
   "outputs": [],
   "source": [
    "df=df.loc[df['city'].isin(['São Paulo', 'Rio de Janeiro','Belo Horizonte'])]"
   ]
  },
  {
   "cell_type": "code",
   "execution_count": 5,
   "id": "d3d3ce95",
   "metadata": {},
   "outputs": [
    {
     "data": {
      "text/plain": [
       "array(['São Paulo', 'Rio de Janeiro', 'Belo Horizonte'], dtype=object)"
      ]
     },
     "execution_count": 5,
     "metadata": {},
     "output_type": "execute_result"
    }
   ],
   "source": [
    "df['city'].unique()"
   ]
  },
  {
   "cell_type": "markdown",
   "id": "16d12ec0",
   "metadata": {},
   "source": [
    "## Verificando Valores Faltantes"
   ]
  },
  {
   "cell_type": "code",
   "execution_count": 6,
   "id": "1ff89206",
   "metadata": {},
   "outputs": [
    {
     "data": {
      "text/plain": [
       "city                0\n",
       "area                0\n",
       "rooms               0\n",
       "bathroom            0\n",
       "parking spaces      0\n",
       "floor               0\n",
       "animal              0\n",
       "furniture           0\n",
       "rent amount (R$)    0\n",
       "dtype: int64"
      ]
     },
     "execution_count": 6,
     "metadata": {},
     "output_type": "execute_result"
    }
   ],
   "source": [
    "df.isnull().sum()"
   ]
  },
  {
   "cell_type": "markdown",
   "id": "d5b3d0bc",
   "metadata": {},
   "source": [
    "# valores categóricos"
   ]
  },
  {
   "cell_type": "code",
   "execution_count": 7,
   "id": "49428a80",
   "metadata": {},
   "outputs": [
    {
     "data": {
      "text/html": [
       "<div>\n",
       "<style scoped>\n",
       "    .dataframe tbody tr th:only-of-type {\n",
       "        vertical-align: middle;\n",
       "    }\n",
       "\n",
       "    .dataframe tbody tr th {\n",
       "        vertical-align: top;\n",
       "    }\n",
       "\n",
       "    .dataframe thead th {\n",
       "        text-align: right;\n",
       "    }\n",
       "</style>\n",
       "<table border=\"1\" class=\"dataframe\">\n",
       "  <thead>\n",
       "    <tr style=\"text-align: right;\">\n",
       "      <th></th>\n",
       "      <th>city</th>\n",
       "      <th>floor</th>\n",
       "      <th>animal</th>\n",
       "      <th>furniture</th>\n",
       "    </tr>\n",
       "  </thead>\n",
       "  <tbody>\n",
       "    <tr>\n",
       "      <th>0</th>\n",
       "      <td>São Paulo</td>\n",
       "      <td>7</td>\n",
       "      <td>acept</td>\n",
       "      <td>furnished</td>\n",
       "    </tr>\n",
       "    <tr>\n",
       "      <th>1</th>\n",
       "      <td>São Paulo</td>\n",
       "      <td>20</td>\n",
       "      <td>acept</td>\n",
       "      <td>not furnished</td>\n",
       "    </tr>\n",
       "    <tr>\n",
       "      <th>4</th>\n",
       "      <td>São Paulo</td>\n",
       "      <td>1</td>\n",
       "      <td>not acept</td>\n",
       "      <td>not furnished</td>\n",
       "    </tr>\n",
       "    <tr>\n",
       "      <th>5</th>\n",
       "      <td>São Paulo</td>\n",
       "      <td>-</td>\n",
       "      <td>acept</td>\n",
       "      <td>not furnished</td>\n",
       "    </tr>\n",
       "    <tr>\n",
       "      <th>6</th>\n",
       "      <td>Rio de Janeiro</td>\n",
       "      <td>7</td>\n",
       "      <td>acept</td>\n",
       "      <td>not furnished</td>\n",
       "    </tr>\n",
       "    <tr>\n",
       "      <th>...</th>\n",
       "      <td>...</td>\n",
       "      <td>...</td>\n",
       "      <td>...</td>\n",
       "      <td>...</td>\n",
       "    </tr>\n",
       "    <tr>\n",
       "      <th>10686</th>\n",
       "      <td>São Paulo</td>\n",
       "      <td>8</td>\n",
       "      <td>not acept</td>\n",
       "      <td>furnished</td>\n",
       "    </tr>\n",
       "    <tr>\n",
       "      <th>10688</th>\n",
       "      <td>São Paulo</td>\n",
       "      <td>17</td>\n",
       "      <td>acept</td>\n",
       "      <td>not furnished</td>\n",
       "    </tr>\n",
       "    <tr>\n",
       "      <th>10689</th>\n",
       "      <td>Rio de Janeiro</td>\n",
       "      <td>8</td>\n",
       "      <td>not acept</td>\n",
       "      <td>furnished</td>\n",
       "    </tr>\n",
       "    <tr>\n",
       "      <th>10690</th>\n",
       "      <td>Rio de Janeiro</td>\n",
       "      <td>8</td>\n",
       "      <td>acept</td>\n",
       "      <td>furnished</td>\n",
       "    </tr>\n",
       "    <tr>\n",
       "      <th>10691</th>\n",
       "      <td>São Paulo</td>\n",
       "      <td>-</td>\n",
       "      <td>acept</td>\n",
       "      <td>not furnished</td>\n",
       "    </tr>\n",
       "  </tbody>\n",
       "</table>\n",
       "<p>8646 rows × 4 columns</p>\n",
       "</div>"
      ],
      "text/plain": [
       "                 city floor     animal      furniture\n",
       "0           São Paulo     7      acept      furnished\n",
       "1           São Paulo    20      acept  not furnished\n",
       "4           São Paulo     1  not acept  not furnished\n",
       "5           São Paulo     -      acept  not furnished\n",
       "6      Rio de Janeiro     7      acept  not furnished\n",
       "...               ...   ...        ...            ...\n",
       "10686       São Paulo     8  not acept      furnished\n",
       "10688       São Paulo    17      acept  not furnished\n",
       "10689  Rio de Janeiro     8  not acept      furnished\n",
       "10690  Rio de Janeiro     8      acept      furnished\n",
       "10691       São Paulo     -      acept  not furnished\n",
       "\n",
       "[8646 rows x 4 columns]"
      ]
     },
     "execution_count": 7,
     "metadata": {},
     "output_type": "execute_result"
    }
   ],
   "source": [
    "df.select_dtypes(include='object')"
   ]
  },
  {
   "cell_type": "markdown",
   "id": "131c8dac",
   "metadata": {},
   "source": [
    "### Foi verificado que a variável \"floor\" é uma variável numérica e está como uma variável categórica"
   ]
  },
  {
   "cell_type": "code",
   "execution_count": 8,
   "id": "a4a0d4f6",
   "metadata": {},
   "outputs": [
    {
     "data": {
      "text/plain": [
       "array(['7', '20', '1', '-', '4', '3', '2', '11', '24', '9', '8', '17',\n",
       "       '18', '10', '5', '6', '13', '15', '16', '14', '26', '12', '21',\n",
       "       '19', '22', '27', '23', '35', '25', '46', '28', '29', '301', '32'],\n",
       "      dtype=object)"
      ]
     },
     "execution_count": 8,
     "metadata": {},
     "output_type": "execute_result"
    }
   ],
   "source": [
    "df['floor'].unique()"
   ]
  },
  {
   "cell_type": "markdown",
   "id": "2586e4f8",
   "metadata": {},
   "source": [
    "### Foi encontrado um Valor com resultado igual \"-\" , substituirei por \"0\", tendo em vista que \"-\" representa os imóveis do tipo casa\n",
    "### Também foi encontrado o valor \"301\" , foi subistituido por \"31\" (erro de digitação)"
   ]
  },
  {
   "cell_type": "code",
   "execution_count": 9,
   "id": "b567edec",
   "metadata": {},
   "outputs": [],
   "source": [
    "df['floor']=df['floor'].replace('-',0)"
   ]
  },
  {
   "cell_type": "code",
   "execution_count": 10,
   "id": "2bb64d34",
   "metadata": {},
   "outputs": [],
   "source": [
    "df['floor']=df['floor'].replace('301',31)"
   ]
  },
  {
   "cell_type": "markdown",
   "id": "b93cc7f8",
   "metadata": {},
   "source": [
    "### Transformando a variável \"floor\" em (int) númerica"
   ]
  },
  {
   "cell_type": "code",
   "execution_count": 11,
   "id": "346fe929",
   "metadata": {},
   "outputs": [],
   "source": [
    "df['floor']=df['floor'].astype(int)"
   ]
  },
  {
   "cell_type": "code",
   "execution_count": 12,
   "id": "e9f59b40",
   "metadata": {},
   "outputs": [
    {
     "data": {
      "text/plain": [
       "array([ 7, 20,  1,  0,  4,  3,  2, 11, 24,  9,  8, 17, 18, 10,  5,  6, 13,\n",
       "       15, 16, 14, 26, 12, 21, 19, 22, 27, 23, 35, 25, 46, 28, 29, 31, 32])"
      ]
     },
     "execution_count": 12,
     "metadata": {},
     "output_type": "execute_result"
    }
   ],
   "source": [
    "df['floor'].unique()"
   ]
  },
  {
   "cell_type": "code",
   "execution_count": 13,
   "id": "fc265b77",
   "metadata": {},
   "outputs": [
    {
     "data": {
      "text/html": [
       "<div>\n",
       "<style scoped>\n",
       "    .dataframe tbody tr th:only-of-type {\n",
       "        vertical-align: middle;\n",
       "    }\n",
       "\n",
       "    .dataframe tbody tr th {\n",
       "        vertical-align: top;\n",
       "    }\n",
       "\n",
       "    .dataframe thead th {\n",
       "        text-align: right;\n",
       "    }\n",
       "</style>\n",
       "<table border=\"1\" class=\"dataframe\">\n",
       "  <thead>\n",
       "    <tr style=\"text-align: right;\">\n",
       "      <th></th>\n",
       "      <th>city</th>\n",
       "      <th>area</th>\n",
       "      <th>rooms</th>\n",
       "      <th>bathroom</th>\n",
       "      <th>parking spaces</th>\n",
       "      <th>floor</th>\n",
       "      <th>animal</th>\n",
       "      <th>furniture</th>\n",
       "      <th>rent amount (R$)</th>\n",
       "    </tr>\n",
       "  </thead>\n",
       "  <tbody>\n",
       "    <tr>\n",
       "      <th>0</th>\n",
       "      <td>São Paulo</td>\n",
       "      <td>70</td>\n",
       "      <td>2</td>\n",
       "      <td>1</td>\n",
       "      <td>1</td>\n",
       "      <td>7</td>\n",
       "      <td>acept</td>\n",
       "      <td>furnished</td>\n",
       "      <td>3300</td>\n",
       "    </tr>\n",
       "    <tr>\n",
       "      <th>1</th>\n",
       "      <td>São Paulo</td>\n",
       "      <td>320</td>\n",
       "      <td>4</td>\n",
       "      <td>4</td>\n",
       "      <td>0</td>\n",
       "      <td>20</td>\n",
       "      <td>acept</td>\n",
       "      <td>not furnished</td>\n",
       "      <td>4960</td>\n",
       "    </tr>\n",
       "    <tr>\n",
       "      <th>4</th>\n",
       "      <td>São Paulo</td>\n",
       "      <td>25</td>\n",
       "      <td>1</td>\n",
       "      <td>1</td>\n",
       "      <td>0</td>\n",
       "      <td>1</td>\n",
       "      <td>not acept</td>\n",
       "      <td>not furnished</td>\n",
       "      <td>800</td>\n",
       "    </tr>\n",
       "    <tr>\n",
       "      <th>5</th>\n",
       "      <td>São Paulo</td>\n",
       "      <td>376</td>\n",
       "      <td>3</td>\n",
       "      <td>3</td>\n",
       "      <td>7</td>\n",
       "      <td>0</td>\n",
       "      <td>acept</td>\n",
       "      <td>not furnished</td>\n",
       "      <td>8000</td>\n",
       "    </tr>\n",
       "    <tr>\n",
       "      <th>6</th>\n",
       "      <td>Rio de Janeiro</td>\n",
       "      <td>72</td>\n",
       "      <td>2</td>\n",
       "      <td>1</td>\n",
       "      <td>0</td>\n",
       "      <td>7</td>\n",
       "      <td>acept</td>\n",
       "      <td>not furnished</td>\n",
       "      <td>8000</td>\n",
       "    </tr>\n",
       "    <tr>\n",
       "      <th>...</th>\n",
       "      <td>...</td>\n",
       "      <td>...</td>\n",
       "      <td>...</td>\n",
       "      <td>...</td>\n",
       "      <td>...</td>\n",
       "      <td>...</td>\n",
       "      <td>...</td>\n",
       "      <td>...</td>\n",
       "      <td>...</td>\n",
       "    </tr>\n",
       "    <tr>\n",
       "      <th>10686</th>\n",
       "      <td>São Paulo</td>\n",
       "      <td>150</td>\n",
       "      <td>3</td>\n",
       "      <td>3</td>\n",
       "      <td>2</td>\n",
       "      <td>8</td>\n",
       "      <td>not acept</td>\n",
       "      <td>furnished</td>\n",
       "      <td>13500</td>\n",
       "    </tr>\n",
       "    <tr>\n",
       "      <th>10688</th>\n",
       "      <td>São Paulo</td>\n",
       "      <td>285</td>\n",
       "      <td>4</td>\n",
       "      <td>4</td>\n",
       "      <td>4</td>\n",
       "      <td>17</td>\n",
       "      <td>acept</td>\n",
       "      <td>not furnished</td>\n",
       "      <td>15000</td>\n",
       "    </tr>\n",
       "    <tr>\n",
       "      <th>10689</th>\n",
       "      <td>Rio de Janeiro</td>\n",
       "      <td>70</td>\n",
       "      <td>3</td>\n",
       "      <td>3</td>\n",
       "      <td>0</td>\n",
       "      <td>8</td>\n",
       "      <td>not acept</td>\n",
       "      <td>furnished</td>\n",
       "      <td>6000</td>\n",
       "    </tr>\n",
       "    <tr>\n",
       "      <th>10690</th>\n",
       "      <td>Rio de Janeiro</td>\n",
       "      <td>120</td>\n",
       "      <td>2</td>\n",
       "      <td>2</td>\n",
       "      <td>2</td>\n",
       "      <td>8</td>\n",
       "      <td>acept</td>\n",
       "      <td>furnished</td>\n",
       "      <td>12000</td>\n",
       "    </tr>\n",
       "    <tr>\n",
       "      <th>10691</th>\n",
       "      <td>São Paulo</td>\n",
       "      <td>80</td>\n",
       "      <td>2</td>\n",
       "      <td>1</td>\n",
       "      <td>0</td>\n",
       "      <td>0</td>\n",
       "      <td>acept</td>\n",
       "      <td>not furnished</td>\n",
       "      <td>1400</td>\n",
       "    </tr>\n",
       "  </tbody>\n",
       "</table>\n",
       "<p>8646 rows × 9 columns</p>\n",
       "</div>"
      ],
      "text/plain": [
       "                 city  area  rooms  bathroom  parking spaces  floor  \\\n",
       "0           São Paulo    70      2         1               1      7   \n",
       "1           São Paulo   320      4         4               0     20   \n",
       "4           São Paulo    25      1         1               0      1   \n",
       "5           São Paulo   376      3         3               7      0   \n",
       "6      Rio de Janeiro    72      2         1               0      7   \n",
       "...               ...   ...    ...       ...             ...    ...   \n",
       "10686       São Paulo   150      3         3               2      8   \n",
       "10688       São Paulo   285      4         4               4     17   \n",
       "10689  Rio de Janeiro    70      3         3               0      8   \n",
       "10690  Rio de Janeiro   120      2         2               2      8   \n",
       "10691       São Paulo    80      2         1               0      0   \n",
       "\n",
       "          animal      furniture  rent amount (R$)  \n",
       "0          acept      furnished              3300  \n",
       "1          acept  not furnished              4960  \n",
       "4      not acept  not furnished               800  \n",
       "5          acept  not furnished              8000  \n",
       "6          acept  not furnished              8000  \n",
       "...          ...            ...               ...  \n",
       "10686  not acept      furnished             13500  \n",
       "10688      acept  not furnished             15000  \n",
       "10689  not acept      furnished              6000  \n",
       "10690      acept      furnished             12000  \n",
       "10691      acept  not furnished              1400  \n",
       "\n",
       "[8646 rows x 9 columns]"
      ]
     },
     "execution_count": 13,
     "metadata": {},
     "output_type": "execute_result"
    }
   ],
   "source": [
    "df"
   ]
  },
  {
   "cell_type": "markdown",
   "id": "33832d0c",
   "metadata": {},
   "source": [
    "### Verificando variável categórica"
   ]
  },
  {
   "cell_type": "code",
   "execution_count": 14,
   "id": "b8fc75e8",
   "metadata": {},
   "outputs": [
    {
     "data": {
      "text/html": [
       "<div>\n",
       "<style scoped>\n",
       "    .dataframe tbody tr th:only-of-type {\n",
       "        vertical-align: middle;\n",
       "    }\n",
       "\n",
       "    .dataframe tbody tr th {\n",
       "        vertical-align: top;\n",
       "    }\n",
       "\n",
       "    .dataframe thead th {\n",
       "        text-align: right;\n",
       "    }\n",
       "</style>\n",
       "<table border=\"1\" class=\"dataframe\">\n",
       "  <thead>\n",
       "    <tr style=\"text-align: right;\">\n",
       "      <th></th>\n",
       "      <th>city</th>\n",
       "      <th>animal</th>\n",
       "      <th>furniture</th>\n",
       "    </tr>\n",
       "  </thead>\n",
       "  <tbody>\n",
       "    <tr>\n",
       "      <th>0</th>\n",
       "      <td>São Paulo</td>\n",
       "      <td>acept</td>\n",
       "      <td>furnished</td>\n",
       "    </tr>\n",
       "    <tr>\n",
       "      <th>1</th>\n",
       "      <td>São Paulo</td>\n",
       "      <td>acept</td>\n",
       "      <td>not furnished</td>\n",
       "    </tr>\n",
       "    <tr>\n",
       "      <th>4</th>\n",
       "      <td>São Paulo</td>\n",
       "      <td>not acept</td>\n",
       "      <td>not furnished</td>\n",
       "    </tr>\n",
       "    <tr>\n",
       "      <th>5</th>\n",
       "      <td>São Paulo</td>\n",
       "      <td>acept</td>\n",
       "      <td>not furnished</td>\n",
       "    </tr>\n",
       "    <tr>\n",
       "      <th>6</th>\n",
       "      <td>Rio de Janeiro</td>\n",
       "      <td>acept</td>\n",
       "      <td>not furnished</td>\n",
       "    </tr>\n",
       "    <tr>\n",
       "      <th>...</th>\n",
       "      <td>...</td>\n",
       "      <td>...</td>\n",
       "      <td>...</td>\n",
       "    </tr>\n",
       "    <tr>\n",
       "      <th>10686</th>\n",
       "      <td>São Paulo</td>\n",
       "      <td>not acept</td>\n",
       "      <td>furnished</td>\n",
       "    </tr>\n",
       "    <tr>\n",
       "      <th>10688</th>\n",
       "      <td>São Paulo</td>\n",
       "      <td>acept</td>\n",
       "      <td>not furnished</td>\n",
       "    </tr>\n",
       "    <tr>\n",
       "      <th>10689</th>\n",
       "      <td>Rio de Janeiro</td>\n",
       "      <td>not acept</td>\n",
       "      <td>furnished</td>\n",
       "    </tr>\n",
       "    <tr>\n",
       "      <th>10690</th>\n",
       "      <td>Rio de Janeiro</td>\n",
       "      <td>acept</td>\n",
       "      <td>furnished</td>\n",
       "    </tr>\n",
       "    <tr>\n",
       "      <th>10691</th>\n",
       "      <td>São Paulo</td>\n",
       "      <td>acept</td>\n",
       "      <td>not furnished</td>\n",
       "    </tr>\n",
       "  </tbody>\n",
       "</table>\n",
       "<p>8646 rows × 3 columns</p>\n",
       "</div>"
      ],
      "text/plain": [
       "                 city     animal      furniture\n",
       "0           São Paulo      acept      furnished\n",
       "1           São Paulo      acept  not furnished\n",
       "4           São Paulo  not acept  not furnished\n",
       "5           São Paulo      acept  not furnished\n",
       "6      Rio de Janeiro      acept  not furnished\n",
       "...               ...        ...            ...\n",
       "10686       São Paulo  not acept      furnished\n",
       "10688       São Paulo      acept  not furnished\n",
       "10689  Rio de Janeiro  not acept      furnished\n",
       "10690  Rio de Janeiro      acept      furnished\n",
       "10691       São Paulo      acept  not furnished\n",
       "\n",
       "[8646 rows x 3 columns]"
      ]
     },
     "execution_count": 14,
     "metadata": {},
     "output_type": "execute_result"
    }
   ],
   "source": [
    "df.select_dtypes(include='object')"
   ]
  },
  {
   "cell_type": "code",
   "execution_count": 15,
   "id": "14a48e2c",
   "metadata": {},
   "outputs": [
    {
     "data": {
      "text/plain": [
       "array(['acept', 'not acept'], dtype=object)"
      ]
     },
     "execution_count": 15,
     "metadata": {},
     "output_type": "execute_result"
    }
   ],
   "source": [
    "df['animal'].unique()"
   ]
  },
  {
   "cell_type": "code",
   "execution_count": 16,
   "id": "28980402",
   "metadata": {},
   "outputs": [
    {
     "data": {
      "text/plain": [
       "array(['furnished', 'not furnished'], dtype=object)"
      ]
     },
     "execution_count": 16,
     "metadata": {},
     "output_type": "execute_result"
    }
   ],
   "source": [
    "df['furniture'].unique()"
   ]
  },
  {
   "cell_type": "markdown",
   "id": "7421c6c9",
   "metadata": {},
   "source": [
    "### Verificando variável númerica "
   ]
  },
  {
   "cell_type": "code",
   "execution_count": 17,
   "id": "14086c15",
   "metadata": {},
   "outputs": [
    {
     "data": {
      "text/html": [
       "<div>\n",
       "<style scoped>\n",
       "    .dataframe tbody tr th:only-of-type {\n",
       "        vertical-align: middle;\n",
       "    }\n",
       "\n",
       "    .dataframe tbody tr th {\n",
       "        vertical-align: top;\n",
       "    }\n",
       "\n",
       "    .dataframe thead th {\n",
       "        text-align: right;\n",
       "    }\n",
       "</style>\n",
       "<table border=\"1\" class=\"dataframe\">\n",
       "  <thead>\n",
       "    <tr style=\"text-align: right;\">\n",
       "      <th></th>\n",
       "      <th>area</th>\n",
       "      <th>rooms</th>\n",
       "      <th>bathroom</th>\n",
       "      <th>parking spaces</th>\n",
       "      <th>floor</th>\n",
       "      <th>rent amount (R$)</th>\n",
       "    </tr>\n",
       "  </thead>\n",
       "  <tbody>\n",
       "    <tr>\n",
       "      <th>0</th>\n",
       "      <td>70</td>\n",
       "      <td>2</td>\n",
       "      <td>1</td>\n",
       "      <td>1</td>\n",
       "      <td>7</td>\n",
       "      <td>3300</td>\n",
       "    </tr>\n",
       "    <tr>\n",
       "      <th>1</th>\n",
       "      <td>320</td>\n",
       "      <td>4</td>\n",
       "      <td>4</td>\n",
       "      <td>0</td>\n",
       "      <td>20</td>\n",
       "      <td>4960</td>\n",
       "    </tr>\n",
       "    <tr>\n",
       "      <th>4</th>\n",
       "      <td>25</td>\n",
       "      <td>1</td>\n",
       "      <td>1</td>\n",
       "      <td>0</td>\n",
       "      <td>1</td>\n",
       "      <td>800</td>\n",
       "    </tr>\n",
       "    <tr>\n",
       "      <th>5</th>\n",
       "      <td>376</td>\n",
       "      <td>3</td>\n",
       "      <td>3</td>\n",
       "      <td>7</td>\n",
       "      <td>0</td>\n",
       "      <td>8000</td>\n",
       "    </tr>\n",
       "    <tr>\n",
       "      <th>6</th>\n",
       "      <td>72</td>\n",
       "      <td>2</td>\n",
       "      <td>1</td>\n",
       "      <td>0</td>\n",
       "      <td>7</td>\n",
       "      <td>8000</td>\n",
       "    </tr>\n",
       "    <tr>\n",
       "      <th>...</th>\n",
       "      <td>...</td>\n",
       "      <td>...</td>\n",
       "      <td>...</td>\n",
       "      <td>...</td>\n",
       "      <td>...</td>\n",
       "      <td>...</td>\n",
       "    </tr>\n",
       "    <tr>\n",
       "      <th>10686</th>\n",
       "      <td>150</td>\n",
       "      <td>3</td>\n",
       "      <td>3</td>\n",
       "      <td>2</td>\n",
       "      <td>8</td>\n",
       "      <td>13500</td>\n",
       "    </tr>\n",
       "    <tr>\n",
       "      <th>10688</th>\n",
       "      <td>285</td>\n",
       "      <td>4</td>\n",
       "      <td>4</td>\n",
       "      <td>4</td>\n",
       "      <td>17</td>\n",
       "      <td>15000</td>\n",
       "    </tr>\n",
       "    <tr>\n",
       "      <th>10689</th>\n",
       "      <td>70</td>\n",
       "      <td>3</td>\n",
       "      <td>3</td>\n",
       "      <td>0</td>\n",
       "      <td>8</td>\n",
       "      <td>6000</td>\n",
       "    </tr>\n",
       "    <tr>\n",
       "      <th>10690</th>\n",
       "      <td>120</td>\n",
       "      <td>2</td>\n",
       "      <td>2</td>\n",
       "      <td>2</td>\n",
       "      <td>8</td>\n",
       "      <td>12000</td>\n",
       "    </tr>\n",
       "    <tr>\n",
       "      <th>10691</th>\n",
       "      <td>80</td>\n",
       "      <td>2</td>\n",
       "      <td>1</td>\n",
       "      <td>0</td>\n",
       "      <td>0</td>\n",
       "      <td>1400</td>\n",
       "    </tr>\n",
       "  </tbody>\n",
       "</table>\n",
       "<p>8646 rows × 6 columns</p>\n",
       "</div>"
      ],
      "text/plain": [
       "       area  rooms  bathroom  parking spaces  floor  rent amount (R$)\n",
       "0        70      2         1               1      7              3300\n",
       "1       320      4         4               0     20              4960\n",
       "4        25      1         1               0      1               800\n",
       "5       376      3         3               7      0              8000\n",
       "6        72      2         1               0      7              8000\n",
       "...     ...    ...       ...             ...    ...               ...\n",
       "10686   150      3         3               2      8             13500\n",
       "10688   285      4         4               4     17             15000\n",
       "10689    70      3         3               0      8              6000\n",
       "10690   120      2         2               2      8             12000\n",
       "10691    80      2         1               0      0              1400\n",
       "\n",
       "[8646 rows x 6 columns]"
      ]
     },
     "execution_count": 17,
     "metadata": {},
     "output_type": "execute_result"
    }
   ],
   "source": [
    "df.select_dtypes(exclude='object')"
   ]
  },
  {
   "cell_type": "code",
   "execution_count": 18,
   "id": "014a45e3",
   "metadata": {},
   "outputs": [
    {
     "data": {
      "text/plain": [
       "array([ 2,  4,  1,  3,  7,  5,  8,  6, 10, 13,  9])"
      ]
     },
     "execution_count": 18,
     "metadata": {},
     "output_type": "execute_result"
    }
   ],
   "source": [
    "df['rooms'].unique()"
   ]
  },
  {
   "cell_type": "code",
   "execution_count": 19,
   "id": "78b20312",
   "metadata": {},
   "outputs": [
    {
     "data": {
      "text/plain": [
       "array([ 1,  4,  3,  2,  5,  6,  9,  7, 10,  8])"
      ]
     },
     "execution_count": 19,
     "metadata": {},
     "output_type": "execute_result"
    }
   ],
   "source": [
    "df['bathroom'].unique()"
   ]
  },
  {
   "cell_type": "code",
   "execution_count": 20,
   "id": "e2831625",
   "metadata": {},
   "outputs": [
    {
     "data": {
      "text/plain": [
       "(array([1.98063603e-04, 1.78358494e-04, 9.83697722e-05, 5.69345237e-05,\n",
       "        3.77746156e-05, 3.45812976e-05, 1.95493372e-05, 1.73685346e-05,\n",
       "        9.42418245e-06, 2.20416829e-05, 7.78858054e-08, 7.78858054e-08,\n",
       "        7.78858054e-08, 3.89429027e-07, 0.00000000e+00, 7.78858054e-08,\n",
       "        7.78858054e-08, 0.00000000e+00, 0.00000000e+00, 7.78858054e-08,\n",
       "        0.00000000e+00, 0.00000000e+00, 0.00000000e+00, 0.00000000e+00,\n",
       "        0.00000000e+00, 0.00000000e+00, 0.00000000e+00, 0.00000000e+00,\n",
       "        0.00000000e+00, 7.78858054e-08]),\n",
       " array([  450.,  1935.,  3420.,  4905.,  6390.,  7875.,  9360., 10845.,\n",
       "        12330., 13815., 15300., 16785., 18270., 19755., 21240., 22725.,\n",
       "        24210., 25695., 27180., 28665., 30150., 31635., 33120., 34605.,\n",
       "        36090., 37575., 39060., 40545., 42030., 43515., 45000.]),\n",
       " <BarContainer object of 30 artists>)"
      ]
     },
     "execution_count": 20,
     "metadata": {},
     "output_type": "execute_result"
    },
    {
     "data": {
      "image/png": "[encoded data removed]",
      "text/plain": [
       "<Figure size 720x576 with 1 Axes>"
      ]
     },
     "metadata": {},
     "output_type": "display_data"
    }
   ],
   "source": [
    "plt.figure(figsize=(10, 8))\n",
    "plt.title('Histrograma variável rent amount (R$)')\n",
    "plt.hist(df['rent amount (R$)'], density=True, bins=30)  # density=False would make counts\n"
   ]
  },
  {
   "cell_type": "markdown",
   "id": "f68df626",
   "metadata": {},
   "source": [
    "### Aplicando a transformação logarítma com o intuito melhorar a simetria dos dados, a transformação logaritima faz com que os dados fiquem proporcionais. Assim sua distribuição se aproxima da normal , melhorando o desenpenho do modelo."
   ]
  },
  {
   "cell_type": "code",
   "execution_count": 21,
   "id": "b7a8da3b",
   "metadata": {},
   "outputs": [
    {
     "data": {
      "text/plain": [
       "(array([0.00979498, 0.01732959, 0.04596107, 0.07534602, 0.13185554,\n",
       "        0.28330105, 0.36919552, 0.35035901, 0.36316784, 0.50255798,\n",
       "        0.42344465, 0.50105106, 0.50255798, 0.41063583, 0.35714015,\n",
       "        0.4264585 , 0.33981057, 0.28179413, 0.26446454, 0.21021541,\n",
       "        0.21925693, 0.19288582, 0.22679153, 0.00075346, 0.00527422,\n",
       "        0.00075346, 0.00075346, 0.00075346, 0.        , 0.00075346]),\n",
       " array([ 6.10924758,  6.26275326,  6.41625893,  6.5697646 ,  6.72327027,\n",
       "         6.87677595,  7.03028162,  7.18378729,  7.33729297,  7.49079864,\n",
       "         7.64430431,  7.79780998,  7.95131566,  8.10482133,  8.258327  ,\n",
       "         8.41183268,  8.56533835,  8.71884402,  8.87234969,  9.02585537,\n",
       "         9.17936104,  9.33286671,  9.48637239,  9.63987806,  9.79338373,\n",
       "         9.9468894 , 10.10039508, 10.25390075, 10.40740642, 10.5609121 ,\n",
       "        10.71441777]),\n",
       " <BarContainer object of 30 artists>)"
      ]
     },
     "execution_count": 21,
     "metadata": {},
     "output_type": "execute_result"
    },
    {
     "data": {
      "image/png": "[encoded data removed]",
      "text/plain": [
       "<Figure size 720x576 with 1 Axes>"
      ]
     },
     "metadata": {},
     "output_type": "display_data"
    }
   ],
   "source": [
    "plt.figure(figsize=(10, 8))\n",
    "plt.title('Histrograma após a transformação logarítma (rent amount (R$))')\n",
    "plt.hist(np.log(df['rent amount (R$)']), density=True, bins=30)  # density=False would make counts\n"
   ]
  },
  {
   "cell_type": "code",
   "execution_count": 22,
   "id": "217d1be4",
   "metadata": {},
   "outputs": [
    {
     "data": {
      "text/html": [
       "<div>\n",
       "<style scoped>\n",
       "    .dataframe tbody tr th:only-of-type {\n",
       "        vertical-align: middle;\n",
       "    }\n",
       "\n",
       "    .dataframe tbody tr th {\n",
       "        vertical-align: top;\n",
       "    }\n",
       "\n",
       "    .dataframe thead th {\n",
       "        text-align: right;\n",
       "    }\n",
       "</style>\n",
       "<table border=\"1\" class=\"dataframe\">\n",
       "  <thead>\n",
       "    <tr style=\"text-align: right;\">\n",
       "      <th></th>\n",
       "      <th>city</th>\n",
       "      <th>area</th>\n",
       "      <th>rooms</th>\n",
       "      <th>bathroom</th>\n",
       "      <th>parking spaces</th>\n",
       "      <th>floor</th>\n",
       "      <th>animal</th>\n",
       "      <th>furniture</th>\n",
       "      <th>rent amount (R$)</th>\n",
       "    </tr>\n",
       "  </thead>\n",
       "  <tbody>\n",
       "    <tr>\n",
       "      <th>0</th>\n",
       "      <td>São Paulo</td>\n",
       "      <td>70</td>\n",
       "      <td>2</td>\n",
       "      <td>1</td>\n",
       "      <td>1</td>\n",
       "      <td>7</td>\n",
       "      <td>acept</td>\n",
       "      <td>furnished</td>\n",
       "      <td>3300</td>\n",
       "    </tr>\n",
       "    <tr>\n",
       "      <th>1</th>\n",
       "      <td>São Paulo</td>\n",
       "      <td>320</td>\n",
       "      <td>4</td>\n",
       "      <td>4</td>\n",
       "      <td>0</td>\n",
       "      <td>20</td>\n",
       "      <td>acept</td>\n",
       "      <td>not furnished</td>\n",
       "      <td>4960</td>\n",
       "    </tr>\n",
       "    <tr>\n",
       "      <th>4</th>\n",
       "      <td>São Paulo</td>\n",
       "      <td>25</td>\n",
       "      <td>1</td>\n",
       "      <td>1</td>\n",
       "      <td>0</td>\n",
       "      <td>1</td>\n",
       "      <td>not acept</td>\n",
       "      <td>not furnished</td>\n",
       "      <td>800</td>\n",
       "    </tr>\n",
       "    <tr>\n",
       "      <th>5</th>\n",
       "      <td>São Paulo</td>\n",
       "      <td>376</td>\n",
       "      <td>3</td>\n",
       "      <td>3</td>\n",
       "      <td>7</td>\n",
       "      <td>0</td>\n",
       "      <td>acept</td>\n",
       "      <td>not furnished</td>\n",
       "      <td>8000</td>\n",
       "    </tr>\n",
       "    <tr>\n",
       "      <th>6</th>\n",
       "      <td>Rio de Janeiro</td>\n",
       "      <td>72</td>\n",
       "      <td>2</td>\n",
       "      <td>1</td>\n",
       "      <td>0</td>\n",
       "      <td>7</td>\n",
       "      <td>acept</td>\n",
       "      <td>not furnished</td>\n",
       "      <td>8000</td>\n",
       "    </tr>\n",
       "    <tr>\n",
       "      <th>...</th>\n",
       "      <td>...</td>\n",
       "      <td>...</td>\n",
       "      <td>...</td>\n",
       "      <td>...</td>\n",
       "      <td>...</td>\n",
       "      <td>...</td>\n",
       "      <td>...</td>\n",
       "      <td>...</td>\n",
       "      <td>...</td>\n",
       "    </tr>\n",
       "    <tr>\n",
       "      <th>10686</th>\n",
       "      <td>São Paulo</td>\n",
       "      <td>150</td>\n",
       "      <td>3</td>\n",
       "      <td>3</td>\n",
       "      <td>2</td>\n",
       "      <td>8</td>\n",
       "      <td>not acept</td>\n",
       "      <td>furnished</td>\n",
       "      <td>13500</td>\n",
       "    </tr>\n",
       "    <tr>\n",
       "      <th>10688</th>\n",
       "      <td>São Paulo</td>\n",
       "      <td>285</td>\n",
       "      <td>4</td>\n",
       "      <td>4</td>\n",
       "      <td>4</td>\n",
       "      <td>17</td>\n",
       "      <td>acept</td>\n",
       "      <td>not furnished</td>\n",
       "      <td>15000</td>\n",
       "    </tr>\n",
       "    <tr>\n",
       "      <th>10689</th>\n",
       "      <td>Rio de Janeiro</td>\n",
       "      <td>70</td>\n",
       "      <td>3</td>\n",
       "      <td>3</td>\n",
       "      <td>0</td>\n",
       "      <td>8</td>\n",
       "      <td>not acept</td>\n",
       "      <td>furnished</td>\n",
       "      <td>6000</td>\n",
       "    </tr>\n",
       "    <tr>\n",
       "      <th>10690</th>\n",
       "      <td>Rio de Janeiro</td>\n",
       "      <td>120</td>\n",
       "      <td>2</td>\n",
       "      <td>2</td>\n",
       "      <td>2</td>\n",
       "      <td>8</td>\n",
       "      <td>acept</td>\n",
       "      <td>furnished</td>\n",
       "      <td>12000</td>\n",
       "    </tr>\n",
       "    <tr>\n",
       "      <th>10691</th>\n",
       "      <td>São Paulo</td>\n",
       "      <td>80</td>\n",
       "      <td>2</td>\n",
       "      <td>1</td>\n",
       "      <td>0</td>\n",
       "      <td>0</td>\n",
       "      <td>acept</td>\n",
       "      <td>not furnished</td>\n",
       "      <td>1400</td>\n",
       "    </tr>\n",
       "  </tbody>\n",
       "</table>\n",
       "<p>8646 rows × 9 columns</p>\n",
       "</div>"
      ],
      "text/plain": [
       "                 city  area  rooms  bathroom  parking spaces  floor  \\\n",
       "0           São Paulo    70      2         1               1      7   \n",
       "1           São Paulo   320      4         4               0     20   \n",
       "4           São Paulo    25      1         1               0      1   \n",
       "5           São Paulo   376      3         3               7      0   \n",
       "6      Rio de Janeiro    72      2         1               0      7   \n",
       "...               ...   ...    ...       ...             ...    ...   \n",
       "10686       São Paulo   150      3         3               2      8   \n",
       "10688       São Paulo   285      4         4               4     17   \n",
       "10689  Rio de Janeiro    70      3         3               0      8   \n",
       "10690  Rio de Janeiro   120      2         2               2      8   \n",
       "10691       São Paulo    80      2         1               0      0   \n",
       "\n",
       "          animal      furniture  rent amount (R$)  \n",
       "0          acept      furnished              3300  \n",
       "1          acept  not furnished              4960  \n",
       "4      not acept  not furnished               800  \n",
       "5          acept  not furnished              8000  \n",
       "6          acept  not furnished              8000  \n",
       "...          ...            ...               ...  \n",
       "10686  not acept      furnished             13500  \n",
       "10688      acept  not furnished             15000  \n",
       "10689  not acept      furnished              6000  \n",
       "10690      acept      furnished             12000  \n",
       "10691      acept  not furnished              1400  \n",
       "\n",
       "[8646 rows x 9 columns]"
      ]
     },
     "execution_count": 22,
     "metadata": {},
     "output_type": "execute_result"
    }
   ],
   "source": [
    "df"
   ]
  },
  {
   "cell_type": "markdown",
   "id": "5ba7ade6",
   "metadata": {},
   "source": [
    "## 1) Foi divido em 70% para treino e 30% para teste - essa % foi escolhida dado que 30% do dataset corresponde a 2594 linhas , dados  suficientes para se ter uma estimativa precisa do risco. A separação entre treino e teste foi realizada antes para evitar data leakage."
   ]
  },
  {
   "cell_type": "code",
   "execution_count": 23,
   "id": "c4168e60",
   "metadata": {},
   "outputs": [],
   "source": [
    "x_train, x_test, y_train, y_test = train_test_split(df.drop('rent amount (R$)', axis=1), df['rent amount (R$)'], test_size=0.3, random_state=42)"
   ]
  },
  {
   "cell_type": "markdown",
   "id": "20a7efd2",
   "metadata": {},
   "source": [
    "### Transformando valores "
   ]
  },
  {
   "cell_type": "code",
   "execution_count": 24,
   "id": "26704bc7",
   "metadata": {
    "scrolled": true
   },
   "outputs": [],
   "source": [
    "transformer = make_column_transformer((StandardScaler(), ['area', 'rooms', 'bathroom', 'parking spaces', 'floor']),(OneHotEncoder(), ['city']),(OrdinalEncoder(categories= [[\"not acept\", \"acept\"]]),['animal']),(OrdinalEncoder(categories= [[\"not furnished\", \"furnished\"]]),['furniture']))"
   ]
  },
  {
   "cell_type": "code",
   "execution_count": 25,
   "id": "11e1960e",
   "metadata": {},
   "outputs": [],
   "source": [
    "x_train_transf = transformer.fit_transform(x_train)\n",
    "x_test_transf = transformer.fit_transform(x_test)"
   ]
  },
  {
   "cell_type": "code",
   "execution_count": 26,
   "id": "6bb2ad0b",
   "metadata": {},
   "outputs": [
    {
     "data": {
      "text/plain": [
       "array([[-0.18294409, -0.48275262, -0.93249572, ...,  1.        ,\n",
       "         1.        ,  0.        ],\n",
       "       [ 0.05485989,  0.36213427,  1.1571602 , ...,  1.        ,\n",
       "         1.        ,  0.        ],\n",
       "       [-0.0107412 ,  0.36213427, -0.23594375, ...,  1.        ,\n",
       "         1.        ,  0.        ],\n",
       "       ...,\n",
       "       [ 0.25166319,  1.20702116,  1.85371218, ...,  1.        ,\n",
       "         1.        ,  1.        ],\n",
       "       [-0.09274258, -0.48275262, -0.23594375, ...,  1.        ,\n",
       "         1.        ,  0.        ],\n",
       "       [ 0.23526291,  2.05190805,  1.1571602 , ...,  1.        ,\n",
       "         1.        ,  0.        ]])"
      ]
     },
     "execution_count": 26,
     "metadata": {},
     "output_type": "execute_result"
    }
   ],
   "source": [
    "x_train_transf"
   ]
  },
  {
   "cell_type": "code",
   "execution_count": 27,
   "id": "ef2b675f",
   "metadata": {},
   "outputs": [],
   "source": [
    "df_transf = pd.DataFrame(x_train_transf, columns =['area','rooms','bathroom','parking spaces','floor','BH','RJ','SP', 'animal','furniture'] )"
   ]
  },
  {
   "cell_type": "code",
   "execution_count": 28,
   "id": "8d8a0aed",
   "metadata": {},
   "outputs": [
    {
     "data": {
      "text/html": [
       "<div>\n",
       "<style scoped>\n",
       "    .dataframe tbody tr th:only-of-type {\n",
       "        vertical-align: middle;\n",
       "    }\n",
       "\n",
       "    .dataframe tbody tr th {\n",
       "        vertical-align: top;\n",
       "    }\n",
       "\n",
       "    .dataframe thead th {\n",
       "        text-align: right;\n",
       "    }\n",
       "</style>\n",
       "<table border=\"1\" class=\"dataframe\">\n",
       "  <thead>\n",
       "    <tr style=\"text-align: right;\">\n",
       "      <th></th>\n",
       "      <th>area</th>\n",
       "      <th>rooms</th>\n",
       "      <th>bathroom</th>\n",
       "      <th>parking spaces</th>\n",
       "      <th>floor</th>\n",
       "      <th>BH</th>\n",
       "      <th>RJ</th>\n",
       "      <th>SP</th>\n",
       "      <th>animal</th>\n",
       "      <th>furniture</th>\n",
       "    </tr>\n",
       "  </thead>\n",
       "  <tbody>\n",
       "    <tr>\n",
       "      <th>0</th>\n",
       "      <td>-0.182944</td>\n",
       "      <td>-0.482753</td>\n",
       "      <td>-0.932496</td>\n",
       "      <td>-0.427787</td>\n",
       "      <td>1.222476</td>\n",
       "      <td>0.0</td>\n",
       "      <td>0.0</td>\n",
       "      <td>1.0</td>\n",
       "      <td>1.0</td>\n",
       "      <td>0.0</td>\n",
       "    </tr>\n",
       "    <tr>\n",
       "      <th>1</th>\n",
       "      <td>0.054860</td>\n",
       "      <td>0.362134</td>\n",
       "      <td>1.157160</td>\n",
       "      <td>1.412276</td>\n",
       "      <td>-0.949698</td>\n",
       "      <td>0.0</td>\n",
       "      <td>0.0</td>\n",
       "      <td>1.0</td>\n",
       "      <td>1.0</td>\n",
       "      <td>0.0</td>\n",
       "    </tr>\n",
       "    <tr>\n",
       "      <th>2</th>\n",
       "      <td>-0.010741</td>\n",
       "      <td>0.362134</td>\n",
       "      <td>-0.235944</td>\n",
       "      <td>-0.427787</td>\n",
       "      <td>-0.949698</td>\n",
       "      <td>0.0</td>\n",
       "      <td>0.0</td>\n",
       "      <td>1.0</td>\n",
       "      <td>1.0</td>\n",
       "      <td>0.0</td>\n",
       "    </tr>\n",
       "    <tr>\n",
       "      <th>3</th>\n",
       "      <td>-0.191144</td>\n",
       "      <td>-1.327640</td>\n",
       "      <td>-0.932496</td>\n",
       "      <td>-1.041141</td>\n",
       "      <td>-0.768684</td>\n",
       "      <td>0.0</td>\n",
       "      <td>1.0</td>\n",
       "      <td>0.0</td>\n",
       "      <td>1.0</td>\n",
       "      <td>0.0</td>\n",
       "    </tr>\n",
       "    <tr>\n",
       "      <th>4</th>\n",
       "      <td>-0.027141</td>\n",
       "      <td>1.207021</td>\n",
       "      <td>0.460608</td>\n",
       "      <td>0.798921</td>\n",
       "      <td>-0.225640</td>\n",
       "      <td>1.0</td>\n",
       "      <td>0.0</td>\n",
       "      <td>0.0</td>\n",
       "      <td>1.0</td>\n",
       "      <td>0.0</td>\n",
       "    </tr>\n",
       "    <tr>\n",
       "      <th>...</th>\n",
       "      <td>...</td>\n",
       "      <td>...</td>\n",
       "      <td>...</td>\n",
       "      <td>...</td>\n",
       "      <td>...</td>\n",
       "      <td>...</td>\n",
       "      <td>...</td>\n",
       "      <td>...</td>\n",
       "      <td>...</td>\n",
       "      <td>...</td>\n",
       "    </tr>\n",
       "    <tr>\n",
       "      <th>6047</th>\n",
       "      <td>0.038460</td>\n",
       "      <td>0.362134</td>\n",
       "      <td>-0.235944</td>\n",
       "      <td>0.185567</td>\n",
       "      <td>-0.406655</td>\n",
       "      <td>0.0</td>\n",
       "      <td>0.0</td>\n",
       "      <td>1.0</td>\n",
       "      <td>1.0</td>\n",
       "      <td>0.0</td>\n",
       "    </tr>\n",
       "    <tr>\n",
       "      <th>6048</th>\n",
       "      <td>0.235263</td>\n",
       "      <td>0.362134</td>\n",
       "      <td>-0.235944</td>\n",
       "      <td>-0.427787</td>\n",
       "      <td>-0.949698</td>\n",
       "      <td>0.0</td>\n",
       "      <td>0.0</td>\n",
       "      <td>1.0</td>\n",
       "      <td>1.0</td>\n",
       "      <td>0.0</td>\n",
       "    </tr>\n",
       "    <tr>\n",
       "      <th>6049</th>\n",
       "      <td>0.251663</td>\n",
       "      <td>1.207021</td>\n",
       "      <td>1.853712</td>\n",
       "      <td>2.025630</td>\n",
       "      <td>0.136389</td>\n",
       "      <td>0.0</td>\n",
       "      <td>0.0</td>\n",
       "      <td>1.0</td>\n",
       "      <td>1.0</td>\n",
       "      <td>1.0</td>\n",
       "    </tr>\n",
       "    <tr>\n",
       "      <th>6050</th>\n",
       "      <td>-0.092743</td>\n",
       "      <td>-0.482753</td>\n",
       "      <td>-0.235944</td>\n",
       "      <td>-0.427787</td>\n",
       "      <td>-0.406655</td>\n",
       "      <td>0.0</td>\n",
       "      <td>0.0</td>\n",
       "      <td>1.0</td>\n",
       "      <td>1.0</td>\n",
       "      <td>0.0</td>\n",
       "    </tr>\n",
       "    <tr>\n",
       "      <th>6051</th>\n",
       "      <td>0.235263</td>\n",
       "      <td>2.051908</td>\n",
       "      <td>1.157160</td>\n",
       "      <td>2.025630</td>\n",
       "      <td>-0.949698</td>\n",
       "      <td>0.0</td>\n",
       "      <td>0.0</td>\n",
       "      <td>1.0</td>\n",
       "      <td>1.0</td>\n",
       "      <td>0.0</td>\n",
       "    </tr>\n",
       "  </tbody>\n",
       "</table>\n",
       "<p>6052 rows × 10 columns</p>\n",
       "</div>"
      ],
      "text/plain": [
       "          area     rooms  bathroom  parking spaces     floor   BH   RJ   SP  \\\n",
       "0    -0.182944 -0.482753 -0.932496       -0.427787  1.222476  0.0  0.0  1.0   \n",
       "1     0.054860  0.362134  1.157160        1.412276 -0.949698  0.0  0.0  1.0   \n",
       "2    -0.010741  0.362134 -0.235944       -0.427787 -0.949698  0.0  0.0  1.0   \n",
       "3    -0.191144 -1.327640 -0.932496       -1.041141 -0.768684  0.0  1.0  0.0   \n",
       "4    -0.027141  1.207021  0.460608        0.798921 -0.225640  1.0  0.0  0.0   \n",
       "...        ...       ...       ...             ...       ...  ...  ...  ...   \n",
       "6047  0.038460  0.362134 -0.235944        0.185567 -0.406655  0.0  0.0  1.0   \n",
       "6048  0.235263  0.362134 -0.235944       -0.427787 -0.949698  0.0  0.0  1.0   \n",
       "6049  0.251663  1.207021  1.853712        2.025630  0.136389  0.0  0.0  1.0   \n",
       "6050 -0.092743 -0.482753 -0.235944       -0.427787 -0.406655  0.0  0.0  1.0   \n",
       "6051  0.235263  2.051908  1.157160        2.025630 -0.949698  0.0  0.0  1.0   \n",
       "\n",
       "      animal  furniture  \n",
       "0        1.0        0.0  \n",
       "1        1.0        0.0  \n",
       "2        1.0        0.0  \n",
       "3        1.0        0.0  \n",
       "4        1.0        0.0  \n",
       "...      ...        ...  \n",
       "6047     1.0        0.0  \n",
       "6048     1.0        0.0  \n",
       "6049     1.0        1.0  \n",
       "6050     1.0        0.0  \n",
       "6051     1.0        0.0  \n",
       "\n",
       "[6052 rows x 10 columns]"
      ]
     },
     "execution_count": 28,
     "metadata": {},
     "output_type": "execute_result"
    }
   ],
   "source": [
    "df_transf"
   ]
  },
  {
   "cell_type": "code",
   "execution_count": 29,
   "id": "5f860798",
   "metadata": {},
   "outputs": [
    {
     "data": {
      "text/plain": [
       "4482     1620\n",
       "401      5000\n",
       "7218     1450\n",
       "2881     1180\n",
       "5194     3400\n",
       "        ...  \n",
       "7077     2500\n",
       "6417     3900\n",
       "6655    12000\n",
       "1059     1850\n",
       "8992     8500\n",
       "Name: rent amount (R$), Length: 6052, dtype: int64"
      ]
     },
     "execution_count": 29,
     "metadata": {},
     "output_type": "execute_result"
    }
   ],
   "source": [
    "y_train"
   ]
  },
  {
   "cell_type": "code",
   "execution_count": 30,
   "id": "3ba6a85a",
   "metadata": {},
   "outputs": [],
   "source": [
    "y_train_transf = np.log(y_train)\n",
    "y_test_transf = np.log(y_test)"
   ]
  },
  {
   "cell_type": "markdown",
   "id": "74712640",
   "metadata": {},
   "source": [
    "# Regressão Linear Simples (mínimos quadrados)"
   ]
  },
  {
   "cell_type": "code",
   "execution_count": 31,
   "id": "c01f9544",
   "metadata": {},
   "outputs": [],
   "source": [
    "LR = LinearRegression()"
   ]
  },
  {
   "cell_type": "code",
   "execution_count": 32,
   "id": "16c3a527",
   "metadata": {},
   "outputs": [
    {
     "data": {
      "text/plain": [
       "LinearRegression()"
      ]
     },
     "execution_count": 32,
     "metadata": {},
     "output_type": "execute_result"
    }
   ],
   "source": [
    "LR.fit(x_train_transf,y_train_transf)"
   ]
  },
  {
   "cell_type": "code",
   "execution_count": 33,
   "id": "b65802dd",
   "metadata": {},
   "outputs": [
    {
     "data": {
      "text/plain": [
       "array([ 0.00653011,  0.18363007,  0.26935842,  0.15903731,  0.07905013,\n",
       "       -0.19441368,  0.06181762,  0.13259607,  0.01583549,  0.36218641])"
      ]
     },
     "execution_count": 33,
     "metadata": {},
     "output_type": "execute_result"
    }
   ],
   "source": [
    "LR.coef_"
   ]
  },
  {
   "cell_type": "code",
   "execution_count": 34,
   "id": "a35306f3",
   "metadata": {},
   "outputs": [],
   "source": [
    "coeff_df_lr = pd.DataFrame(LR.coef_,df_transf.columns,columns=['Coefficient'])"
   ]
  },
  {
   "cell_type": "code",
   "execution_count": 35,
   "id": "7151c381",
   "metadata": {},
   "outputs": [],
   "source": [
    "coeff_df_lr = coeff_df_lr.sort_values(by='Coefficient', ascending=True)"
   ]
  },
  {
   "cell_type": "code",
   "execution_count": 36,
   "id": "64cdccaf",
   "metadata": {},
   "outputs": [
    {
     "data": {
      "text/html": [
       "<div>\n",
       "<style scoped>\n",
       "    .dataframe tbody tr th:only-of-type {\n",
       "        vertical-align: middle;\n",
       "    }\n",
       "\n",
       "    .dataframe tbody tr th {\n",
       "        vertical-align: top;\n",
       "    }\n",
       "\n",
       "    .dataframe thead th {\n",
       "        text-align: right;\n",
       "    }\n",
       "</style>\n",
       "<table border=\"1\" class=\"dataframe\">\n",
       "  <thead>\n",
       "    <tr style=\"text-align: right;\">\n",
       "      <th></th>\n",
       "      <th>Coefficient</th>\n",
       "    </tr>\n",
       "  </thead>\n",
       "  <tbody>\n",
       "    <tr>\n",
       "      <th>BH</th>\n",
       "      <td>-0.194414</td>\n",
       "    </tr>\n",
       "    <tr>\n",
       "      <th>area</th>\n",
       "      <td>0.006530</td>\n",
       "    </tr>\n",
       "    <tr>\n",
       "      <th>animal</th>\n",
       "      <td>0.015835</td>\n",
       "    </tr>\n",
       "    <tr>\n",
       "      <th>RJ</th>\n",
       "      <td>0.061818</td>\n",
       "    </tr>\n",
       "    <tr>\n",
       "      <th>floor</th>\n",
       "      <td>0.079050</td>\n",
       "    </tr>\n",
       "    <tr>\n",
       "      <th>SP</th>\n",
       "      <td>0.132596</td>\n",
       "    </tr>\n",
       "    <tr>\n",
       "      <th>parking spaces</th>\n",
       "      <td>0.159037</td>\n",
       "    </tr>\n",
       "    <tr>\n",
       "      <th>rooms</th>\n",
       "      <td>0.183630</td>\n",
       "    </tr>\n",
       "    <tr>\n",
       "      <th>bathroom</th>\n",
       "      <td>0.269358</td>\n",
       "    </tr>\n",
       "    <tr>\n",
       "      <th>furniture</th>\n",
       "      <td>0.362186</td>\n",
       "    </tr>\n",
       "  </tbody>\n",
       "</table>\n",
       "</div>"
      ],
      "text/plain": [
       "                Coefficient\n",
       "BH                -0.194414\n",
       "area               0.006530\n",
       "animal             0.015835\n",
       "RJ                 0.061818\n",
       "floor              0.079050\n",
       "SP                 0.132596\n",
       "parking spaces     0.159037\n",
       "rooms              0.183630\n",
       "bathroom           0.269358\n",
       "furniture          0.362186"
      ]
     },
     "execution_count": 36,
     "metadata": {},
     "output_type": "execute_result"
    }
   ],
   "source": [
    "coeff_df_lr"
   ]
  },
  {
   "cell_type": "code",
   "execution_count": 37,
   "id": "921d18d8",
   "metadata": {},
   "outputs": [
    {
     "name": "stdout",
     "output_type": "stream",
     "text": [
      "Intercepto: 7.887078498624727\n"
     ]
    }
   ],
   "source": [
    "print('Intercepto:',LR.intercept_)"
   ]
  },
  {
   "cell_type": "code",
   "execution_count": 38,
   "id": "74e2345b",
   "metadata": {},
   "outputs": [
    {
     "data": {
      "image/png": "[encoded data removed]",
      "text/plain": [
       "<Figure size 576x432 with 1 Axes>"
      ]
     },
     "metadata": {},
     "output_type": "display_data"
    }
   ],
   "source": [
    "fig = plt.figure(figsize=(8, 6))\n",
    "ax = fig.add_axes([0,0,1,1])\n",
    "plt.xlabel(\"Valores dos coeficientes\")\n",
    "plt.ylabel(\"Coeficientes\")\n",
    "plt.title('COEFICIENTES REGRESSÃO LINEAR (MQ)')\n",
    "ax.barh(coeff_df_lr.index,coeff_df_lr['Coefficient'])\n",
    "plt.show()"
   ]
  },
  {
   "cell_type": "code",
   "execution_count": 39,
   "id": "8769234d",
   "metadata": {},
   "outputs": [],
   "source": [
    "scores = cross_val_score(LR, x_train_transf, y_train_transf, cv=5,scoring='neg_mean_squared_error')"
   ]
  },
  {
   "cell_type": "code",
   "execution_count": 40,
   "id": "47c0e2b9",
   "metadata": {},
   "outputs": [
    {
     "data": {
      "text/plain": [
       "array([0.25119971, 0.24721002, 3.70887021, 0.25425497, 0.24168008])"
      ]
     },
     "execution_count": 40,
     "metadata": {},
     "output_type": "execute_result"
    }
   ],
   "source": [
    "(-1*scores)"
   ]
  },
  {
   "cell_type": "markdown",
   "id": "9e8d9bc0",
   "metadata": {},
   "source": [
    "# Lasso"
   ]
  },
  {
   "cell_type": "code",
   "execution_count": 41,
   "id": "2b3b058b",
   "metadata": {},
   "outputs": [],
   "source": [
    "lambdas_lasso = np.logspace(-3, 0, 30)"
   ]
  },
  {
   "cell_type": "code",
   "execution_count": 42,
   "id": "226c1395",
   "metadata": {},
   "outputs": [
    {
     "data": {
      "text/plain": [
       "GridSearchCV(cv=5, estimator=Lasso(),\n",
       "             param_grid={'alpha': array([0.001     , 0.00126896, 0.00161026, 0.00204336, 0.00259294,\n",
       "       0.00329034, 0.00417532, 0.00529832, 0.00672336, 0.00853168,\n",
       "       0.01082637, 0.01373824, 0.01743329, 0.02212216, 0.02807216,\n",
       "       0.03562248, 0.04520354, 0.05736153, 0.07278954, 0.09236709,\n",
       "       0.11721023, 0.14873521, 0.18873918, 0.23950266, 0.30391954,\n",
       "       0.38566204, 0.48939009, 0.62101694, 0.78804628, 1.        ])},\n",
       "             scoring='neg_mean_squared_error')"
      ]
     },
     "execution_count": 42,
     "metadata": {},
     "output_type": "execute_result"
    }
   ],
   "source": [
    "lasso = Lasso()\n",
    "grid_lasso = GridSearchCV(estimator=lasso, param_grid=dict(alpha=lambdas_lasso), cv=5, scoring = 'neg_mean_squared_error')\n",
    "grid_lasso.fit(x_train_transf,y_train_transf)"
   ]
  },
  {
   "cell_type": "code",
   "execution_count": 43,
   "id": "4ef1982d",
   "metadata": {},
   "outputs": [],
   "source": [
    "scores_lasso =(-grid_lasso.cv_results_['mean_test_score'])"
   ]
  },
  {
   "cell_type": "code",
   "execution_count": 44,
   "id": "a2199f2f",
   "metadata": {},
   "outputs": [
    {
     "data": {
      "text/plain": [
       "(0.001, 1.0)"
      ]
     },
     "execution_count": 44,
     "metadata": {},
     "output_type": "execute_result"
    },
    {
     "data": {
      "image/png": "[encoded data removed]",
      "text/plain": [
       "<Figure size 720x576 with 1 Axes>"
      ]
     },
     "metadata": {},
     "output_type": "display_data"
    }
   ],
   "source": [
    "plt.figure().set_size_inches(10, 8)\n",
    "plt.semilogx(lambdas_lasso, scores_lasso)\n",
    "plt.ylabel('MSE')\n",
    "plt.xlabel('lambda')\n",
    "plt.title('MSE X LAMBDA (LASSO)')\n",
    "plt.axhline(np.min(scores_lasso), linestyle='--', color='.5')\n",
    "plt.xlim([lambdas_lasso[0], lambdas_lasso[-1]])"
   ]
  },
  {
   "cell_type": "markdown",
   "id": "736702ba",
   "metadata": {},
   "source": [
    "### Menor erro médio quadrado - lasso"
   ]
  },
  {
   "cell_type": "code",
   "execution_count": 45,
   "id": "86a75876",
   "metadata": {},
   "outputs": [
    {
     "data": {
      "text/plain": [
       "0.25620389663119003"
      ]
     },
     "execution_count": 45,
     "metadata": {},
     "output_type": "execute_result"
    }
   ],
   "source": [
    "np.min(scores_lasso)"
   ]
  },
  {
   "cell_type": "markdown",
   "id": "e5db7f31",
   "metadata": {},
   "source": [
    "## 2) Lambda que minimiza o MSE - lasso"
   ]
  },
  {
   "cell_type": "code",
   "execution_count": 46,
   "id": "4c60bf76",
   "metadata": {},
   "outputs": [
    {
     "data": {
      "text/plain": [
       "0.022122162910704492"
      ]
     },
     "execution_count": 46,
     "metadata": {},
     "output_type": "execute_result"
    }
   ],
   "source": [
    "lambdas_lasso[np.argmin(scores_lasso)]"
   ]
  },
  {
   "cell_type": "markdown",
   "id": "e6dd00d4",
   "metadata": {},
   "source": [
    "### Coefientes do modelo Lasso com lambda = 0.022122162910704492"
   ]
  },
  {
   "cell_type": "code",
   "execution_count": 47,
   "id": "ed5f0e44",
   "metadata": {},
   "outputs": [],
   "source": [
    "reg_lasso = Lasso (alpha= lambdas_lasso[np.argmin(scores_lasso)])"
   ]
  },
  {
   "cell_type": "code",
   "execution_count": 48,
   "id": "97eb5dd3",
   "metadata": {},
   "outputs": [
    {
     "data": {
      "text/plain": [
       "Lasso(alpha=0.022122162910704492)"
      ]
     },
     "execution_count": 48,
     "metadata": {},
     "output_type": "execute_result"
    }
   ],
   "source": [
    "reg_lasso.fit(x_train_transf,y_train_transf)"
   ]
  },
  {
   "cell_type": "code",
   "execution_count": 49,
   "id": "dec66da3",
   "metadata": {},
   "outputs": [
    {
     "data": {
      "text/plain": [
       "array([ 0.        ,  0.14183769,  0.28919727,  0.14730014,  0.06592028,\n",
       "       -0.09807924, -0.        ,  0.04803296,  0.        ,  0.25598119])"
      ]
     },
     "execution_count": 49,
     "metadata": {},
     "output_type": "execute_result"
    }
   ],
   "source": [
    "reg_lasso.coef_"
   ]
  },
  {
   "cell_type": "code",
   "execution_count": 50,
   "id": "3357e0ad",
   "metadata": {},
   "outputs": [],
   "source": [
    "coeff_df_lasso = pd.DataFrame(reg_lasso.coef_,df_transf.columns,columns=['Coefficient'])"
   ]
  },
  {
   "cell_type": "code",
   "execution_count": 51,
   "id": "c3f8b405",
   "metadata": {
    "scrolled": false
   },
   "outputs": [],
   "source": [
    "coeff_df_lasso =coeff_df_lasso.sort_values(by='Coefficient', ascending=True)"
   ]
  },
  {
   "cell_type": "markdown",
   "id": "e5fc595e",
   "metadata": {},
   "source": [
    "### Intercepto - lasso"
   ]
  },
  {
   "cell_type": "code",
   "execution_count": 52,
   "id": "7d0e52a3",
   "metadata": {},
   "outputs": [
    {
     "name": "stdout",
     "output_type": "stream",
     "text": [
      "Intercepto: 7.980140028673816\n"
     ]
    }
   ],
   "source": [
    "print('Intercepto:',reg_lasso.intercept_)"
   ]
  },
  {
   "cell_type": "code",
   "execution_count": 53,
   "id": "9bb4062c",
   "metadata": {},
   "outputs": [
    {
     "data": {
      "image/png": "[encoded data removed]",
      "text/plain": [
       "<Figure size 576x432 with 1 Axes>"
      ]
     },
     "metadata": {},
     "output_type": "display_data"
    }
   ],
   "source": [
    "fig = plt.figure(figsize=(8, 6))\n",
    "ax = fig.add_axes([0,0,1,1])\n",
    "plt.xlabel(\"Valores dos coeficientes\")\n",
    "plt.ylabel(\"Coeficientes\")\n",
    "plt.title('COEFICIENTES LASSO')\n",
    "ax.barh(coeff_df_lasso.index,coeff_df_lasso['Coefficient'])\n",
    "plt.show()"
   ]
  },
  {
   "cell_type": "markdown",
   "id": "1f2f4e4b",
   "metadata": {},
   "source": [
    "# Ridge"
   ]
  },
  {
   "cell_type": "code",
   "execution_count": 54,
   "id": "5a719947",
   "metadata": {},
   "outputs": [],
   "source": [
    "lambdas_ridge = np.logspace(-3, 8,100)"
   ]
  },
  {
   "cell_type": "code",
   "execution_count": 55,
   "id": "cf0db04a",
   "metadata": {},
   "outputs": [
    {
     "data": {
      "text/plain": [
       "GridSearchCV(cv=5, estimator=Ridge(),\n",
       "             param_grid={'alpha': array([1.00000000e-03, 1.29154967e-03, 1.66810054e-03, 2.15443469e-03,\n",
       "       2.78255940e-03, 3.59381366e-03, 4.64158883e-03, 5.99484250e-03,\n",
       "       7.74263683e-03, 1.00000000e-02, 1.29154967e-02, 1.66810054e-02,\n",
       "       2.15443469e-02, 2.78255940e-02, 3.59381366e-02, 4.64158883e-02,\n",
       "       5.99484250e-02, 7.74263683e-02, 1.00000000e-01, 1....\n",
       "       2.78255940e+05, 3.59381366e+05, 4.64158883e+05, 5.99484250e+05,\n",
       "       7.74263683e+05, 1.00000000e+06, 1.29154967e+06, 1.66810054e+06,\n",
       "       2.15443469e+06, 2.78255940e+06, 3.59381366e+06, 4.64158883e+06,\n",
       "       5.99484250e+06, 7.74263683e+06, 1.00000000e+07, 1.29154967e+07,\n",
       "       1.66810054e+07, 2.15443469e+07, 2.78255940e+07, 3.59381366e+07,\n",
       "       4.64158883e+07, 5.99484250e+07, 7.74263683e+07, 1.00000000e+08])},\n",
       "             scoring='neg_mean_squared_error')"
      ]
     },
     "execution_count": 55,
     "metadata": {},
     "output_type": "execute_result"
    }
   ],
   "source": [
    "ridge = Ridge()\n",
    "grid_ridge = GridSearchCV(estimator=ridge, param_grid=dict(alpha=lambdas_ridge), cv=5, scoring = 'neg_mean_squared_error')\n",
    "grid_ridge.fit(x_train_transf,y_train_transf)"
   ]
  },
  {
   "cell_type": "code",
   "execution_count": 56,
   "id": "2e2836ec",
   "metadata": {},
   "outputs": [],
   "source": [
    "scores_ridge =-(grid_ridge.cv_results_['mean_test_score'])"
   ]
  },
  {
   "cell_type": "code",
   "execution_count": 57,
   "id": "32a13560",
   "metadata": {},
   "outputs": [
    {
     "data": {
      "text/plain": [
       "(0.001, 100000000.0)"
      ]
     },
     "execution_count": 57,
     "metadata": {},
     "output_type": "execute_result"
    },
    {
     "data": {
      "image/png": "[encoded data removed]",
      "text/plain": [
       "<Figure size 720x576 with 1 Axes>"
      ]
     },
     "metadata": {},
     "output_type": "display_data"
    }
   ],
   "source": [
    "plt.figure().set_size_inches(10, 8)\n",
    "plt.semilogx(lambdas_ridge, scores_ridge)\n",
    "plt.ylabel('MSE')\n",
    "plt.xlabel('lambda')\n",
    "plt.title('MSE X LAMBDA (RIDGE)')\n",
    "plt.axhline(np.min(scores_ridge), linestyle='--', color='.5')\n",
    "plt.xlim([lambdas_ridge[0], lambdas_ridge[-1]])"
   ]
  },
  {
   "cell_type": "markdown",
   "id": "141464c4",
   "metadata": {},
   "source": [
    "### Menor erro médio quadrado - ridge"
   ]
  },
  {
   "cell_type": "code",
   "execution_count": 58,
   "id": "d67165a0",
   "metadata": {},
   "outputs": [
    {
     "data": {
      "text/plain": [
       "0.2717718388409788"
      ]
     },
     "execution_count": 58,
     "metadata": {},
     "output_type": "execute_result"
    }
   ],
   "source": [
    "np.min(scores_ridge)"
   ]
  },
  {
   "cell_type": "markdown",
   "id": "45cf0836",
   "metadata": {},
   "source": [
    "### Lambda que minimiza o MSE - ridge"
   ]
  },
  {
   "cell_type": "code",
   "execution_count": 59,
   "id": "baff4b33",
   "metadata": {},
   "outputs": [
    {
     "data": {
      "text/plain": [
       "1000.0"
      ]
     },
     "execution_count": 59,
     "metadata": {},
     "output_type": "execute_result"
    }
   ],
   "source": [
    "lambdas_ridge[np.argmin(scores_ridge)]"
   ]
  },
  {
   "cell_type": "markdown",
   "id": "7192f0ee",
   "metadata": {},
   "source": [
    "### Coefientes do modelo Ridge com lambda = 1000"
   ]
  },
  {
   "cell_type": "code",
   "execution_count": 60,
   "id": "9d7b2172",
   "metadata": {},
   "outputs": [],
   "source": [
    "reg_ridge = Ridge(alpha= lambdas_ridge[np.argmin(scores_ridge)])"
   ]
  },
  {
   "cell_type": "code",
   "execution_count": 61,
   "id": "d26bf9b4",
   "metadata": {},
   "outputs": [
    {
     "data": {
      "text/plain": [
       "Ridge(alpha=1000.0)"
      ]
     },
     "execution_count": 61,
     "metadata": {},
     "output_type": "execute_result"
    }
   ],
   "source": [
    "reg_ridge.fit(x_train_transf,y_train_transf)"
   ]
  },
  {
   "cell_type": "code",
   "execution_count": 62,
   "id": "e87dc577",
   "metadata": {},
   "outputs": [
    {
     "data": {
      "text/plain": [
       "array([ 0.01310162,  0.16118681,  0.24446822,  0.15756615,  0.07855396,\n",
       "       -0.10728413,  0.0137658 ,  0.09351833,  0.01213689,  0.19809294])"
      ]
     },
     "execution_count": 62,
     "metadata": {},
     "output_type": "execute_result"
    }
   ],
   "source": [
    "reg_ridge.coef_"
   ]
  },
  {
   "cell_type": "code",
   "execution_count": 63,
   "id": "cb39924f",
   "metadata": {},
   "outputs": [],
   "source": [
    "coeff_df_ridge = pd.DataFrame(reg_ridge.coef_,df_transf.columns,columns=['Coefficient'])"
   ]
  },
  {
   "cell_type": "code",
   "execution_count": 64,
   "id": "112cbb67",
   "metadata": {},
   "outputs": [],
   "source": [
    "coeff_df_ridge = coeff_df_ridge.sort_values(by='Coefficient', ascending=True)"
   ]
  },
  {
   "cell_type": "code",
   "execution_count": 65,
   "id": "bba00bdc",
   "metadata": {},
   "outputs": [
    {
     "data": {
      "text/plain": [
       "BH               -0.107284\n",
       "animal            0.012137\n",
       "area              0.013102\n",
       "RJ                0.013766\n",
       "floor             0.078554\n",
       "SP                0.093518\n",
       "parking spaces    0.157566\n",
       "rooms             0.161187\n",
       "furniture         0.198093\n",
       "bathroom          0.244468\n",
       "Name: Coefficient, dtype: float64"
      ]
     },
     "execution_count": 65,
     "metadata": {},
     "output_type": "execute_result"
    }
   ],
   "source": [
    "coeff_df_ridge['Coefficient']"
   ]
  },
  {
   "cell_type": "markdown",
   "id": "a97560a5",
   "metadata": {},
   "source": [
    "### Intercepto - Ridge"
   ]
  },
  {
   "cell_type": "code",
   "execution_count": 66,
   "id": "9fe72df9",
   "metadata": {},
   "outputs": [
    {
     "name": "stdout",
     "output_type": "stream",
     "text": [
      "Intercepto: 7.980140028673816\n"
     ]
    }
   ],
   "source": [
    "print('Intercepto:',reg_lasso.intercept_)"
   ]
  },
  {
   "cell_type": "markdown",
   "id": "124cd87d",
   "metadata": {},
   "source": [
    "# Validação dos modelos\n",
    "### Para escolher o melhor modelo , foi utilizado o Mean Absolute error evitando assim erros inflados (os dados voltaram para a mesma escala exp() ) "
   ]
  },
  {
   "cell_type": "code",
   "execution_count": 67,
   "id": "86f919f5",
   "metadata": {},
   "outputs": [],
   "source": [
    "y_pred_lr = LR.predict(x_test_transf)\n",
    "y_pred_lasso = reg_lasso.predict(x_test_transf)\n",
    "y_pred_ridge = reg_ridge.predict(x_test_transf)"
   ]
  },
  {
   "cell_type": "markdown",
   "id": "92db7171",
   "metadata": {},
   "source": [
    "### Intervalo de confiança"
   ]
  },
  {
   "cell_type": "code",
   "execution_count": 68,
   "id": "d2068623",
   "metadata": {},
   "outputs": [],
   "source": [
    "def std_error(loss_func , y_pred , y_test):\n",
    "    ic = np.sqrt((1/len(y_test))*np.mean((abs(y_pred - y_test) - (loss_func(y_test, y_pred)))**2))\n",
    "    return(2*ic)"
   ]
  },
  {
   "cell_type": "code",
   "execution_count": 69,
   "id": "b4f1812f",
   "metadata": {},
   "outputs": [],
   "source": [
    "std_error_lr = std_error(mean_absolute_error,np.exp(y_pred_lr),np.exp(y_test_transf))\n",
    "std_error_lasso = std_error(mean_absolute_error,np.exp(y_pred_lasso),np.exp(y_test_transf))\n",
    "std_error_ridge = std_error(mean_absolute_error,np.exp(y_pred_ridge),np.exp(y_test_transf))"
   ]
  },
  {
   "cell_type": "code",
   "execution_count": 70,
   "id": "a8d9c444",
   "metadata": {},
   "outputs": [],
   "source": [
    "mae_lr = mean_absolute_error(np.exp(y_test_transf), np.exp(y_pred_lr))\n",
    "mae_lasso = mean_absolute_error(np.exp(y_test_transf), np.exp(y_pred_lasso))\n",
    "mae_ridge = mean_absolute_error(np.exp(y_test_transf), np.exp(y_pred_ridge))"
   ]
  },
  {
   "cell_type": "code",
   "execution_count": 71,
   "id": "1d1e5d20",
   "metadata": {},
   "outputs": [],
   "source": [
    "df_validacao = {\"MODELOS\": [\"LR (MQ)\", \"LASSO\", \"RIDGE\"] ,\"MAE\": [mae_lr, mae_lasso, mae_ridge], \"IC_lower\": [(mae_lr - std_error_lr),(mae_lasso-std_error_lasso),(mae_ridge-std_error_ridge)],\"IC_power\": [(mae_lr+std_error_lr),(mae_lasso+std_error_lasso),(mae_ridge+std_error_ridge)]}"
   ]
  },
  {
   "cell_type": "code",
   "execution_count": 72,
   "id": "c73c2b83",
   "metadata": {},
   "outputs": [],
   "source": [
    "df_validacao = pd.DataFrame(df_validacao)"
   ]
  },
  {
   "cell_type": "code",
   "execution_count": 73,
   "id": "b00a8f62",
   "metadata": {},
   "outputs": [
    {
     "data": {
      "text/html": [
       "<div>\n",
       "<style scoped>\n",
       "    .dataframe tbody tr th:only-of-type {\n",
       "        vertical-align: middle;\n",
       "    }\n",
       "\n",
       "    .dataframe tbody tr th {\n",
       "        vertical-align: top;\n",
       "    }\n",
       "\n",
       "    .dataframe thead th {\n",
       "        text-align: right;\n",
       "    }\n",
       "</style>\n",
       "<table border=\"1\" class=\"dataframe\">\n",
       "  <thead>\n",
       "    <tr style=\"text-align: right;\">\n",
       "      <th></th>\n",
       "      <th>MODELOS</th>\n",
       "      <th>MAE</th>\n",
       "      <th>IC_lower</th>\n",
       "      <th>IC_power</th>\n",
       "    </tr>\n",
       "  </thead>\n",
       "  <tbody>\n",
       "    <tr>\n",
       "      <th>0</th>\n",
       "      <td>LR (MQ)</td>\n",
       "      <td>1778.188716</td>\n",
       "      <td>1679.462894</td>\n",
       "      <td>1876.914539</td>\n",
       "    </tr>\n",
       "    <tr>\n",
       "      <th>1</th>\n",
       "      <td>LASSO</td>\n",
       "      <td>1758.603323</td>\n",
       "      <td>1664.619025</td>\n",
       "      <td>1852.587620</td>\n",
       "    </tr>\n",
       "    <tr>\n",
       "      <th>2</th>\n",
       "      <td>RIDGE</td>\n",
       "      <td>1754.692169</td>\n",
       "      <td>1662.052114</td>\n",
       "      <td>1847.332224</td>\n",
       "    </tr>\n",
       "  </tbody>\n",
       "</table>\n",
       "</div>"
      ],
      "text/plain": [
       "   MODELOS          MAE     IC_lower     IC_power\n",
       "0  LR (MQ)  1778.188716  1679.462894  1876.914539\n",
       "1    LASSO  1758.603323  1664.619025  1852.587620\n",
       "2    RIDGE  1754.692169  1662.052114  1847.332224"
      ]
     },
     "execution_count": 73,
     "metadata": {},
     "output_type": "execute_result"
    }
   ],
   "source": [
    "df_validacao"
   ]
  },
  {
   "cell_type": "code",
   "execution_count": 74,
   "id": "a25c5b8e",
   "metadata": {},
   "outputs": [
    {
     "data": {
      "text/plain": [
       "0    1778.188716\n",
       "1    1758.603323\n",
       "2    1754.692169\n",
       "Name: MAE, dtype: float64"
      ]
     },
     "execution_count": 74,
     "metadata": {},
     "output_type": "execute_result"
    }
   ],
   "source": [
    "df_validacao.MAE"
   ]
  },
  {
   "cell_type": "code",
   "execution_count": 75,
   "id": "fa0af14a",
   "metadata": {},
   "outputs": [
    {
     "data": {
      "image/png": "[encoded data removed]",
      "text/plain": [
       "<Figure size 720x576 with 1 Axes>"
      ]
     },
     "metadata": {},
     "output_type": "display_data"
    }
   ],
   "source": [
    "plt.figure().set_size_inches(10, 8)\n",
    "x_ticks = df_validacao.MODELOS\n",
    "x_1 = np.arange(1, 4)\n",
    "y_1 = df_validacao.MAE\n",
    "err_1 = [std_error_lr,std_error_lasso,std_error_ridge]\n",
    "plt.errorbar(x=x_1, y=y_1, yerr=err_1, color=\"red\", capsize=50,\n",
    "             linestyle=\"None\",\n",
    "             marker=\"o\", markersize=5, mfc=\"black\", mec=\"black\")\n",
    "plt.axhline(df_validacao.MAE.min(), linestyle='--', color='.5')\n",
    "plt.title('MAE / INTERVALO DE CONFIANÇA PARA CADA MODELO')\n",
    "plt.ylabel(\"MAE\")\n",
    "plt.xlabel(\"MODELOS\")\n",
    "plt.xticks(x_1, x_ticks)\n",
    "plt.xlim([0.5, 3.5])\n",
    "plt.tight_layout()\n",
    "plt.show()"
   ]
  },
  {
   "cell_type": "markdown",
   "id": "c35f4b58",
   "metadata": {},
   "source": [
    "### Melhor modelo encontrado foi o ridge para este caso, o mesmo aprenseta o menor ERRO MÉDIO ABSOLUTO,e também o intervalo de confiança está mais deslocado 'para baixo'. "
   ]
  },
  {
   "cell_type": "code",
   "execution_count": 76,
   "id": "b5796b76",
   "metadata": {},
   "outputs": [
    {
     "data": {
      "image/png": "[encoded data removed]",
      "text/plain": [
       "<Figure size 576x432 with 1 Axes>"
      ]
     },
     "metadata": {},
     "output_type": "display_data"
    }
   ],
   "source": [
    "fig = plt.figure(figsize=(8, 6))\n",
    "ax = fig.add_axes([0,0,1,1])\n",
    "plt.xlabel(\"Valores dos coeficientes\")\n",
    "plt.ylabel(\"Coeficientes\")\n",
    "plt.title('COEFICIENTES RIDGE')\n",
    "ax.barh(coeff_df_ridge.index,coeff_df_ridge['Coefficient'])\n",
    "plt.show()"
   ]
  },
  {
   "cell_type": "markdown",
   "id": "aeb0a934",
   "metadata": {},
   "source": [
    "### Atráves dos coeficientes, pode-se concluir que atritbutos como Bathroom, furniture, rooms e parking space estão positivamente ligadas ao preço do aluguel.  Assim , casas mais completas tentem a ter um aluguel maior do que casa mais retristas.\n",
    "### Aluguéis em SP são mais caros do que no RJ e BH. \n"
   ]
  }
 ],
 "metadata": {
  "kernelspec": {
   "display_name": "Python 3 (ipykernel)",
   "language": "python",
   "name": "python3"
  },
  "language_info": {
   "codemirror_mode": {
    "name": "ipython",
    "version": 3
   },
   "file_extension": ".py",
   "mimetype": "text/x-python",
   "name": "python",
   "nbconvert_exporter": "python",
   "pygments_lexer": "ipython3",
   "version": "3.9.7"
  }
 },
 "nbformat": 4,
 "nbformat_minor": 5
}
