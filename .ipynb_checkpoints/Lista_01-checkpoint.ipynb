{
 "cells": [
  {
   "cell_type": "markdown",
   "id": "c76cd323",
   "metadata": {},
   "source": [
    "# Mineração de Dados / Statistical Machine Learning\n",
    "    Lista 1\n",
    "    Rafael Izbicki"
   ]
  },
  {
   "cell_type": "markdown",
   "id": "f52e7630",
   "metadata": {},
   "source": [
    "# Importando as bibliotecas"
   ]
  },
  {
   "cell_type": "code",
   "execution_count": 57,
   "id": "84f89326",
   "metadata": {},
   "outputs": [],
   "source": [
    "import sklearn\n",
    "from sklearn.model_selection import train_test_split\n",
    "from sklearn.model_selection import cross_validate\n",
    "from sklearn.linear_model import LinearRegression\n",
    "from sklearn.linear_model import Lasso\n",
    "from sklearn.linear_model import Ridge\n",
    "from sklearn.preprocessing import StandardScaler, OneHotEncoder, LabelEncoder, OrdinalEncoder\n",
    "from sklearn.compose import make_column_transformer\n",
    "from sklearn.model_selection import GridSearchCV\n",
    "from sklearn.metrics import mean_absolute_error\n",
    "from sklearn.metrics import mean_squared_error\n",
    "\n",
    "\n",
    "import numpy as np\n",
    "import pandas as pd\n",
    "import matplotlib.pyplot as plt\n",
    "%matplotlib inline\n",
    "plt.style.use('ggplot')\n",
    "\n",
    "import warnings; warnings.simplefilter('ignore')"
   ]
  },
  {
   "cell_type": "markdown",
   "id": "657018cf",
   "metadata": {},
   "source": [
    "# Lista 01 \n",
    "**Exercı́cio 1**\n",
    "* Considere o banco houses_to_rent_v2 (https://www.dropbox.com/s/8auhk2zaogovjvn/houses_to_rent_v2.csv?dl=0), que contém o valor (em reais) do aluguel de imóveis no Brasil. Você pode trabalhar apenas com os imóveis localizados em São Paulo, Rio de Janeiro e Belo Horizonte.\n",
    "1. Divida o conjunto de dados em para treinamento e teste. Explique como decidiu qual porcentagem deixar\n",
    "para cada um.\n",
    "2. Utilizando o conjunto de treinamento, ajuste uma regressão (i) via mı́nimos quadrados, (ii) via lasso (usando validação-cruzada no treinamento para escolher λ) e (iii) (Pós-graduação apenas) regressão ridge. Qual o melhor valor de λ encontrado para o lasso?\n",
    "3. Qual dos métodos acima apresentou melhores resultados? Responda essa pergunta utilizando o conjunto de teste e o melhor valor de λ encontrado. Inclua os intervalos de confiança para o risco preditivo nos seus resultados.\n",
    "4. Interprete os resultados do melhor modelo encontrado (via coeficientes). Ele faz sentido?\n",
    "5. Includa todas as interações entre as variáveis observadas e repita o ajuste do método de mı́nimos quadrados e o lasso. Como esses ajustes se comparam em relação aos anteriores? Qual foi o melhor modelo encontrado?Esses resultados são esperados?"
   ]
  },
  {
   "cell_type": "markdown",
   "id": "de02e1fa",
   "metadata": {},
   "source": [
    "### Importando os dados para \"df\""
   ]
  },
  {
   "cell_type": "code",
   "execution_count": 3,
   "id": "50097f60",
   "metadata": {},
   "outputs": [],
   "source": [
    "df = pd.read_csv('houses_to_rent_v2.csv')"
   ]
  },
  {
   "cell_type": "code",
   "execution_count": 4,
   "id": "18c22bf0",
   "metadata": {},
   "outputs": [
    {
     "data": {
      "text/html": [
       "<div>\n",
       "<style scoped>\n",
       "    .dataframe tbody tr th:only-of-type {\n",
       "        vertical-align: middle;\n",
       "    }\n",
       "\n",
       "    .dataframe tbody tr th {\n",
       "        vertical-align: top;\n",
       "    }\n",
       "\n",
       "    .dataframe thead th {\n",
       "        text-align: right;\n",
       "    }\n",
       "</style>\n",
       "<table border=\"1\" class=\"dataframe\">\n",
       "  <thead>\n",
       "    <tr style=\"text-align: right;\">\n",
       "      <th></th>\n",
       "      <th>city</th>\n",
       "      <th>area</th>\n",
       "      <th>rooms</th>\n",
       "      <th>bathroom</th>\n",
       "      <th>parking spaces</th>\n",
       "      <th>floor</th>\n",
       "      <th>animal</th>\n",
       "      <th>furniture</th>\n",
       "      <th>rent amount (R$)</th>\n",
       "    </tr>\n",
       "  </thead>\n",
       "  <tbody>\n",
       "    <tr>\n",
       "      <th>0</th>\n",
       "      <td>São Paulo</td>\n",
       "      <td>70</td>\n",
       "      <td>2</td>\n",
       "      <td>1</td>\n",
       "      <td>1</td>\n",
       "      <td>7</td>\n",
       "      <td>acept</td>\n",
       "      <td>furnished</td>\n",
       "      <td>3300</td>\n",
       "    </tr>\n",
       "    <tr>\n",
       "      <th>1</th>\n",
       "      <td>São Paulo</td>\n",
       "      <td>320</td>\n",
       "      <td>4</td>\n",
       "      <td>4</td>\n",
       "      <td>0</td>\n",
       "      <td>20</td>\n",
       "      <td>acept</td>\n",
       "      <td>not furnished</td>\n",
       "      <td>4960</td>\n",
       "    </tr>\n",
       "    <tr>\n",
       "      <th>2</th>\n",
       "      <td>Porto Alegre</td>\n",
       "      <td>80</td>\n",
       "      <td>1</td>\n",
       "      <td>1</td>\n",
       "      <td>1</td>\n",
       "      <td>6</td>\n",
       "      <td>acept</td>\n",
       "      <td>not furnished</td>\n",
       "      <td>2800</td>\n",
       "    </tr>\n",
       "    <tr>\n",
       "      <th>3</th>\n",
       "      <td>Porto Alegre</td>\n",
       "      <td>51</td>\n",
       "      <td>2</td>\n",
       "      <td>1</td>\n",
       "      <td>0</td>\n",
       "      <td>2</td>\n",
       "      <td>acept</td>\n",
       "      <td>not furnished</td>\n",
       "      <td>1112</td>\n",
       "    </tr>\n",
       "    <tr>\n",
       "      <th>4</th>\n",
       "      <td>São Paulo</td>\n",
       "      <td>25</td>\n",
       "      <td>1</td>\n",
       "      <td>1</td>\n",
       "      <td>0</td>\n",
       "      <td>1</td>\n",
       "      <td>not acept</td>\n",
       "      <td>not furnished</td>\n",
       "      <td>800</td>\n",
       "    </tr>\n",
       "    <tr>\n",
       "      <th>...</th>\n",
       "      <td>...</td>\n",
       "      <td>...</td>\n",
       "      <td>...</td>\n",
       "      <td>...</td>\n",
       "      <td>...</td>\n",
       "      <td>...</td>\n",
       "      <td>...</td>\n",
       "      <td>...</td>\n",
       "      <td>...</td>\n",
       "    </tr>\n",
       "    <tr>\n",
       "      <th>10687</th>\n",
       "      <td>Porto Alegre</td>\n",
       "      <td>63</td>\n",
       "      <td>2</td>\n",
       "      <td>1</td>\n",
       "      <td>1</td>\n",
       "      <td>5</td>\n",
       "      <td>not acept</td>\n",
       "      <td>furnished</td>\n",
       "      <td>1478</td>\n",
       "    </tr>\n",
       "    <tr>\n",
       "      <th>10688</th>\n",
       "      <td>São Paulo</td>\n",
       "      <td>285</td>\n",
       "      <td>4</td>\n",
       "      <td>4</td>\n",
       "      <td>4</td>\n",
       "      <td>17</td>\n",
       "      <td>acept</td>\n",
       "      <td>not furnished</td>\n",
       "      <td>15000</td>\n",
       "    </tr>\n",
       "    <tr>\n",
       "      <th>10689</th>\n",
       "      <td>Rio de Janeiro</td>\n",
       "      <td>70</td>\n",
       "      <td>3</td>\n",
       "      <td>3</td>\n",
       "      <td>0</td>\n",
       "      <td>8</td>\n",
       "      <td>not acept</td>\n",
       "      <td>furnished</td>\n",
       "      <td>6000</td>\n",
       "    </tr>\n",
       "    <tr>\n",
       "      <th>10690</th>\n",
       "      <td>Rio de Janeiro</td>\n",
       "      <td>120</td>\n",
       "      <td>2</td>\n",
       "      <td>2</td>\n",
       "      <td>2</td>\n",
       "      <td>8</td>\n",
       "      <td>acept</td>\n",
       "      <td>furnished</td>\n",
       "      <td>12000</td>\n",
       "    </tr>\n",
       "    <tr>\n",
       "      <th>10691</th>\n",
       "      <td>São Paulo</td>\n",
       "      <td>80</td>\n",
       "      <td>2</td>\n",
       "      <td>1</td>\n",
       "      <td>0</td>\n",
       "      <td>-</td>\n",
       "      <td>acept</td>\n",
       "      <td>not furnished</td>\n",
       "      <td>1400</td>\n",
       "    </tr>\n",
       "  </tbody>\n",
       "</table>\n",
       "<p>10692 rows × 9 columns</p>\n",
       "</div>"
      ],
      "text/plain": [
       "                 city  area  rooms  bathroom  parking spaces floor     animal  \\\n",
       "0           São Paulo    70      2         1               1     7      acept   \n",
       "1           São Paulo   320      4         4               0    20      acept   \n",
       "2        Porto Alegre    80      1         1               1     6      acept   \n",
       "3        Porto Alegre    51      2         1               0     2      acept   \n",
       "4           São Paulo    25      1         1               0     1  not acept   \n",
       "...               ...   ...    ...       ...             ...   ...        ...   \n",
       "10687    Porto Alegre    63      2         1               1     5  not acept   \n",
       "10688       São Paulo   285      4         4               4    17      acept   \n",
       "10689  Rio de Janeiro    70      3         3               0     8  not acept   \n",
       "10690  Rio de Janeiro   120      2         2               2     8      acept   \n",
       "10691       São Paulo    80      2         1               0     -      acept   \n",
       "\n",
       "           furniture  rent amount (R$)  \n",
       "0          furnished              3300  \n",
       "1      not furnished              4960  \n",
       "2      not furnished              2800  \n",
       "3      not furnished              1112  \n",
       "4      not furnished               800  \n",
       "...              ...               ...  \n",
       "10687      furnished              1478  \n",
       "10688  not furnished             15000  \n",
       "10689      furnished              6000  \n",
       "10690      furnished             12000  \n",
       "10691  not furnished              1400  \n",
       "\n",
       "[10692 rows x 9 columns]"
      ]
     },
     "execution_count": 4,
     "metadata": {},
     "output_type": "execute_result"
    }
   ],
   "source": [
    "df"
   ]
  },
  {
   "cell_type": "markdown",
   "id": "0c52ea90",
   "metadata": {},
   "source": [
    "# Seleciando apenas as cidades de São Paulo / Rio de Janeiro / Belo Horizonte"
   ]
  },
  {
   "cell_type": "code",
   "execution_count": 5,
   "id": "88b5476e",
   "metadata": {},
   "outputs": [],
   "source": [
    "df=df.loc[df['city'].isin(['São Paulo', 'Rio de Janeiro','Belo Horizonte'])]"
   ]
  },
  {
   "cell_type": "code",
   "execution_count": 6,
   "id": "d3d3ce95",
   "metadata": {},
   "outputs": [
    {
     "data": {
      "text/plain": [
       "array(['São Paulo', 'Rio de Janeiro', 'Belo Horizonte'], dtype=object)"
      ]
     },
     "execution_count": 6,
     "metadata": {},
     "output_type": "execute_result"
    }
   ],
   "source": [
    "df['city'].unique()"
   ]
  },
  {
   "cell_type": "markdown",
   "id": "16d12ec0",
   "metadata": {},
   "source": [
    "## Verificando Valores Faltantes"
   ]
  },
  {
   "cell_type": "code",
   "execution_count": 7,
   "id": "1ff89206",
   "metadata": {},
   "outputs": [
    {
     "data": {
      "text/plain": [
       "city                0\n",
       "area                0\n",
       "rooms               0\n",
       "bathroom            0\n",
       "parking spaces      0\n",
       "floor               0\n",
       "animal              0\n",
       "furniture           0\n",
       "rent amount (R$)    0\n",
       "dtype: int64"
      ]
     },
     "execution_count": 7,
     "metadata": {},
     "output_type": "execute_result"
    }
   ],
   "source": [
    "df.isnull().sum()"
   ]
  },
  {
   "cell_type": "markdown",
   "id": "d5b3d0bc",
   "metadata": {},
   "source": [
    "# valores categóricos"
   ]
  },
  {
   "cell_type": "code",
   "execution_count": 8,
   "id": "49428a80",
   "metadata": {},
   "outputs": [
    {
     "data": {
      "text/html": [
       "<div>\n",
       "<style scoped>\n",
       "    .dataframe tbody tr th:only-of-type {\n",
       "        vertical-align: middle;\n",
       "    }\n",
       "\n",
       "    .dataframe tbody tr th {\n",
       "        vertical-align: top;\n",
       "    }\n",
       "\n",
       "    .dataframe thead th {\n",
       "        text-align: right;\n",
       "    }\n",
       "</style>\n",
       "<table border=\"1\" class=\"dataframe\">\n",
       "  <thead>\n",
       "    <tr style=\"text-align: right;\">\n",
       "      <th></th>\n",
       "      <th>city</th>\n",
       "      <th>floor</th>\n",
       "      <th>animal</th>\n",
       "      <th>furniture</th>\n",
       "    </tr>\n",
       "  </thead>\n",
       "  <tbody>\n",
       "    <tr>\n",
       "      <th>0</th>\n",
       "      <td>São Paulo</td>\n",
       "      <td>7</td>\n",
       "      <td>acept</td>\n",
       "      <td>furnished</td>\n",
       "    </tr>\n",
       "    <tr>\n",
       "      <th>1</th>\n",
       "      <td>São Paulo</td>\n",
       "      <td>20</td>\n",
       "      <td>acept</td>\n",
       "      <td>not furnished</td>\n",
       "    </tr>\n",
       "    <tr>\n",
       "      <th>4</th>\n",
       "      <td>São Paulo</td>\n",
       "      <td>1</td>\n",
       "      <td>not acept</td>\n",
       "      <td>not furnished</td>\n",
       "    </tr>\n",
       "    <tr>\n",
       "      <th>5</th>\n",
       "      <td>São Paulo</td>\n",
       "      <td>-</td>\n",
       "      <td>acept</td>\n",
       "      <td>not furnished</td>\n",
       "    </tr>\n",
       "    <tr>\n",
       "      <th>6</th>\n",
       "      <td>Rio de Janeiro</td>\n",
       "      <td>7</td>\n",
       "      <td>acept</td>\n",
       "      <td>not furnished</td>\n",
       "    </tr>\n",
       "    <tr>\n",
       "      <th>...</th>\n",
       "      <td>...</td>\n",
       "      <td>...</td>\n",
       "      <td>...</td>\n",
       "      <td>...</td>\n",
       "    </tr>\n",
       "    <tr>\n",
       "      <th>10686</th>\n",
       "      <td>São Paulo</td>\n",
       "      <td>8</td>\n",
       "      <td>not acept</td>\n",
       "      <td>furnished</td>\n",
       "    </tr>\n",
       "    <tr>\n",
       "      <th>10688</th>\n",
       "      <td>São Paulo</td>\n",
       "      <td>17</td>\n",
       "      <td>acept</td>\n",
       "      <td>not furnished</td>\n",
       "    </tr>\n",
       "    <tr>\n",
       "      <th>10689</th>\n",
       "      <td>Rio de Janeiro</td>\n",
       "      <td>8</td>\n",
       "      <td>not acept</td>\n",
       "      <td>furnished</td>\n",
       "    </tr>\n",
       "    <tr>\n",
       "      <th>10690</th>\n",
       "      <td>Rio de Janeiro</td>\n",
       "      <td>8</td>\n",
       "      <td>acept</td>\n",
       "      <td>furnished</td>\n",
       "    </tr>\n",
       "    <tr>\n",
       "      <th>10691</th>\n",
       "      <td>São Paulo</td>\n",
       "      <td>-</td>\n",
       "      <td>acept</td>\n",
       "      <td>not furnished</td>\n",
       "    </tr>\n",
       "  </tbody>\n",
       "</table>\n",
       "<p>8646 rows × 4 columns</p>\n",
       "</div>"
      ],
      "text/plain": [
       "                 city floor     animal      furniture\n",
       "0           São Paulo     7      acept      furnished\n",
       "1           São Paulo    20      acept  not furnished\n",
       "4           São Paulo     1  not acept  not furnished\n",
       "5           São Paulo     -      acept  not furnished\n",
       "6      Rio de Janeiro     7      acept  not furnished\n",
       "...               ...   ...        ...            ...\n",
       "10686       São Paulo     8  not acept      furnished\n",
       "10688       São Paulo    17      acept  not furnished\n",
       "10689  Rio de Janeiro     8  not acept      furnished\n",
       "10690  Rio de Janeiro     8      acept      furnished\n",
       "10691       São Paulo     -      acept  not furnished\n",
       "\n",
       "[8646 rows x 4 columns]"
      ]
     },
     "execution_count": 8,
     "metadata": {},
     "output_type": "execute_result"
    }
   ],
   "source": [
    "df.select_dtypes(include='object')"
   ]
  },
  {
   "cell_type": "markdown",
   "id": "131c8dac",
   "metadata": {},
   "source": [
    "### Foi verificado que a variável \"floor\" é uma variável numérica e está como uma variável categórica"
   ]
  },
  {
   "cell_type": "code",
   "execution_count": 9,
   "id": "a4a0d4f6",
   "metadata": {},
   "outputs": [
    {
     "data": {
      "text/plain": [
       "array(['7', '20', '1', '-', '4', '3', '2', '11', '24', '9', '8', '17',\n",
       "       '18', '10', '5', '6', '13', '15', '16', '14', '26', '12', '21',\n",
       "       '19', '22', '27', '23', '35', '25', '46', '28', '29', '301', '32'],\n",
       "      dtype=object)"
      ]
     },
     "execution_count": 9,
     "metadata": {},
     "output_type": "execute_result"
    }
   ],
   "source": [
    "df['floor'].unique()"
   ]
  },
  {
   "cell_type": "markdown",
   "id": "2586e4f8",
   "metadata": {},
   "source": [
    "### Foi encontrado um Valor com resultado igual \"-\" , substituirei por \"0\", tendo em vista que \"-\" representa os imóveis do tipo casa\n",
    "### Também foi encontrado o valor \"301\" , foi subistituido por \"31\" (erro de digitação)"
   ]
  },
  {
   "cell_type": "code",
   "execution_count": 10,
   "id": "b567edec",
   "metadata": {},
   "outputs": [],
   "source": [
    "df['floor']=df['floor'].replace('-',0)"
   ]
  },
  {
   "cell_type": "code",
   "execution_count": 11,
   "id": "2bb64d34",
   "metadata": {},
   "outputs": [],
   "source": [
    "df['floor']=df['floor'].replace('301',31)"
   ]
  },
  {
   "cell_type": "markdown",
   "id": "b93cc7f8",
   "metadata": {},
   "source": [
    "### Transformando a variável \"floor\" em (int) númerica"
   ]
  },
  {
   "cell_type": "code",
   "execution_count": 12,
   "id": "346fe929",
   "metadata": {},
   "outputs": [],
   "source": [
    "df['floor']=df['floor'].astype(int)"
   ]
  },
  {
   "cell_type": "code",
   "execution_count": 13,
   "id": "e9f59b40",
   "metadata": {},
   "outputs": [
    {
     "data": {
      "text/plain": [
       "array([ 7, 20,  1,  0,  4,  3,  2, 11, 24,  9,  8, 17, 18, 10,  5,  6, 13,\n",
       "       15, 16, 14, 26, 12, 21, 19, 22, 27, 23, 35, 25, 46, 28, 29, 31, 32])"
      ]
     },
     "execution_count": 13,
     "metadata": {},
     "output_type": "execute_result"
    }
   ],
   "source": [
    "df['floor'].unique()"
   ]
  },
  {
   "cell_type": "code",
   "execution_count": 14,
   "id": "fc265b77",
   "metadata": {},
   "outputs": [
    {
     "data": {
      "text/html": [
       "<div>\n",
       "<style scoped>\n",
       "    .dataframe tbody tr th:only-of-type {\n",
       "        vertical-align: middle;\n",
       "    }\n",
       "\n",
       "    .dataframe tbody tr th {\n",
       "        vertical-align: top;\n",
       "    }\n",
       "\n",
       "    .dataframe thead th {\n",
       "        text-align: right;\n",
       "    }\n",
       "</style>\n",
       "<table border=\"1\" class=\"dataframe\">\n",
       "  <thead>\n",
       "    <tr style=\"text-align: right;\">\n",
       "      <th></th>\n",
       "      <th>city</th>\n",
       "      <th>area</th>\n",
       "      <th>rooms</th>\n",
       "      <th>bathroom</th>\n",
       "      <th>parking spaces</th>\n",
       "      <th>floor</th>\n",
       "      <th>animal</th>\n",
       "      <th>furniture</th>\n",
       "      <th>rent amount (R$)</th>\n",
       "    </tr>\n",
       "  </thead>\n",
       "  <tbody>\n",
       "    <tr>\n",
       "      <th>0</th>\n",
       "      <td>São Paulo</td>\n",
       "      <td>70</td>\n",
       "      <td>2</td>\n",
       "      <td>1</td>\n",
       "      <td>1</td>\n",
       "      <td>7</td>\n",
       "      <td>acept</td>\n",
       "      <td>furnished</td>\n",
       "      <td>3300</td>\n",
       "    </tr>\n",
       "    <tr>\n",
       "      <th>1</th>\n",
       "      <td>São Paulo</td>\n",
       "      <td>320</td>\n",
       "      <td>4</td>\n",
       "      <td>4</td>\n",
       "      <td>0</td>\n",
       "      <td>20</td>\n",
       "      <td>acept</td>\n",
       "      <td>not furnished</td>\n",
       "      <td>4960</td>\n",
       "    </tr>\n",
       "    <tr>\n",
       "      <th>4</th>\n",
       "      <td>São Paulo</td>\n",
       "      <td>25</td>\n",
       "      <td>1</td>\n",
       "      <td>1</td>\n",
       "      <td>0</td>\n",
       "      <td>1</td>\n",
       "      <td>not acept</td>\n",
       "      <td>not furnished</td>\n",
       "      <td>800</td>\n",
       "    </tr>\n",
       "    <tr>\n",
       "      <th>5</th>\n",
       "      <td>São Paulo</td>\n",
       "      <td>376</td>\n",
       "      <td>3</td>\n",
       "      <td>3</td>\n",
       "      <td>7</td>\n",
       "      <td>0</td>\n",
       "      <td>acept</td>\n",
       "      <td>not furnished</td>\n",
       "      <td>8000</td>\n",
       "    </tr>\n",
       "    <tr>\n",
       "      <th>6</th>\n",
       "      <td>Rio de Janeiro</td>\n",
       "      <td>72</td>\n",
       "      <td>2</td>\n",
       "      <td>1</td>\n",
       "      <td>0</td>\n",
       "      <td>7</td>\n",
       "      <td>acept</td>\n",
       "      <td>not furnished</td>\n",
       "      <td>8000</td>\n",
       "    </tr>\n",
       "    <tr>\n",
       "      <th>...</th>\n",
       "      <td>...</td>\n",
       "      <td>...</td>\n",
       "      <td>...</td>\n",
       "      <td>...</td>\n",
       "      <td>...</td>\n",
       "      <td>...</td>\n",
       "      <td>...</td>\n",
       "      <td>...</td>\n",
       "      <td>...</td>\n",
       "    </tr>\n",
       "    <tr>\n",
       "      <th>10686</th>\n",
       "      <td>São Paulo</td>\n",
       "      <td>150</td>\n",
       "      <td>3</td>\n",
       "      <td>3</td>\n",
       "      <td>2</td>\n",
       "      <td>8</td>\n",
       "      <td>not acept</td>\n",
       "      <td>furnished</td>\n",
       "      <td>13500</td>\n",
       "    </tr>\n",
       "    <tr>\n",
       "      <th>10688</th>\n",
       "      <td>São Paulo</td>\n",
       "      <td>285</td>\n",
       "      <td>4</td>\n",
       "      <td>4</td>\n",
       "      <td>4</td>\n",
       "      <td>17</td>\n",
       "      <td>acept</td>\n",
       "      <td>not furnished</td>\n",
       "      <td>15000</td>\n",
       "    </tr>\n",
       "    <tr>\n",
       "      <th>10689</th>\n",
       "      <td>Rio de Janeiro</td>\n",
       "      <td>70</td>\n",
       "      <td>3</td>\n",
       "      <td>3</td>\n",
       "      <td>0</td>\n",
       "      <td>8</td>\n",
       "      <td>not acept</td>\n",
       "      <td>furnished</td>\n",
       "      <td>6000</td>\n",
       "    </tr>\n",
       "    <tr>\n",
       "      <th>10690</th>\n",
       "      <td>Rio de Janeiro</td>\n",
       "      <td>120</td>\n",
       "      <td>2</td>\n",
       "      <td>2</td>\n",
       "      <td>2</td>\n",
       "      <td>8</td>\n",
       "      <td>acept</td>\n",
       "      <td>furnished</td>\n",
       "      <td>12000</td>\n",
       "    </tr>\n",
       "    <tr>\n",
       "      <th>10691</th>\n",
       "      <td>São Paulo</td>\n",
       "      <td>80</td>\n",
       "      <td>2</td>\n",
       "      <td>1</td>\n",
       "      <td>0</td>\n",
       "      <td>0</td>\n",
       "      <td>acept</td>\n",
       "      <td>not furnished</td>\n",
       "      <td>1400</td>\n",
       "    </tr>\n",
       "  </tbody>\n",
       "</table>\n",
       "<p>8646 rows × 9 columns</p>\n",
       "</div>"
      ],
      "text/plain": [
       "                 city  area  rooms  bathroom  parking spaces  floor  \\\n",
       "0           São Paulo    70      2         1               1      7   \n",
       "1           São Paulo   320      4         4               0     20   \n",
       "4           São Paulo    25      1         1               0      1   \n",
       "5           São Paulo   376      3         3               7      0   \n",
       "6      Rio de Janeiro    72      2         1               0      7   \n",
       "...               ...   ...    ...       ...             ...    ...   \n",
       "10686       São Paulo   150      3         3               2      8   \n",
       "10688       São Paulo   285      4         4               4     17   \n",
       "10689  Rio de Janeiro    70      3         3               0      8   \n",
       "10690  Rio de Janeiro   120      2         2               2      8   \n",
       "10691       São Paulo    80      2         1               0      0   \n",
       "\n",
       "          animal      furniture  rent amount (R$)  \n",
       "0          acept      furnished              3300  \n",
       "1          acept  not furnished              4960  \n",
       "4      not acept  not furnished               800  \n",
       "5          acept  not furnished              8000  \n",
       "6          acept  not furnished              8000  \n",
       "...          ...            ...               ...  \n",
       "10686  not acept      furnished             13500  \n",
       "10688      acept  not furnished             15000  \n",
       "10689  not acept      furnished              6000  \n",
       "10690      acept      furnished             12000  \n",
       "10691      acept  not furnished              1400  \n",
       "\n",
       "[8646 rows x 9 columns]"
      ]
     },
     "execution_count": 14,
     "metadata": {},
     "output_type": "execute_result"
    }
   ],
   "source": [
    "df"
   ]
  },
  {
   "cell_type": "markdown",
   "id": "33832d0c",
   "metadata": {},
   "source": [
    "### Verificando variável categórica"
   ]
  },
  {
   "cell_type": "code",
   "execution_count": 15,
   "id": "b8fc75e8",
   "metadata": {},
   "outputs": [
    {
     "data": {
      "text/html": [
       "<div>\n",
       "<style scoped>\n",
       "    .dataframe tbody tr th:only-of-type {\n",
       "        vertical-align: middle;\n",
       "    }\n",
       "\n",
       "    .dataframe tbody tr th {\n",
       "        vertical-align: top;\n",
       "    }\n",
       "\n",
       "    .dataframe thead th {\n",
       "        text-align: right;\n",
       "    }\n",
       "</style>\n",
       "<table border=\"1\" class=\"dataframe\">\n",
       "  <thead>\n",
       "    <tr style=\"text-align: right;\">\n",
       "      <th></th>\n",
       "      <th>city</th>\n",
       "      <th>animal</th>\n",
       "      <th>furniture</th>\n",
       "    </tr>\n",
       "  </thead>\n",
       "  <tbody>\n",
       "    <tr>\n",
       "      <th>0</th>\n",
       "      <td>São Paulo</td>\n",
       "      <td>acept</td>\n",
       "      <td>furnished</td>\n",
       "    </tr>\n",
       "    <tr>\n",
       "      <th>1</th>\n",
       "      <td>São Paulo</td>\n",
       "      <td>acept</td>\n",
       "      <td>not furnished</td>\n",
       "    </tr>\n",
       "    <tr>\n",
       "      <th>4</th>\n",
       "      <td>São Paulo</td>\n",
       "      <td>not acept</td>\n",
       "      <td>not furnished</td>\n",
       "    </tr>\n",
       "    <tr>\n",
       "      <th>5</th>\n",
       "      <td>São Paulo</td>\n",
       "      <td>acept</td>\n",
       "      <td>not furnished</td>\n",
       "    </tr>\n",
       "    <tr>\n",
       "      <th>6</th>\n",
       "      <td>Rio de Janeiro</td>\n",
       "      <td>acept</td>\n",
       "      <td>not furnished</td>\n",
       "    </tr>\n",
       "    <tr>\n",
       "      <th>...</th>\n",
       "      <td>...</td>\n",
       "      <td>...</td>\n",
       "      <td>...</td>\n",
       "    </tr>\n",
       "    <tr>\n",
       "      <th>10686</th>\n",
       "      <td>São Paulo</td>\n",
       "      <td>not acept</td>\n",
       "      <td>furnished</td>\n",
       "    </tr>\n",
       "    <tr>\n",
       "      <th>10688</th>\n",
       "      <td>São Paulo</td>\n",
       "      <td>acept</td>\n",
       "      <td>not furnished</td>\n",
       "    </tr>\n",
       "    <tr>\n",
       "      <th>10689</th>\n",
       "      <td>Rio de Janeiro</td>\n",
       "      <td>not acept</td>\n",
       "      <td>furnished</td>\n",
       "    </tr>\n",
       "    <tr>\n",
       "      <th>10690</th>\n",
       "      <td>Rio de Janeiro</td>\n",
       "      <td>acept</td>\n",
       "      <td>furnished</td>\n",
       "    </tr>\n",
       "    <tr>\n",
       "      <th>10691</th>\n",
       "      <td>São Paulo</td>\n",
       "      <td>acept</td>\n",
       "      <td>not furnished</td>\n",
       "    </tr>\n",
       "  </tbody>\n",
       "</table>\n",
       "<p>8646 rows × 3 columns</p>\n",
       "</div>"
      ],
      "text/plain": [
       "                 city     animal      furniture\n",
       "0           São Paulo      acept      furnished\n",
       "1           São Paulo      acept  not furnished\n",
       "4           São Paulo  not acept  not furnished\n",
       "5           São Paulo      acept  not furnished\n",
       "6      Rio de Janeiro      acept  not furnished\n",
       "...               ...        ...            ...\n",
       "10686       São Paulo  not acept      furnished\n",
       "10688       São Paulo      acept  not furnished\n",
       "10689  Rio de Janeiro  not acept      furnished\n",
       "10690  Rio de Janeiro      acept      furnished\n",
       "10691       São Paulo      acept  not furnished\n",
       "\n",
       "[8646 rows x 3 columns]"
      ]
     },
     "execution_count": 15,
     "metadata": {},
     "output_type": "execute_result"
    }
   ],
   "source": [
    "df.select_dtypes(include='object')"
   ]
  },
  {
   "cell_type": "code",
   "execution_count": 16,
   "id": "14a48e2c",
   "metadata": {},
   "outputs": [
    {
     "data": {
      "text/plain": [
       "array(['acept', 'not acept'], dtype=object)"
      ]
     },
     "execution_count": 16,
     "metadata": {},
     "output_type": "execute_result"
    }
   ],
   "source": [
    "df['animal'].unique()"
   ]
  },
  {
   "cell_type": "code",
   "execution_count": 17,
   "id": "28980402",
   "metadata": {},
   "outputs": [
    {
     "data": {
      "text/plain": [
       "array(['furnished', 'not furnished'], dtype=object)"
      ]
     },
     "execution_count": 17,
     "metadata": {},
     "output_type": "execute_result"
    }
   ],
   "source": [
    "df['furniture'].unique()"
   ]
  },
  {
   "cell_type": "markdown",
   "id": "7421c6c9",
   "metadata": {},
   "source": [
    "### Verificando variável númerica "
   ]
  },
  {
   "cell_type": "code",
   "execution_count": 18,
   "id": "14086c15",
   "metadata": {},
   "outputs": [
    {
     "data": {
      "text/html": [
       "<div>\n",
       "<style scoped>\n",
       "    .dataframe tbody tr th:only-of-type {\n",
       "        vertical-align: middle;\n",
       "    }\n",
       "\n",
       "    .dataframe tbody tr th {\n",
       "        vertical-align: top;\n",
       "    }\n",
       "\n",
       "    .dataframe thead th {\n",
       "        text-align: right;\n",
       "    }\n",
       "</style>\n",
       "<table border=\"1\" class=\"dataframe\">\n",
       "  <thead>\n",
       "    <tr style=\"text-align: right;\">\n",
       "      <th></th>\n",
       "      <th>area</th>\n",
       "      <th>rooms</th>\n",
       "      <th>bathroom</th>\n",
       "      <th>parking spaces</th>\n",
       "      <th>floor</th>\n",
       "      <th>rent amount (R$)</th>\n",
       "    </tr>\n",
       "  </thead>\n",
       "  <tbody>\n",
       "    <tr>\n",
       "      <th>0</th>\n",
       "      <td>70</td>\n",
       "      <td>2</td>\n",
       "      <td>1</td>\n",
       "      <td>1</td>\n",
       "      <td>7</td>\n",
       "      <td>3300</td>\n",
       "    </tr>\n",
       "    <tr>\n",
       "      <th>1</th>\n",
       "      <td>320</td>\n",
       "      <td>4</td>\n",
       "      <td>4</td>\n",
       "      <td>0</td>\n",
       "      <td>20</td>\n",
       "      <td>4960</td>\n",
       "    </tr>\n",
       "    <tr>\n",
       "      <th>4</th>\n",
       "      <td>25</td>\n",
       "      <td>1</td>\n",
       "      <td>1</td>\n",
       "      <td>0</td>\n",
       "      <td>1</td>\n",
       "      <td>800</td>\n",
       "    </tr>\n",
       "    <tr>\n",
       "      <th>5</th>\n",
       "      <td>376</td>\n",
       "      <td>3</td>\n",
       "      <td>3</td>\n",
       "      <td>7</td>\n",
       "      <td>0</td>\n",
       "      <td>8000</td>\n",
       "    </tr>\n",
       "    <tr>\n",
       "      <th>6</th>\n",
       "      <td>72</td>\n",
       "      <td>2</td>\n",
       "      <td>1</td>\n",
       "      <td>0</td>\n",
       "      <td>7</td>\n",
       "      <td>8000</td>\n",
       "    </tr>\n",
       "    <tr>\n",
       "      <th>...</th>\n",
       "      <td>...</td>\n",
       "      <td>...</td>\n",
       "      <td>...</td>\n",
       "      <td>...</td>\n",
       "      <td>...</td>\n",
       "      <td>...</td>\n",
       "    </tr>\n",
       "    <tr>\n",
       "      <th>10686</th>\n",
       "      <td>150</td>\n",
       "      <td>3</td>\n",
       "      <td>3</td>\n",
       "      <td>2</td>\n",
       "      <td>8</td>\n",
       "      <td>13500</td>\n",
       "    </tr>\n",
       "    <tr>\n",
       "      <th>10688</th>\n",
       "      <td>285</td>\n",
       "      <td>4</td>\n",
       "      <td>4</td>\n",
       "      <td>4</td>\n",
       "      <td>17</td>\n",
       "      <td>15000</td>\n",
       "    </tr>\n",
       "    <tr>\n",
       "      <th>10689</th>\n",
       "      <td>70</td>\n",
       "      <td>3</td>\n",
       "      <td>3</td>\n",
       "      <td>0</td>\n",
       "      <td>8</td>\n",
       "      <td>6000</td>\n",
       "    </tr>\n",
       "    <tr>\n",
       "      <th>10690</th>\n",
       "      <td>120</td>\n",
       "      <td>2</td>\n",
       "      <td>2</td>\n",
       "      <td>2</td>\n",
       "      <td>8</td>\n",
       "      <td>12000</td>\n",
       "    </tr>\n",
       "    <tr>\n",
       "      <th>10691</th>\n",
       "      <td>80</td>\n",
       "      <td>2</td>\n",
       "      <td>1</td>\n",
       "      <td>0</td>\n",
       "      <td>0</td>\n",
       "      <td>1400</td>\n",
       "    </tr>\n",
       "  </tbody>\n",
       "</table>\n",
       "<p>8646 rows × 6 columns</p>\n",
       "</div>"
      ],
      "text/plain": [
       "       area  rooms  bathroom  parking spaces  floor  rent amount (R$)\n",
       "0        70      2         1               1      7              3300\n",
       "1       320      4         4               0     20              4960\n",
       "4        25      1         1               0      1               800\n",
       "5       376      3         3               7      0              8000\n",
       "6        72      2         1               0      7              8000\n",
       "...     ...    ...       ...             ...    ...               ...\n",
       "10686   150      3         3               2      8             13500\n",
       "10688   285      4         4               4     17             15000\n",
       "10689    70      3         3               0      8              6000\n",
       "10690   120      2         2               2      8             12000\n",
       "10691    80      2         1               0      0              1400\n",
       "\n",
       "[8646 rows x 6 columns]"
      ]
     },
     "execution_count": 18,
     "metadata": {},
     "output_type": "execute_result"
    }
   ],
   "source": [
    "df.select_dtypes(exclude='object')"
   ]
  },
  {
   "cell_type": "code",
   "execution_count": 19,
   "id": "014a45e3",
   "metadata": {},
   "outputs": [
    {
     "data": {
      "text/plain": [
       "array([ 2,  4,  1,  3,  7,  5,  8,  6, 10, 13,  9])"
      ]
     },
     "execution_count": 19,
     "metadata": {},
     "output_type": "execute_result"
    }
   ],
   "source": [
    "df['rooms'].unique()"
   ]
  },
  {
   "cell_type": "code",
   "execution_count": 20,
   "id": "78b20312",
   "metadata": {},
   "outputs": [
    {
     "data": {
      "text/plain": [
       "array([ 1,  4,  3,  2,  5,  6,  9,  7, 10,  8])"
      ]
     },
     "execution_count": 20,
     "metadata": {},
     "output_type": "execute_result"
    }
   ],
   "source": [
    "df['bathroom'].unique()"
   ]
  },
  {
   "cell_type": "code",
   "execution_count": 21,
   "id": "e2831625",
   "metadata": {},
   "outputs": [
    {
     "data": {
      "text/plain": [
       "(array([1.98063603e-04, 1.78358494e-04, 9.83697722e-05, 5.69345237e-05,\n",
       "        3.77746156e-05, 3.45812976e-05, 1.95493372e-05, 1.73685346e-05,\n",
       "        9.42418245e-06, 2.20416829e-05, 7.78858054e-08, 7.78858054e-08,\n",
       "        7.78858054e-08, 3.89429027e-07, 0.00000000e+00, 7.78858054e-08,\n",
       "        7.78858054e-08, 0.00000000e+00, 0.00000000e+00, 7.78858054e-08,\n",
       "        0.00000000e+00, 0.00000000e+00, 0.00000000e+00, 0.00000000e+00,\n",
       "        0.00000000e+00, 0.00000000e+00, 0.00000000e+00, 0.00000000e+00,\n",
       "        0.00000000e+00, 7.78858054e-08]),\n",
       " array([  450.,  1935.,  3420.,  4905.,  6390.,  7875.,  9360., 10845.,\n",
       "        12330., 13815., 15300., 16785., 18270., 19755., 21240., 22725.,\n",
       "        24210., 25695., 27180., 28665., 30150., 31635., 33120., 34605.,\n",
       "        36090., 37575., 39060., 40545., 42030., 43515., 45000.]),\n",
       " <BarContainer object of 30 artists>)"
      ]
     },
     "execution_count": 21,
     "metadata": {},
     "output_type": "execute_result"
    },
    {
     "data": {
      "image/png": "[encoded data removed]",
      "text/plain": [
       "<Figure size 720x576 with 1 Axes>"
      ]
     },
     "metadata": {},
     "output_type": "display_data"
    }
   ],
   "source": [
    "plt.figure(figsize=(10, 8))\n",
    "plt.title('Histrograma variável rent amount (R$)')\n",
    "plt.hist(df['rent amount (R$)'], density=True, bins=30)  # density=False would make counts\n"
   ]
  },
  {
   "cell_type": "markdown",
   "id": "f68df626",
   "metadata": {},
   "source": [
    "### Aplicando a transformação logarítma com o intuito melhorar a simetria dos dados, a transformação logaritima faz com que os dados fiquem proporcionais. Assim sua distribuição se aproxima da normal , melhorando o desenpenho do modelo."
   ]
  },
  {
   "cell_type": "code",
   "execution_count": 22,
   "id": "b7a8da3b",
   "metadata": {},
   "outputs": [
    {
     "data": {
      "text/plain": [
       "(array([0.00979498, 0.01732959, 0.04596107, 0.07534602, 0.13185554,\n",
       "        0.28330105, 0.36919552, 0.35035901, 0.36316784, 0.50255798,\n",
       "        0.42344465, 0.50105106, 0.50255798, 0.41063583, 0.35714015,\n",
       "        0.4264585 , 0.33981057, 0.28179413, 0.26446454, 0.21021541,\n",
       "        0.21925693, 0.19288582, 0.22679153, 0.00075346, 0.00527422,\n",
       "        0.00075346, 0.00075346, 0.00075346, 0.        , 0.00075346]),\n",
       " array([ 6.10924758,  6.26275326,  6.41625893,  6.5697646 ,  6.72327027,\n",
       "         6.87677595,  7.03028162,  7.18378729,  7.33729297,  7.49079864,\n",
       "         7.64430431,  7.79780998,  7.95131566,  8.10482133,  8.258327  ,\n",
       "         8.41183268,  8.56533835,  8.71884402,  8.87234969,  9.02585537,\n",
       "         9.17936104,  9.33286671,  9.48637239,  9.63987806,  9.79338373,\n",
       "         9.9468894 , 10.10039508, 10.25390075, 10.40740642, 10.5609121 ,\n",
       "        10.71441777]),\n",
       " <BarContainer object of 30 artists>)"
      ]
     },
     "execution_count": 22,
     "metadata": {},
     "output_type": "execute_result"
    },
    {
     "data": {
      "image/png": "[encoded data removed]",
      "text/plain": [
       "<Figure size 720x576 with 1 Axes>"
      ]
     },
     "metadata": {},
     "output_type": "display_data"
    }
   ],
   "source": [
    "plt.figure(figsize=(10, 8))\n",
    "plt.title('Histrograma após a transformação logarítma (rent amount (R$))')\n",
    "plt.hist(np.log(df['rent amount (R$)']), density=True, bins=30)  # density=False would make counts\n"
   ]
  },
  {
   "cell_type": "markdown",
   "id": "5ba7ade6",
   "metadata": {},
   "source": [
    "### Foi divido em 70% para treino e 30% para teste - essa % foi escolhida dado que 30% do dataset corresponde a 2594 linhas , dados  suficientes para se ter uma estimativa precisa do risco."
   ]
  },
  {
   "cell_type": "code",
   "execution_count": 23,
   "id": "c4168e60",
   "metadata": {},
   "outputs": [],
   "source": [
    "x_train, x_test, y_train, y_test = train_test_split(df.drop('rent amount (R$)', axis=1), df['rent amount (R$)'], test_size=0.3, random_state=42)"
   ]
  },
  {
   "cell_type": "markdown",
   "id": "20a7efd2",
   "metadata": {},
   "source": [
    "### Transformando valores "
   ]
  },
  {
   "cell_type": "code",
   "execution_count": 26,
   "id": "26704bc7",
   "metadata": {
    "scrolled": true
   },
   "outputs": [],
   "source": [
    "transformer = make_column_transformer((StandardScaler(), ['area', 'rooms', 'bathroom', 'parking spaces', 'floor']),(OneHotEncoder(), ['city']),(OrdinalEncoder(categories= [[\"not acept\", \"acept\"]]),['animal']),(OrdinalEncoder(categories= [[\"not furnished\", \"furnished\"]]),['furniture']))"
   ]
  },
  {
   "cell_type": "code",
   "execution_count": 27,
   "id": "dfaecf51",
   "metadata": {},
   "outputs": [
    {
     "data": {
      "text/html": [
       "<div>\n",
       "<style scoped>\n",
       "    .dataframe tbody tr th:only-of-type {\n",
       "        vertical-align: middle;\n",
       "    }\n",
       "\n",
       "    .dataframe tbody tr th {\n",
       "        vertical-align: top;\n",
       "    }\n",
       "\n",
       "    .dataframe thead th {\n",
       "        text-align: right;\n",
       "    }\n",
       "</style>\n",
       "<table border=\"1\" class=\"dataframe\">\n",
       "  <thead>\n",
       "    <tr style=\"text-align: right;\">\n",
       "      <th></th>\n",
       "      <th>city</th>\n",
       "      <th>area</th>\n",
       "      <th>rooms</th>\n",
       "      <th>bathroom</th>\n",
       "      <th>parking spaces</th>\n",
       "      <th>floor</th>\n",
       "      <th>animal</th>\n",
       "      <th>furniture</th>\n",
       "    </tr>\n",
       "  </thead>\n",
       "  <tbody>\n",
       "    <tr>\n",
       "      <th>4482</th>\n",
       "      <td>São Paulo</td>\n",
       "      <td>45</td>\n",
       "      <td>2</td>\n",
       "      <td>1</td>\n",
       "      <td>1</td>\n",
       "      <td>12</td>\n",
       "      <td>acept</td>\n",
       "      <td>not furnished</td>\n",
       "    </tr>\n",
       "    <tr>\n",
       "      <th>401</th>\n",
       "      <td>São Paulo</td>\n",
       "      <td>190</td>\n",
       "      <td>3</td>\n",
       "      <td>4</td>\n",
       "      <td>4</td>\n",
       "      <td>0</td>\n",
       "      <td>acept</td>\n",
       "      <td>not furnished</td>\n",
       "    </tr>\n",
       "    <tr>\n",
       "      <th>7218</th>\n",
       "      <td>São Paulo</td>\n",
       "      <td>150</td>\n",
       "      <td>3</td>\n",
       "      <td>2</td>\n",
       "      <td>1</td>\n",
       "      <td>0</td>\n",
       "      <td>acept</td>\n",
       "      <td>not furnished</td>\n",
       "    </tr>\n",
       "    <tr>\n",
       "      <th>2881</th>\n",
       "      <td>Rio de Janeiro</td>\n",
       "      <td>40</td>\n",
       "      <td>1</td>\n",
       "      <td>1</td>\n",
       "      <td>0</td>\n",
       "      <td>1</td>\n",
       "      <td>acept</td>\n",
       "      <td>not furnished</td>\n",
       "    </tr>\n",
       "    <tr>\n",
       "      <th>5194</th>\n",
       "      <td>Belo Horizonte</td>\n",
       "      <td>140</td>\n",
       "      <td>4</td>\n",
       "      <td>3</td>\n",
       "      <td>3</td>\n",
       "      <td>4</td>\n",
       "      <td>acept</td>\n",
       "      <td>not furnished</td>\n",
       "    </tr>\n",
       "    <tr>\n",
       "      <th>...</th>\n",
       "      <td>...</td>\n",
       "      <td>...</td>\n",
       "      <td>...</td>\n",
       "      <td>...</td>\n",
       "      <td>...</td>\n",
       "      <td>...</td>\n",
       "      <td>...</td>\n",
       "      <td>...</td>\n",
       "    </tr>\n",
       "    <tr>\n",
       "      <th>7077</th>\n",
       "      <td>São Paulo</td>\n",
       "      <td>180</td>\n",
       "      <td>3</td>\n",
       "      <td>2</td>\n",
       "      <td>2</td>\n",
       "      <td>3</td>\n",
       "      <td>acept</td>\n",
       "      <td>not furnished</td>\n",
       "    </tr>\n",
       "    <tr>\n",
       "      <th>6417</th>\n",
       "      <td>São Paulo</td>\n",
       "      <td>300</td>\n",
       "      <td>3</td>\n",
       "      <td>2</td>\n",
       "      <td>1</td>\n",
       "      <td>0</td>\n",
       "      <td>acept</td>\n",
       "      <td>not furnished</td>\n",
       "    </tr>\n",
       "    <tr>\n",
       "      <th>6655</th>\n",
       "      <td>São Paulo</td>\n",
       "      <td>310</td>\n",
       "      <td>4</td>\n",
       "      <td>5</td>\n",
       "      <td>5</td>\n",
       "      <td>6</td>\n",
       "      <td>acept</td>\n",
       "      <td>furnished</td>\n",
       "    </tr>\n",
       "    <tr>\n",
       "      <th>1059</th>\n",
       "      <td>São Paulo</td>\n",
       "      <td>100</td>\n",
       "      <td>2</td>\n",
       "      <td>2</td>\n",
       "      <td>1</td>\n",
       "      <td>3</td>\n",
       "      <td>acept</td>\n",
       "      <td>not furnished</td>\n",
       "    </tr>\n",
       "    <tr>\n",
       "      <th>8992</th>\n",
       "      <td>São Paulo</td>\n",
       "      <td>300</td>\n",
       "      <td>5</td>\n",
       "      <td>4</td>\n",
       "      <td>5</td>\n",
       "      <td>0</td>\n",
       "      <td>acept</td>\n",
       "      <td>not furnished</td>\n",
       "    </tr>\n",
       "  </tbody>\n",
       "</table>\n",
       "<p>6052 rows × 8 columns</p>\n",
       "</div>"
      ],
      "text/plain": [
       "                city  area  rooms  bathroom  parking spaces  floor animal  \\\n",
       "4482       São Paulo    45      2         1               1     12  acept   \n",
       "401        São Paulo   190      3         4               4      0  acept   \n",
       "7218       São Paulo   150      3         2               1      0  acept   \n",
       "2881  Rio de Janeiro    40      1         1               0      1  acept   \n",
       "5194  Belo Horizonte   140      4         3               3      4  acept   \n",
       "...              ...   ...    ...       ...             ...    ...    ...   \n",
       "7077       São Paulo   180      3         2               2      3  acept   \n",
       "6417       São Paulo   300      3         2               1      0  acept   \n",
       "6655       São Paulo   310      4         5               5      6  acept   \n",
       "1059       São Paulo   100      2         2               1      3  acept   \n",
       "8992       São Paulo   300      5         4               5      0  acept   \n",
       "\n",
       "          furniture  \n",
       "4482  not furnished  \n",
       "401   not furnished  \n",
       "7218  not furnished  \n",
       "2881  not furnished  \n",
       "5194  not furnished  \n",
       "...             ...  \n",
       "7077  not furnished  \n",
       "6417  not furnished  \n",
       "6655      furnished  \n",
       "1059  not furnished  \n",
       "8992  not furnished  \n",
       "\n",
       "[6052 rows x 8 columns]"
      ]
     },
     "execution_count": 27,
     "metadata": {},
     "output_type": "execute_result"
    }
   ],
   "source": [
    "x_train"
   ]
  },
  {
   "cell_type": "code",
   "execution_count": 43,
   "id": "11e1960e",
   "metadata": {},
   "outputs": [],
   "source": [
    "x_train_transf = transformer.fit_transform(x_train)\n",
    "x_test_transf = transformer.fit_transform(x_test)"
   ]
  },
  {
   "cell_type": "code",
   "execution_count": 29,
   "id": "ef2b675f",
   "metadata": {},
   "outputs": [],
   "source": [
    "df_transf = pd.DataFrame(x_train_transf, columns =['area', 'rooms', 'bathroom', 'parking spaces', 'floor','BH','RJ','SP', 'animal','furniture'] )"
   ]
  },
  {
   "cell_type": "code",
   "execution_count": 30,
   "id": "576aa00a",
   "metadata": {},
   "outputs": [
    {
     "data": {
      "text/html": [
       "<div>\n",
       "<style scoped>\n",
       "    .dataframe tbody tr th:only-of-type {\n",
       "        vertical-align: middle;\n",
       "    }\n",
       "\n",
       "    .dataframe tbody tr th {\n",
       "        vertical-align: top;\n",
       "    }\n",
       "\n",
       "    .dataframe thead th {\n",
       "        text-align: right;\n",
       "    }\n",
       "</style>\n",
       "<table border=\"1\" class=\"dataframe\">\n",
       "  <thead>\n",
       "    <tr style=\"text-align: right;\">\n",
       "      <th></th>\n",
       "      <th>area</th>\n",
       "      <th>rooms</th>\n",
       "      <th>bathroom</th>\n",
       "      <th>parking spaces</th>\n",
       "      <th>floor</th>\n",
       "      <th>BH</th>\n",
       "      <th>RJ</th>\n",
       "      <th>SP</th>\n",
       "      <th>animal</th>\n",
       "      <th>furniture</th>\n",
       "    </tr>\n",
       "  </thead>\n",
       "  <tbody>\n",
       "    <tr>\n",
       "      <th>0</th>\n",
       "      <td>-0.182944</td>\n",
       "      <td>-0.482753</td>\n",
       "      <td>-0.932496</td>\n",
       "      <td>-0.427787</td>\n",
       "      <td>1.222476</td>\n",
       "      <td>0.0</td>\n",
       "      <td>0.0</td>\n",
       "      <td>1.0</td>\n",
       "      <td>1.0</td>\n",
       "      <td>0.0</td>\n",
       "    </tr>\n",
       "    <tr>\n",
       "      <th>1</th>\n",
       "      <td>0.054860</td>\n",
       "      <td>0.362134</td>\n",
       "      <td>1.157160</td>\n",
       "      <td>1.412276</td>\n",
       "      <td>-0.949698</td>\n",
       "      <td>0.0</td>\n",
       "      <td>0.0</td>\n",
       "      <td>1.0</td>\n",
       "      <td>1.0</td>\n",
       "      <td>0.0</td>\n",
       "    </tr>\n",
       "    <tr>\n",
       "      <th>2</th>\n",
       "      <td>-0.010741</td>\n",
       "      <td>0.362134</td>\n",
       "      <td>-0.235944</td>\n",
       "      <td>-0.427787</td>\n",
       "      <td>-0.949698</td>\n",
       "      <td>0.0</td>\n",
       "      <td>0.0</td>\n",
       "      <td>1.0</td>\n",
       "      <td>1.0</td>\n",
       "      <td>0.0</td>\n",
       "    </tr>\n",
       "    <tr>\n",
       "      <th>3</th>\n",
       "      <td>-0.191144</td>\n",
       "      <td>-1.327640</td>\n",
       "      <td>-0.932496</td>\n",
       "      <td>-1.041141</td>\n",
       "      <td>-0.768684</td>\n",
       "      <td>0.0</td>\n",
       "      <td>1.0</td>\n",
       "      <td>0.0</td>\n",
       "      <td>1.0</td>\n",
       "      <td>0.0</td>\n",
       "    </tr>\n",
       "    <tr>\n",
       "      <th>4</th>\n",
       "      <td>-0.027141</td>\n",
       "      <td>1.207021</td>\n",
       "      <td>0.460608</td>\n",
       "      <td>0.798921</td>\n",
       "      <td>-0.225640</td>\n",
       "      <td>1.0</td>\n",
       "      <td>0.0</td>\n",
       "      <td>0.0</td>\n",
       "      <td>1.0</td>\n",
       "      <td>0.0</td>\n",
       "    </tr>\n",
       "    <tr>\n",
       "      <th>...</th>\n",
       "      <td>...</td>\n",
       "      <td>...</td>\n",
       "      <td>...</td>\n",
       "      <td>...</td>\n",
       "      <td>...</td>\n",
       "      <td>...</td>\n",
       "      <td>...</td>\n",
       "      <td>...</td>\n",
       "      <td>...</td>\n",
       "      <td>...</td>\n",
       "    </tr>\n",
       "    <tr>\n",
       "      <th>6047</th>\n",
       "      <td>0.038460</td>\n",
       "      <td>0.362134</td>\n",
       "      <td>-0.235944</td>\n",
       "      <td>0.185567</td>\n",
       "      <td>-0.406655</td>\n",
       "      <td>0.0</td>\n",
       "      <td>0.0</td>\n",
       "      <td>1.0</td>\n",
       "      <td>1.0</td>\n",
       "      <td>0.0</td>\n",
       "    </tr>\n",
       "    <tr>\n",
       "      <th>6048</th>\n",
       "      <td>0.235263</td>\n",
       "      <td>0.362134</td>\n",
       "      <td>-0.235944</td>\n",
       "      <td>-0.427787</td>\n",
       "      <td>-0.949698</td>\n",
       "      <td>0.0</td>\n",
       "      <td>0.0</td>\n",
       "      <td>1.0</td>\n",
       "      <td>1.0</td>\n",
       "      <td>0.0</td>\n",
       "    </tr>\n",
       "    <tr>\n",
       "      <th>6049</th>\n",
       "      <td>0.251663</td>\n",
       "      <td>1.207021</td>\n",
       "      <td>1.853712</td>\n",
       "      <td>2.025630</td>\n",
       "      <td>0.136389</td>\n",
       "      <td>0.0</td>\n",
       "      <td>0.0</td>\n",
       "      <td>1.0</td>\n",
       "      <td>1.0</td>\n",
       "      <td>1.0</td>\n",
       "    </tr>\n",
       "    <tr>\n",
       "      <th>6050</th>\n",
       "      <td>-0.092743</td>\n",
       "      <td>-0.482753</td>\n",
       "      <td>-0.235944</td>\n",
       "      <td>-0.427787</td>\n",
       "      <td>-0.406655</td>\n",
       "      <td>0.0</td>\n",
       "      <td>0.0</td>\n",
       "      <td>1.0</td>\n",
       "      <td>1.0</td>\n",
       "      <td>0.0</td>\n",
       "    </tr>\n",
       "    <tr>\n",
       "      <th>6051</th>\n",
       "      <td>0.235263</td>\n",
       "      <td>2.051908</td>\n",
       "      <td>1.157160</td>\n",
       "      <td>2.025630</td>\n",
       "      <td>-0.949698</td>\n",
       "      <td>0.0</td>\n",
       "      <td>0.0</td>\n",
       "      <td>1.0</td>\n",
       "      <td>1.0</td>\n",
       "      <td>0.0</td>\n",
       "    </tr>\n",
       "  </tbody>\n",
       "</table>\n",
       "<p>6052 rows × 10 columns</p>\n",
       "</div>"
      ],
      "text/plain": [
       "          area     rooms  bathroom  parking spaces     floor   BH   RJ   SP  \\\n",
       "0    -0.182944 -0.482753 -0.932496       -0.427787  1.222476  0.0  0.0  1.0   \n",
       "1     0.054860  0.362134  1.157160        1.412276 -0.949698  0.0  0.0  1.0   \n",
       "2    -0.010741  0.362134 -0.235944       -0.427787 -0.949698  0.0  0.0  1.0   \n",
       "3    -0.191144 -1.327640 -0.932496       -1.041141 -0.768684  0.0  1.0  0.0   \n",
       "4    -0.027141  1.207021  0.460608        0.798921 -0.225640  1.0  0.0  0.0   \n",
       "...        ...       ...       ...             ...       ...  ...  ...  ...   \n",
       "6047  0.038460  0.362134 -0.235944        0.185567 -0.406655  0.0  0.0  1.0   \n",
       "6048  0.235263  0.362134 -0.235944       -0.427787 -0.949698  0.0  0.0  1.0   \n",
       "6049  0.251663  1.207021  1.853712        2.025630  0.136389  0.0  0.0  1.0   \n",
       "6050 -0.092743 -0.482753 -0.235944       -0.427787 -0.406655  0.0  0.0  1.0   \n",
       "6051  0.235263  2.051908  1.157160        2.025630 -0.949698  0.0  0.0  1.0   \n",
       "\n",
       "      animal  furniture  \n",
       "0        1.0        0.0  \n",
       "1        1.0        0.0  \n",
       "2        1.0        0.0  \n",
       "3        1.0        0.0  \n",
       "4        1.0        0.0  \n",
       "...      ...        ...  \n",
       "6047     1.0        0.0  \n",
       "6048     1.0        0.0  \n",
       "6049     1.0        1.0  \n",
       "6050     1.0        0.0  \n",
       "6051     1.0        0.0  \n",
       "\n",
       "[6052 rows x 10 columns]"
      ]
     },
     "execution_count": 30,
     "metadata": {},
     "output_type": "execute_result"
    }
   ],
   "source": [
    "df_transf"
   ]
  },
  {
   "cell_type": "code",
   "execution_count": 33,
   "id": "b355f44f",
   "metadata": {},
   "outputs": [],
   "source": [
    "y_train_transf  = np.log(y_train)\n",
    "y_test_transf = np.log(y_test)"
   ]
  },
  {
   "cell_type": "markdown",
   "id": "74712640",
   "metadata": {},
   "source": [
    "# Regressão Linear Simples (mínimos quadrados)"
   ]
  },
  {
   "cell_type": "code",
   "execution_count": 34,
   "id": "c01f9544",
   "metadata": {},
   "outputs": [],
   "source": [
    "LR = LinearRegression()"
   ]
  },
  {
   "cell_type": "code",
   "execution_count": 35,
   "id": "16c3a527",
   "metadata": {},
   "outputs": [
    {
     "data": {
      "text/plain": [
       "LinearRegression()"
      ]
     },
     "execution_count": 35,
     "metadata": {},
     "output_type": "execute_result"
    }
   ],
   "source": [
    "LR.fit(x_train_transf,y_train_transf)"
   ]
  },
  {
   "cell_type": "code",
   "execution_count": 36,
   "id": "b65802dd",
   "metadata": {},
   "outputs": [
    {
     "data": {
      "text/plain": [
       "array([ 0.00653011,  0.18363007,  0.26935842,  0.15903731,  0.07905013,\n",
       "       -0.19441368,  0.06181762,  0.13259607,  0.01583549,  0.36218641])"
      ]
     },
     "execution_count": 36,
     "metadata": {},
     "output_type": "execute_result"
    }
   ],
   "source": [
    "LR.coef_"
   ]
  },
  {
   "cell_type": "code",
   "execution_count": 37,
   "id": "a35306f3",
   "metadata": {},
   "outputs": [],
   "source": [
    "coeff_df_lr = pd.DataFrame(LR.coef_,df_transf.columns,columns=['Coefficient'])"
   ]
  },
  {
   "cell_type": "code",
   "execution_count": 38,
   "id": "7151c381",
   "metadata": {},
   "outputs": [
    {
     "data": {
      "text/html": [
       "<div>\n",
       "<style scoped>\n",
       "    .dataframe tbody tr th:only-of-type {\n",
       "        vertical-align: middle;\n",
       "    }\n",
       "\n",
       "    .dataframe tbody tr th {\n",
       "        vertical-align: top;\n",
       "    }\n",
       "\n",
       "    .dataframe thead th {\n",
       "        text-align: right;\n",
       "    }\n",
       "</style>\n",
       "<table border=\"1\" class=\"dataframe\">\n",
       "  <thead>\n",
       "    <tr style=\"text-align: right;\">\n",
       "      <th></th>\n",
       "      <th>Coefficient</th>\n",
       "    </tr>\n",
       "  </thead>\n",
       "  <tbody>\n",
       "    <tr>\n",
       "      <th>area</th>\n",
       "      <td>0.006530</td>\n",
       "    </tr>\n",
       "    <tr>\n",
       "      <th>rooms</th>\n",
       "      <td>0.183630</td>\n",
       "    </tr>\n",
       "    <tr>\n",
       "      <th>bathroom</th>\n",
       "      <td>0.269358</td>\n",
       "    </tr>\n",
       "    <tr>\n",
       "      <th>parking spaces</th>\n",
       "      <td>0.159037</td>\n",
       "    </tr>\n",
       "    <tr>\n",
       "      <th>floor</th>\n",
       "      <td>0.079050</td>\n",
       "    </tr>\n",
       "    <tr>\n",
       "      <th>BH</th>\n",
       "      <td>-0.194414</td>\n",
       "    </tr>\n",
       "    <tr>\n",
       "      <th>RJ</th>\n",
       "      <td>0.061818</td>\n",
       "    </tr>\n",
       "    <tr>\n",
       "      <th>SP</th>\n",
       "      <td>0.132596</td>\n",
       "    </tr>\n",
       "    <tr>\n",
       "      <th>animal</th>\n",
       "      <td>0.015835</td>\n",
       "    </tr>\n",
       "    <tr>\n",
       "      <th>furniture</th>\n",
       "      <td>0.362186</td>\n",
       "    </tr>\n",
       "  </tbody>\n",
       "</table>\n",
       "</div>"
      ],
      "text/plain": [
       "                Coefficient\n",
       "area               0.006530\n",
       "rooms              0.183630\n",
       "bathroom           0.269358\n",
       "parking spaces     0.159037\n",
       "floor              0.079050\n",
       "BH                -0.194414\n",
       "RJ                 0.061818\n",
       "SP                 0.132596\n",
       "animal             0.015835\n",
       "furniture          0.362186"
      ]
     },
     "execution_count": 38,
     "metadata": {},
     "output_type": "execute_result"
    }
   ],
   "source": [
    "coeff_df_lr"
   ]
  },
  {
   "cell_type": "code",
   "execution_count": 39,
   "id": "921d18d8",
   "metadata": {},
   "outputs": [
    {
     "name": "stdout",
     "output_type": "stream",
     "text": [
      "Intercepto: 7.887078498624727\n"
     ]
    }
   ],
   "source": [
    "print('Intercepto:',LR.intercept_)"
   ]
  },
  {
   "cell_type": "code",
   "execution_count": 55,
   "id": "8769234d",
   "metadata": {},
   "outputs": [
    {
     "ename": "ValueError",
     "evalue": "'mean_squared_error' is not a valid scoring value. Use sorted(sklearn.metrics.SCORERS.keys()) to get valid options.",
     "output_type": "error",
     "traceback": [
      "\u001b[0;31m---------------------------------------------------------------------------\u001b[0m",
      "\u001b[0;31mKeyError\u001b[0m                                  Traceback (most recent call last)",
      "\u001b[0;32m~/miniconda3/envs/estudos/lib/python3.9/site-packages/sklearn/metrics/_scorer.py\u001b[0m in \u001b[0;36mget_scorer\u001b[0;34m(scoring)\u001b[0m\n\u001b[1;32m    403\u001b[0m         \u001b[0;32mtry\u001b[0m\u001b[0;34m:\u001b[0m\u001b[0;34m\u001b[0m\u001b[0;34m\u001b[0m\u001b[0m\n\u001b[0;32m--> 404\u001b[0;31m             \u001b[0mscorer\u001b[0m \u001b[0;34m=\u001b[0m \u001b[0mSCORERS\u001b[0m\u001b[0;34m[\u001b[0m\u001b[0mscoring\u001b[0m\u001b[0;34m]\u001b[0m\u001b[0;34m\u001b[0m\u001b[0;34m\u001b[0m\u001b[0m\n\u001b[0m\u001b[1;32m    405\u001b[0m         \u001b[0;32mexcept\u001b[0m \u001b[0mKeyError\u001b[0m\u001b[0;34m:\u001b[0m\u001b[0;34m\u001b[0m\u001b[0;34m\u001b[0m\u001b[0m\n",
      "\u001b[0;31mKeyError\u001b[0m: 'mean_squared_error'",
      "\nDuring handling of the above exception, another exception occurred:\n",
      "\u001b[0;31mValueError\u001b[0m                                Traceback (most recent call last)",
      "\u001b[0;32m/tmp/ipykernel_4041/3544527665.py\u001b[0m in \u001b[0;36m<module>\u001b[0;34m\u001b[0m\n\u001b[0;32m----> 1\u001b[0;31m \u001b[0mscores\u001b[0m \u001b[0;34m=\u001b[0m \u001b[0mcross_validate\u001b[0m\u001b[0;34m(\u001b[0m\u001b[0mLR\u001b[0m\u001b[0;34m,\u001b[0m \u001b[0mx_train_transf\u001b[0m\u001b[0;34m,\u001b[0m \u001b[0my_train_transf\u001b[0m\u001b[0;34m,\u001b[0m \u001b[0mcv\u001b[0m\u001b[0;34m=\u001b[0m\u001b[0;36m5\u001b[0m\u001b[0;34m,\u001b[0m\u001b[0mscoring\u001b[0m\u001b[0;34m=\u001b[0m\u001b[0;34m(\u001b[0m\u001b[0;34m'r2'\u001b[0m\u001b[0;34m,\u001b[0m \u001b[0;34m'mean_squared_error'\u001b[0m\u001b[0;34m)\u001b[0m \u001b[0;34m,\u001b[0m\u001b[0mreturn_train_score\u001b[0m\u001b[0;34m=\u001b[0m\u001b[0;32mTrue\u001b[0m\u001b[0;34m)\u001b[0m\u001b[0;34m\u001b[0m\u001b[0;34m\u001b[0m\u001b[0m\n\u001b[0m",
      "\u001b[0;32m~/miniconda3/envs/estudos/lib/python3.9/site-packages/sklearn/model_selection/_validation.py\u001b[0m in \u001b[0;36mcross_validate\u001b[0;34m(estimator, X, y, groups, scoring, cv, n_jobs, verbose, fit_params, pre_dispatch, return_train_score, return_estimator, error_score)\u001b[0m\n\u001b[1;32m    260\u001b[0m         \u001b[0mscorers\u001b[0m \u001b[0;34m=\u001b[0m \u001b[0mcheck_scoring\u001b[0m\u001b[0;34m(\u001b[0m\u001b[0mestimator\u001b[0m\u001b[0;34m,\u001b[0m \u001b[0mscoring\u001b[0m\u001b[0;34m)\u001b[0m\u001b[0;34m\u001b[0m\u001b[0;34m\u001b[0m\u001b[0m\n\u001b[1;32m    261\u001b[0m     \u001b[0;32melse\u001b[0m\u001b[0;34m:\u001b[0m\u001b[0;34m\u001b[0m\u001b[0;34m\u001b[0m\u001b[0m\n\u001b[0;32m--> 262\u001b[0;31m         \u001b[0mscorers\u001b[0m \u001b[0;34m=\u001b[0m \u001b[0m_check_multimetric_scoring\u001b[0m\u001b[0;34m(\u001b[0m\u001b[0mestimator\u001b[0m\u001b[0;34m,\u001b[0m \u001b[0mscoring\u001b[0m\u001b[0;34m)\u001b[0m\u001b[0;34m\u001b[0m\u001b[0;34m\u001b[0m\u001b[0m\n\u001b[0m\u001b[1;32m    263\u001b[0m \u001b[0;34m\u001b[0m\u001b[0m\n\u001b[1;32m    264\u001b[0m     \u001b[0;31m# We clone the estimator to make sure that all the folds are\u001b[0m\u001b[0;34m\u001b[0m\u001b[0;34m\u001b[0m\u001b[0m\n",
      "\u001b[0;32m~/miniconda3/envs/estudos/lib/python3.9/site-packages/sklearn/metrics/_scorer.py\u001b[0m in \u001b[0;36m_check_multimetric_scoring\u001b[0;34m(estimator, scoring)\u001b[0m\n\u001b[1;32m    552\u001b[0m                         \u001b[0;34mf\"in the given list. Got {scoring!r}\"\u001b[0m\u001b[0;34m\u001b[0m\u001b[0;34m\u001b[0m\u001b[0m\n\u001b[1;32m    553\u001b[0m                     )\n\u001b[0;32m--> 554\u001b[0;31m             scorers = {\n\u001b[0m\u001b[1;32m    555\u001b[0m                 \u001b[0mscorer\u001b[0m\u001b[0;34m:\u001b[0m \u001b[0mcheck_scoring\u001b[0m\u001b[0;34m(\u001b[0m\u001b[0mestimator\u001b[0m\u001b[0;34m,\u001b[0m \u001b[0mscoring\u001b[0m\u001b[0;34m=\u001b[0m\u001b[0mscorer\u001b[0m\u001b[0;34m)\u001b[0m \u001b[0;32mfor\u001b[0m \u001b[0mscorer\u001b[0m \u001b[0;32min\u001b[0m \u001b[0mscoring\u001b[0m\u001b[0;34m\u001b[0m\u001b[0;34m\u001b[0m\u001b[0m\n\u001b[1;32m    556\u001b[0m             }\n",
      "\u001b[0;32m~/miniconda3/envs/estudos/lib/python3.9/site-packages/sklearn/metrics/_scorer.py\u001b[0m in \u001b[0;36m<dictcomp>\u001b[0;34m(.0)\u001b[0m\n\u001b[1;32m    553\u001b[0m                     )\n\u001b[1;32m    554\u001b[0m             scorers = {\n\u001b[0;32m--> 555\u001b[0;31m                 \u001b[0mscorer\u001b[0m\u001b[0;34m:\u001b[0m \u001b[0mcheck_scoring\u001b[0m\u001b[0;34m(\u001b[0m\u001b[0mestimator\u001b[0m\u001b[0;34m,\u001b[0m \u001b[0mscoring\u001b[0m\u001b[0;34m=\u001b[0m\u001b[0mscorer\u001b[0m\u001b[0;34m)\u001b[0m \u001b[0;32mfor\u001b[0m \u001b[0mscorer\u001b[0m \u001b[0;32min\u001b[0m \u001b[0mscoring\u001b[0m\u001b[0;34m\u001b[0m\u001b[0;34m\u001b[0m\u001b[0m\n\u001b[0m\u001b[1;32m    556\u001b[0m             }\n\u001b[1;32m    557\u001b[0m         \u001b[0;32melse\u001b[0m\u001b[0;34m:\u001b[0m\u001b[0;34m\u001b[0m\u001b[0;34m\u001b[0m\u001b[0m\n",
      "\u001b[0;32m~/miniconda3/envs/estudos/lib/python3.9/site-packages/sklearn/metrics/_scorer.py\u001b[0m in \u001b[0;36mcheck_scoring\u001b[0;34m(estimator, scoring, allow_none)\u001b[0m\n\u001b[1;32m    451\u001b[0m         )\n\u001b[1;32m    452\u001b[0m     \u001b[0;32mif\u001b[0m \u001b[0misinstance\u001b[0m\u001b[0;34m(\u001b[0m\u001b[0mscoring\u001b[0m\u001b[0;34m,\u001b[0m \u001b[0mstr\u001b[0m\u001b[0;34m)\u001b[0m\u001b[0;34m:\u001b[0m\u001b[0;34m\u001b[0m\u001b[0;34m\u001b[0m\u001b[0m\n\u001b[0;32m--> 453\u001b[0;31m         \u001b[0;32mreturn\u001b[0m \u001b[0mget_scorer\u001b[0m\u001b[0;34m(\u001b[0m\u001b[0mscoring\u001b[0m\u001b[0;34m)\u001b[0m\u001b[0;34m\u001b[0m\u001b[0;34m\u001b[0m\u001b[0m\n\u001b[0m\u001b[1;32m    454\u001b[0m     \u001b[0;32melif\u001b[0m \u001b[0mcallable\u001b[0m\u001b[0;34m(\u001b[0m\u001b[0mscoring\u001b[0m\u001b[0;34m)\u001b[0m\u001b[0;34m:\u001b[0m\u001b[0;34m\u001b[0m\u001b[0;34m\u001b[0m\u001b[0m\n\u001b[1;32m    455\u001b[0m         \u001b[0;31m# Heuristic to ensure user has not passed a metric\u001b[0m\u001b[0;34m\u001b[0m\u001b[0;34m\u001b[0m\u001b[0m\n",
      "\u001b[0;32m~/miniconda3/envs/estudos/lib/python3.9/site-packages/sklearn/metrics/_scorer.py\u001b[0m in \u001b[0;36mget_scorer\u001b[0;34m(scoring)\u001b[0m\n\u001b[1;32m    404\u001b[0m             \u001b[0mscorer\u001b[0m \u001b[0;34m=\u001b[0m \u001b[0mSCORERS\u001b[0m\u001b[0;34m[\u001b[0m\u001b[0mscoring\u001b[0m\u001b[0;34m]\u001b[0m\u001b[0;34m\u001b[0m\u001b[0;34m\u001b[0m\u001b[0m\n\u001b[1;32m    405\u001b[0m         \u001b[0;32mexcept\u001b[0m \u001b[0mKeyError\u001b[0m\u001b[0;34m:\u001b[0m\u001b[0;34m\u001b[0m\u001b[0;34m\u001b[0m\u001b[0m\n\u001b[0;32m--> 406\u001b[0;31m             raise ValueError(\n\u001b[0m\u001b[1;32m    407\u001b[0m                 \u001b[0;34m\"%r is not a valid scoring value. \"\u001b[0m\u001b[0;34m\u001b[0m\u001b[0;34m\u001b[0m\u001b[0m\n\u001b[1;32m    408\u001b[0m                 \u001b[0;34m\"Use sorted(sklearn.metrics.SCORERS.keys()) \"\u001b[0m\u001b[0;34m\u001b[0m\u001b[0;34m\u001b[0m\u001b[0m\n",
      "\u001b[0;31mValueError\u001b[0m: 'mean_squared_error' is not a valid scoring value. Use sorted(sklearn.metrics.SCORERS.keys()) to get valid options."
     ]
    }
   ],
   "source": [
    "scores = cross_validate(LR, x_train_transf, y_train_transf, cv=5,scoring=('r2', 'mean_squared_error') ,return_train_score=True)"
   ]
  },
  {
   "cell_type": "code",
   "execution_count": 58,
   "id": "1a8b2183",
   "metadata": {},
   "outputs": [
    {
     "data": {
      "text/plain": [
       "dict_keys(['explained_variance', 'r2', 'max_error', 'neg_median_absolute_error', 'neg_mean_absolute_error', 'neg_mean_absolute_percentage_error', 'neg_mean_squared_error', 'neg_mean_squared_log_error', 'neg_root_mean_squared_error', 'neg_mean_poisson_deviance', 'neg_mean_gamma_deviance', 'accuracy', 'top_k_accuracy', 'roc_auc', 'roc_auc_ovr', 'roc_auc_ovo', 'roc_auc_ovr_weighted', 'roc_auc_ovo_weighted', 'balanced_accuracy', 'average_precision', 'neg_log_loss', 'neg_brier_score', 'adjusted_rand_score', 'rand_score', 'homogeneity_score', 'completeness_score', 'v_measure_score', 'mutual_info_score', 'adjusted_mutual_info_score', 'normalized_mutual_info_score', 'fowlkes_mallows_score', 'precision', 'precision_macro', 'precision_micro', 'precision_samples', 'precision_weighted', 'recall', 'recall_macro', 'recall_micro', 'recall_samples', 'recall_weighted', 'f1', 'f1_macro', 'f1_micro', 'f1_samples', 'f1_weighted', 'jaccard', 'jaccard_macro', 'jaccard_micro', 'jaccard_samples', 'jaccard_weighted'])"
      ]
     },
     "execution_count": 58,
     "metadata": {},
     "output_type": "execute_result"
    }
   ],
   "source": [
    "sklearn.metrics.SCORERS.keys()"
   ]
  },
  {
   "cell_type": "code",
   "execution_count": 54,
   "id": "47c0e2b9",
   "metadata": {},
   "outputs": [
    {
     "data": {
      "text/plain": [
       "{'fit_time': array([0.00425482, 0.00486541, 0.00955582, 0.00459123, 0.00468278]),\n",
       " 'score_time': array([0.00218439, 0.00183988, 0.00198269, 0.00177336, 0.00183845]),\n",
       " 'test_r2': array([ 0.57800779,  0.59740517, -5.6915823 ,  0.57596857,  0.59047617]),\n",
       " 'train_r2': array([0.58116455, 0.5759432 , 0.6099823 , 0.58161356, 0.57808318]),\n",
       " 'test_neg_mean_squared_error': array([-0.25119971, -0.24721002, -3.70887021, -0.25425497, -0.24168008]),\n",
       " 'train_neg_mean_squared_error': array([-0.24699407, -0.24807889, -0.23403696, -0.24629894, -0.24940584])}"
      ]
     },
     "execution_count": 54,
     "metadata": {},
     "output_type": "execute_result"
    }
   ],
   "source": [
    "scores"
   ]
  },
  {
   "cell_type": "code",
   "execution_count": 45,
   "id": "082f103e",
   "metadata": {},
   "outputs": [
    {
     "name": "stdout",
     "output_type": "stream",
     "text": [
      "MAE: 1778.1887164288146\n",
      "MSE: 9482747.16750348\n",
      "RMSE: 3079.406950616219\n"
     ]
    }
   ],
   "source": [
    "y_pred_lr = LR.predict(x_test_transf)\n",
    "print('MAE:', mean_absolute_error(np.exp(y_test_transf), np.exp(y_pred_lr)))\n",
    "print('MSE:', mean_squared_error(np.exp(y_test_transf), np.exp(y_pred_lr)))\n",
    "print('RMSE:', np.sqrt(mean_squared_error(np.exp(y_test_transf), np.exp(y_pred_lr))))"
   ]
  },
  {
   "cell_type": "markdown",
   "id": "9e8d9bc0",
   "metadata": {},
   "source": [
    "# Lasso"
   ]
  },
  {
   "cell_type": "code",
   "execution_count": 37,
   "id": "2b3b058b",
   "metadata": {},
   "outputs": [],
   "source": [
    "lambdas_lasso = np.logspace(-3, 0, 30)"
   ]
  },
  {
   "cell_type": "code",
   "execution_count": 39,
   "id": "226c1395",
   "metadata": {},
   "outputs": [
    {
     "data": {
      "text/plain": [
       "GridSearchCV(cv=5, estimator=Lasso(),\n",
       "             param_grid={'alpha': array([0.001     , 0.00126896, 0.00161026, 0.00204336, 0.00259294,\n",
       "       0.00329034, 0.00417532, 0.00529832, 0.00672336, 0.00853168,\n",
       "       0.01082637, 0.01373824, 0.01743329, 0.02212216, 0.02807216,\n",
       "       0.03562248, 0.04520354, 0.05736153, 0.07278954, 0.09236709,\n",
       "       0.11721023, 0.14873521, 0.18873918, 0.23950266, 0.30391954,\n",
       "       0.38566204, 0.48939009, 0.62101694, 0.78804628, 1.        ])},\n",
       "             scoring='neg_mean_squared_error')"
      ]
     },
     "execution_count": 39,
     "metadata": {},
     "output_type": "execute_result"
    }
   ],
   "source": [
    "lasso = Lasso()\n",
    "grid_lasso = GridSearchCV(estimator=lasso, param_grid=dict(alpha=lambdas_lasso), cv=5, scoring = 'neg_mean_squared_error')\n",
    "grid_lasso.fit(x_train,y_train)"
   ]
  },
  {
   "cell_type": "code",
   "execution_count": 40,
   "id": "4ef1982d",
   "metadata": {},
   "outputs": [],
   "source": [
    "scores_lasso =(-grid_lasso.cv_results_['mean_test_score'])"
   ]
  },
  {
   "cell_type": "code",
   "execution_count": 42,
   "id": "a2199f2f",
   "metadata": {},
   "outputs": [
    {
     "data": {
      "text/plain": [
       "(0.001, 1.0)"
      ]
     },
     "execution_count": 42,
     "metadata": {},
     "output_type": "execute_result"
    },
    {
     "data": {
      "image/png": "[encoded data removed]",
      "text/plain": [
       "<Figure size 720x576 with 1 Axes>"
      ]
     },
     "metadata": {},
     "output_type": "display_data"
    }
   ],
   "source": [
    "plt.figure().set_size_inches(10, 8)\n",
    "plt.semilogx(lambdas_lasso, scores_lasso)\n",
    "plt.ylabel('MSE')\n",
    "plt.xlabel('lambda')\n",
    "plt.title('MSE X LAMBDA (LASSO)')\n",
    "plt.axhline(np.min(scores_lasso), linestyle='--', color='.5')\n",
    "plt.xlim([lambdas_lasso[0], lambdas_lasso[-1]])"
   ]
  },
  {
   "cell_type": "markdown",
   "id": "736702ba",
   "metadata": {},
   "source": [
    "### Menor erro médio quadrado - lasso"
   ]
  },
  {
   "cell_type": "code",
   "execution_count": null,
   "id": "86a75876",
   "metadata": {},
   "outputs": [],
   "source": [
    "np.min(scores_lasso)"
   ]
  },
  {
   "cell_type": "markdown",
   "id": "e5db7f31",
   "metadata": {},
   "source": [
    "### Lambda que minimiza o MSE - lasso"
   ]
  },
  {
   "cell_type": "code",
   "execution_count": null,
   "id": "4c60bf76",
   "metadata": {},
   "outputs": [],
   "source": [
    "lambdas[np.argmin(scores_lasso)]"
   ]
  },
  {
   "cell_type": "markdown",
   "id": "e6dd00d4",
   "metadata": {},
   "source": [
    "### Coefientes do modelo Lasso com lambda = 0.02395026619987486"
   ]
  },
  {
   "cell_type": "code",
   "execution_count": 45,
   "id": "ed5f0e44",
   "metadata": {},
   "outputs": [],
   "source": [
    "reg_lasso = Lasso (alpha= lambdas_lasso[np.argmin(scores_lasso)])"
   ]
  },
  {
   "cell_type": "code",
   "execution_count": 46,
   "id": "97eb5dd3",
   "metadata": {},
   "outputs": [
    {
     "data": {
      "text/plain": [
       "Lasso(alpha=0.022122162910704492)"
      ]
     },
     "execution_count": 46,
     "metadata": {},
     "output_type": "execute_result"
    }
   ],
   "source": [
    "reg_lasso.fit(x_train,y_train)"
   ]
  },
  {
   "cell_type": "code",
   "execution_count": 47,
   "id": "dec66da3",
   "metadata": {},
   "outputs": [
    {
     "data": {
      "text/plain": [
       "array([ 0.        ,  0.1419528 ,  0.28975791,  0.14742867,  0.06624944,\n",
       "       -0.09811352, -0.        ,  0.04806138,  0.        ,  0.25603475])"
      ]
     },
     "execution_count": 47,
     "metadata": {},
     "output_type": "execute_result"
    }
   ],
   "source": [
    "reg_lasso.coef_"
   ]
  },
  {
   "cell_type": "code",
   "execution_count": 48,
   "id": "3357e0ad",
   "metadata": {},
   "outputs": [],
   "source": [
    "coeff_df_lasso = pd.DataFrame(reg_lasso.coef_,df_transf.columns,columns=['Coefficient'])"
   ]
  },
  {
   "cell_type": "code",
   "execution_count": 49,
   "id": "c3f8b405",
   "metadata": {
    "scrolled": false
   },
   "outputs": [
    {
     "data": {
      "text/html": [
       "<div>\n",
       "<style scoped>\n",
       "    .dataframe tbody tr th:only-of-type {\n",
       "        vertical-align: middle;\n",
       "    }\n",
       "\n",
       "    .dataframe tbody tr th {\n",
       "        vertical-align: top;\n",
       "    }\n",
       "\n",
       "    .dataframe thead th {\n",
       "        text-align: right;\n",
       "    }\n",
       "</style>\n",
       "<table border=\"1\" class=\"dataframe\">\n",
       "  <thead>\n",
       "    <tr style=\"text-align: right;\">\n",
       "      <th></th>\n",
       "      <th>Coefficient</th>\n",
       "    </tr>\n",
       "  </thead>\n",
       "  <tbody>\n",
       "    <tr>\n",
       "      <th>area</th>\n",
       "      <td>0.000000</td>\n",
       "    </tr>\n",
       "    <tr>\n",
       "      <th>rooms</th>\n",
       "      <td>0.141953</td>\n",
       "    </tr>\n",
       "    <tr>\n",
       "      <th>bathroom</th>\n",
       "      <td>0.289758</td>\n",
       "    </tr>\n",
       "    <tr>\n",
       "      <th>parking spaces</th>\n",
       "      <td>0.147429</td>\n",
       "    </tr>\n",
       "    <tr>\n",
       "      <th>floor</th>\n",
       "      <td>0.066249</td>\n",
       "    </tr>\n",
       "    <tr>\n",
       "      <th>BH</th>\n",
       "      <td>-0.098114</td>\n",
       "    </tr>\n",
       "    <tr>\n",
       "      <th>RJ</th>\n",
       "      <td>-0.000000</td>\n",
       "    </tr>\n",
       "    <tr>\n",
       "      <th>SP</th>\n",
       "      <td>0.048061</td>\n",
       "    </tr>\n",
       "    <tr>\n",
       "      <th>animal</th>\n",
       "      <td>0.000000</td>\n",
       "    </tr>\n",
       "    <tr>\n",
       "      <th>furniture</th>\n",
       "      <td>0.256035</td>\n",
       "    </tr>\n",
       "  </tbody>\n",
       "</table>\n",
       "</div>"
      ],
      "text/plain": [
       "                Coefficient\n",
       "area               0.000000\n",
       "rooms              0.141953\n",
       "bathroom           0.289758\n",
       "parking spaces     0.147429\n",
       "floor              0.066249\n",
       "BH                -0.098114\n",
       "RJ                -0.000000\n",
       "SP                 0.048061\n",
       "animal             0.000000\n",
       "furniture          0.256035"
      ]
     },
     "execution_count": 49,
     "metadata": {},
     "output_type": "execute_result"
    }
   ],
   "source": [
    "coeff_df_lasso"
   ]
  },
  {
   "cell_type": "markdown",
   "id": "e5fc595e",
   "metadata": {},
   "source": [
    "### Intercepto - lasso"
   ]
  },
  {
   "cell_type": "code",
   "execution_count": 50,
   "id": "7d0e52a3",
   "metadata": {},
   "outputs": [
    {
     "name": "stdout",
     "output_type": "stream",
     "text": [
      "Intercepto: 7.979112198185916\n"
     ]
    }
   ],
   "source": [
    "print('Intercepto:',reg_lasso.intercept_)"
   ]
  },
  {
   "cell_type": "markdown",
   "id": "43b19665",
   "metadata": {},
   "source": [
    "### MAE / MSE / RMSE - lasso"
   ]
  },
  {
   "cell_type": "code",
   "execution_count": 51,
   "id": "10d7d614",
   "metadata": {},
   "outputs": [
    {
     "name": "stdout",
     "output_type": "stream",
     "text": [
      "MAE: 1758.775544553853\n",
      "MSE: 8850432.987780282\n",
      "RMSE: 2974.967728863673\n"
     ]
    }
   ],
   "source": [
    "y_pred_lasso = reg_lasso.predict(x_test)\n",
    "print('MAE:', mean_absolute_error(np.exp(y_test), np.exp(y_pred_lasso)))\n",
    "print('MSE:', mean_squared_error(np.exp(y_test),np.exp(y_pred_lasso)))\n",
    "print('RMSE:', np.sqrt(mean_squared_error(np.exp(y_test),np.exp(y_pred_lasso))))"
   ]
  },
  {
   "cell_type": "markdown",
   "id": "1f2f4e4b",
   "metadata": {},
   "source": [
    "# Ridge"
   ]
  },
  {
   "cell_type": "code",
   "execution_count": 59,
   "id": "5a719947",
   "metadata": {},
   "outputs": [],
   "source": [
    "lambdas_ridge = np.logspace(-3, 8,100)"
   ]
  },
  {
   "cell_type": "code",
   "execution_count": 60,
   "id": "cf0db04a",
   "metadata": {},
   "outputs": [
    {
     "data": {
      "text/plain": [
       "GridSearchCV(cv=5, estimator=Ridge(),\n",
       "             param_grid={'alpha': array([1.00000000e-03, 1.29154967e-03, 1.66810054e-03, 2.15443469e-03,\n",
       "       2.78255940e-03, 3.59381366e-03, 4.64158883e-03, 5.99484250e-03,\n",
       "       7.74263683e-03, 1.00000000e-02, 1.29154967e-02, 1.66810054e-02,\n",
       "       2.15443469e-02, 2.78255940e-02, 3.59381366e-02, 4.64158883e-02,\n",
       "       5.99484250e-02, 7.74263683e-02, 1.00000000e-01, 1....\n",
       "       2.78255940e+05, 3.59381366e+05, 4.64158883e+05, 5.99484250e+05,\n",
       "       7.74263683e+05, 1.00000000e+06, 1.29154967e+06, 1.66810054e+06,\n",
       "       2.15443469e+06, 2.78255940e+06, 3.59381366e+06, 4.64158883e+06,\n",
       "       5.99484250e+06, 7.74263683e+06, 1.00000000e+07, 1.29154967e+07,\n",
       "       1.66810054e+07, 2.15443469e+07, 2.78255940e+07, 3.59381366e+07,\n",
       "       4.64158883e+07, 5.99484250e+07, 7.74263683e+07, 1.00000000e+08])},\n",
       "             scoring='neg_mean_squared_error')"
      ]
     },
     "execution_count": 60,
     "metadata": {},
     "output_type": "execute_result"
    }
   ],
   "source": [
    "ridge = Ridge()\n",
    "grid_ridge = GridSearchCV(estimator=ridge, param_grid=dict(alpha=lambdas_ridge), cv=5, scoring = 'neg_mean_squared_error')\n",
    "grid_ridge.fit(x_train,y_train)"
   ]
  },
  {
   "cell_type": "code",
   "execution_count": 61,
   "id": "2e2836ec",
   "metadata": {},
   "outputs": [],
   "source": [
    "scores_ridge =-(grid_ridge.cv_results_['mean_test_score'])"
   ]
  },
  {
   "cell_type": "code",
   "execution_count": 62,
   "id": "32a13560",
   "metadata": {},
   "outputs": [
    {
     "data": {
      "text/plain": [
       "(0.001, 100000000.0)"
      ]
     },
     "execution_count": 62,
     "metadata": {},
     "output_type": "execute_result"
    },
    {
     "data": {
      "image/png": "[encoded data removed]",
      "text/plain": [
       "<Figure size 720x576 with 1 Axes>"
      ]
     },
     "metadata": {},
     "output_type": "display_data"
    }
   ],
   "source": [
    "plt.figure().set_size_inches(10, 8)\n",
    "plt.semilogx(lambdas_ridge, scores_ridge)\n",
    "plt.ylabel('MSE')\n",
    "plt.xlabel('lambda')\n",
    "plt.title('MSE X LAMBDA (RIDGE)')\n",
    "plt.axhline(np.min(scores_ridge), linestyle='--', color='.5')\n",
    "plt.xlim([lambdas_ridge[0], lambdas_ridge[-1]])"
   ]
  },
  {
   "cell_type": "markdown",
   "id": "141464c4",
   "metadata": {},
   "source": [
    "### Menor erro médio quadrado - ridge"
   ]
  },
  {
   "cell_type": "code",
   "execution_count": 63,
   "id": "d67165a0",
   "metadata": {},
   "outputs": [
    {
     "data": {
      "text/plain": [
       "0.2740849746071207"
      ]
     },
     "execution_count": 63,
     "metadata": {},
     "output_type": "execute_result"
    }
   ],
   "source": [
    "np.min(scores_ridge)"
   ]
  },
  {
   "cell_type": "markdown",
   "id": "45cf0836",
   "metadata": {},
   "source": [
    "### Lambda que minimiza o MSE - ridge"
   ]
  },
  {
   "cell_type": "code",
   "execution_count": 64,
   "id": "baff4b33",
   "metadata": {},
   "outputs": [
    {
     "data": {
      "text/plain": [
       "1000.0"
      ]
     },
     "execution_count": 64,
     "metadata": {},
     "output_type": "execute_result"
    }
   ],
   "source": [
    "lambdas[np.argmin(scores_ridge)]"
   ]
  },
  {
   "cell_type": "markdown",
   "id": "7192f0ee",
   "metadata": {},
   "source": [
    "### Coefientes do modelo Ridge com lambda = 1000"
   ]
  },
  {
   "cell_type": "code",
   "execution_count": 65,
   "id": "9d7b2172",
   "metadata": {},
   "outputs": [],
   "source": [
    "reg_ridge = Ridge(alpha= lambdas_ridge[np.argmin(scores_ridge)])"
   ]
  },
  {
   "cell_type": "code",
   "execution_count": 66,
   "id": "d26bf9b4",
   "metadata": {},
   "outputs": [
    {
     "data": {
      "text/plain": [
       "Ridge(alpha=1000.0)"
      ]
     },
     "execution_count": 66,
     "metadata": {},
     "output_type": "execute_result"
    }
   ],
   "source": [
    "reg_ridge.fit(x_train,y_train)"
   ]
  },
  {
   "cell_type": "code",
   "execution_count": 67,
   "id": "e87dc577",
   "metadata": {},
   "outputs": [
    {
     "data": {
      "text/plain": [
       "array([ 0.01264284,  0.16136797,  0.24473532,  0.15773263,  0.07898665,\n",
       "       -0.10731456,  0.01375485,  0.09355971,  0.01214149,  0.19812567])"
      ]
     },
     "execution_count": 67,
     "metadata": {},
     "output_type": "execute_result"
    }
   ],
   "source": [
    "reg_ridge.coef_"
   ]
  },
  {
   "cell_type": "code",
   "execution_count": 68,
   "id": "cb39924f",
   "metadata": {},
   "outputs": [],
   "source": [
    "coeff_df_ridge = pd.DataFrame(reg_ridge.coef_,df_transf.columns,columns=['Coefficient'])"
   ]
  },
  {
   "cell_type": "code",
   "execution_count": 69,
   "id": "112cbb67",
   "metadata": {},
   "outputs": [
    {
     "data": {
      "text/html": [
       "<div>\n",
       "<style scoped>\n",
       "    .dataframe tbody tr th:only-of-type {\n",
       "        vertical-align: middle;\n",
       "    }\n",
       "\n",
       "    .dataframe tbody tr th {\n",
       "        vertical-align: top;\n",
       "    }\n",
       "\n",
       "    .dataframe thead th {\n",
       "        text-align: right;\n",
       "    }\n",
       "</style>\n",
       "<table border=\"1\" class=\"dataframe\">\n",
       "  <thead>\n",
       "    <tr style=\"text-align: right;\">\n",
       "      <th></th>\n",
       "      <th>Coefficient</th>\n",
       "    </tr>\n",
       "  </thead>\n",
       "  <tbody>\n",
       "    <tr>\n",
       "      <th>area</th>\n",
       "      <td>0.012643</td>\n",
       "    </tr>\n",
       "    <tr>\n",
       "      <th>rooms</th>\n",
       "      <td>0.161368</td>\n",
       "    </tr>\n",
       "    <tr>\n",
       "      <th>bathroom</th>\n",
       "      <td>0.244735</td>\n",
       "    </tr>\n",
       "    <tr>\n",
       "      <th>parking spaces</th>\n",
       "      <td>0.157733</td>\n",
       "    </tr>\n",
       "    <tr>\n",
       "      <th>floor</th>\n",
       "      <td>0.078987</td>\n",
       "    </tr>\n",
       "    <tr>\n",
       "      <th>BH</th>\n",
       "      <td>-0.107315</td>\n",
       "    </tr>\n",
       "    <tr>\n",
       "      <th>RJ</th>\n",
       "      <td>0.013755</td>\n",
       "    </tr>\n",
       "    <tr>\n",
       "      <th>SP</th>\n",
       "      <td>0.093560</td>\n",
       "    </tr>\n",
       "    <tr>\n",
       "      <th>animal</th>\n",
       "      <td>0.012141</td>\n",
       "    </tr>\n",
       "    <tr>\n",
       "      <th>furniture</th>\n",
       "      <td>0.198126</td>\n",
       "    </tr>\n",
       "  </tbody>\n",
       "</table>\n",
       "</div>"
      ],
      "text/plain": [
       "                Coefficient\n",
       "area               0.012643\n",
       "rooms              0.161368\n",
       "bathroom           0.244735\n",
       "parking spaces     0.157733\n",
       "floor              0.078987\n",
       "BH                -0.107315\n",
       "RJ                 0.013755\n",
       "SP                 0.093560\n",
       "animal             0.012141\n",
       "furniture          0.198126"
      ]
     },
     "execution_count": 69,
     "metadata": {},
     "output_type": "execute_result"
    }
   ],
   "source": [
    "coeff_df_ridge"
   ]
  },
  {
   "cell_type": "markdown",
   "id": "a97560a5",
   "metadata": {},
   "source": [
    "### Intercepto - Ridge"
   ]
  },
  {
   "cell_type": "code",
   "execution_count": 70,
   "id": "9fe72df9",
   "metadata": {},
   "outputs": [
    {
     "name": "stdout",
     "output_type": "stream",
     "text": [
      "Intercepto: 7.979112198185916\n"
     ]
    }
   ],
   "source": [
    "print('Intercepto:',reg_lasso.intercept_)"
   ]
  },
  {
   "cell_type": "code",
   "execution_count": 71,
   "id": "7707e3f8",
   "metadata": {},
   "outputs": [
    {
     "name": "stdout",
     "output_type": "stream",
     "text": [
      "MAE: 1754.0840836998611\n",
      "MSE: 8656046.885644427\n",
      "RMSE: 2942.1160557742155\n"
     ]
    }
   ],
   "source": [
    "y_pred_ridge = reg_ridge.predict(x_test)\n",
    "print('MAE:', mean_absolute_error(np.exp(y_test), np.exp(y_pred_ridge)))\n",
    "print('MSE:', mean_squared_error(np.exp(y_test), np.exp(y_pred_ridge)))\n",
    "print('RMSE:', np.sqrt(mean_squared_error(np.exp(y_test), np.exp(y_pred_ridge))))"
   ]
  },
  {
   "cell_type": "markdown",
   "id": "124cd87d",
   "metadata": {},
   "source": [
    "# Validação dos modelos\n",
    "### Para escolher o melhor modelo , foi utilizado o Mean Absolute error evitando assim erros inflados (os dados voltaram para a mesma escala exp() ) "
   ]
  },
  {
   "cell_type": "code",
   "execution_count": 72,
   "id": "d2068623",
   "metadata": {},
   "outputs": [],
   "source": [
    "def std_error(loss_func , y_pred , y_test):\n",
    "    ic = np.sqrt((1/len(y_test))*np.mean((abs(y_pred - y_test) - (loss_func(y_test, y_pred)))**2))\n",
    "    return(2*ic)"
   ]
  },
  {
   "cell_type": "code",
   "execution_count": 73,
   "id": "b4f1812f",
   "metadata": {},
   "outputs": [],
   "source": [
    "std_error_lr = std_error(mean_absolute_error,np.exp(y_pred_lr),np.exp(y_test))\n",
    "std_error_lasso = std_error(mean_absolute_error,np.exp(y_pred_lasso),np.exp(y_test))\n",
    "std_error_ridge = std_error(mean_absolute_error,np.exp(y_pred_ridge),np.exp(y_test))"
   ]
  },
  {
   "cell_type": "code",
   "execution_count": 74,
   "id": "a8d9c444",
   "metadata": {},
   "outputs": [],
   "source": [
    "mae_lr = mean_absolute_error(np.exp(y_test), np.exp(y_pred_lr))\n",
    "mae_lasso = mean_absolute_error(np.exp(y_test), np.exp(y_pred_lasso))\n",
    "mae_ridge = mean_absolute_error(np.exp(y_test), np.exp(y_pred_ridge))"
   ]
  },
  {
   "cell_type": "code",
   "execution_count": 75,
   "id": "1d1e5d20",
   "metadata": {},
   "outputs": [],
   "source": [
    "df_validacao = {\"MODELOS\": [\"LR (MQ)\", \"LASSO\", \"RIDGE\"] ,\"MAE\": [mae_lr, mae_lasso, mae_ridge], \"IC_lower\": [(mae_lr - std_error_lr),(mae_lasso-std_error_lasso),(mae_ridge-std_error_ridge)],\"IC_power\": [(mae_lr+std_error_lr),(mae_lasso+std_error_lasso),(mae_ridge+std_error_ridge)]}"
   ]
  },
  {
   "cell_type": "code",
   "execution_count": 76,
   "id": "c73c2b83",
   "metadata": {},
   "outputs": [],
   "source": [
    "df_validacao = pd.DataFrame(df_validacao)"
   ]
  },
  {
   "cell_type": "code",
   "execution_count": 77,
   "id": "a25c5b8e",
   "metadata": {},
   "outputs": [
    {
     "data": {
      "text/plain": [
       "0    1778.765887\n",
       "1    1758.775545\n",
       "2    1754.084084\n",
       "Name: MAE, dtype: float64"
      ]
     },
     "execution_count": 77,
     "metadata": {},
     "output_type": "execute_result"
    }
   ],
   "source": [
    "df_validacao.MAE"
   ]
  },
  {
   "cell_type": "code",
   "execution_count": 105,
   "id": "fa0af14a",
   "metadata": {},
   "outputs": [
    {
     "data": {
      "image/png": "[encoded data removed]",
      "text/plain": [
       "<Figure size 720x576 with 1 Axes>"
      ]
     },
     "metadata": {},
     "output_type": "display_data"
    }
   ],
   "source": [
    "plt.figure().set_size_inches(10, 8)\n",
    "x_ticks = df_validacao.MODELOS\n",
    "x_1 = np.arange(1, 4)\n",
    "y_1 = df_validacao.MAE\n",
    "err_1 = [std_error_lr,std_error_lasso,std_error_ridge]\n",
    "plt.errorbar(x=x_1, y=y_1, yerr=err_1, color=\"red\", capsize=50,\n",
    "             linestyle=\"None\",\n",
    "             marker=\"o\", markersize=5, mfc=\"black\", mec=\"black\")\n",
    "plt.title('MAE / INTERVALO DE CONFIANÇA PARA CADA MODELO')\n",
    "plt.ylabel(\"MAE\")\n",
    "plt.xlabel(\"MODELOS\")\n",
    "plt.xticks(x_1, x_ticks)\n",
    "plt.xlim([0.5, 3.5])\n",
    "plt.tight_layout()\n",
    "plt.show()"
   ]
  }
 ],
 "metadata": {
  "kernelspec": {
   "display_name": "Python 3 (ipykernel)",
   "language": "python",
   "name": "python3"
  },
  "language_info": {
   "codemirror_mode": {
    "name": "ipython",
    "version": 3
   },
   "file_extension": ".py",
   "mimetype": "text/x-python",
   "name": "python",
   "nbconvert_exporter": "python",
   "pygments_lexer": "ipython3",
   "version": "3.9.7"
  }
 },
 "nbformat": 4,
 "nbformat_minor": 5
}
