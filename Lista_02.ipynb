{
 "cells": [
  {
   "cell_type": "code",
   "execution_count": 1,
   "id": "cf6c25c1",
   "metadata": {},
   "outputs": [],
   "source": [
    "import numpy as np\n",
    "import pandas as pd\n",
    "import matplotlib.pyplot as plt\n",
    "%matplotlib inline\n",
    "plt.style.use('ggplot')\n",
    "\n",
    "import warnings; warnings.simplefilter('ignore')"
   ]
  },
  {
   "cell_type": "markdown",
   "id": "b2e2bd96",
   "metadata": {},
   "source": [
    "# Lista 02\n",
    "**Exercı́cios**\n",
    "\n",
    "* Neste exercício você irá implementar algumas técnicas vistas em aula para um banco de dados de filmes (https://www.dropbox.com/s/6ltw600uoiynd3t/TMDb_updated.CSV.zip?dl=0). O objetivo aqui é conseguir criar uma função que consiga predizer para onde uma a nota média de um filme (vote average) com base em seu resumo (overview).\n",
    "1. Leia o banco e faça o processamento necessário para transformar os textos em uma matriz documento-termo. Divida o conjunto fornecido em treinamento, validação e teste, justificando as porcentagens escolhidas para cada grupo. Utilizaremos o conjunto de treinamento e validação para ajustar os modelos. O conjunto de teste será utilizado para testar seu desempenho.\n",
    "2. Utilize validação cruzada (data splitting) para escolher o melhor k. Plote k vs Risco estimado. Utilizando o conjunto de teste, estime o risco (e seu erro padrão) do KNN para o melhor k.\n",
    "3. Ajuste uma regressão linear para os dados usando o conjunto de treinamento mais o de validação via lasso (lembre-se que a função que ajusta o lasso no R já faz validação cruzada automaticamente: ao contrário do KNN, neste caso nãoo é necessário separar os dados em treinamento e validação). Qual o lambda escolhido?Plote lambda vs Risco estimado. Quais foram as variáveis mais importantes no ajuste (mostre os coeficientes estimados)? Utilizando o conjunto de teste, estime o risco (e seu erro padrão) do lasso para o melhor lambda.\n",
    "4. Ajuste uma floresta aleatória para os dados usando o conjunto de treinamento mais o de validação (lembre-se que praticamente não há tuning em florestas). Estime o risco com o teste. Faça um gráfico de importância de covariáveis. Como as importâncias se comparam com as obtidas pelo estimador linear?\n",
    "5. Ajuste boosting com xgboost, catboost ou lightboost, com número de iterações escolhidos via early-stopping no conjunto de validação. Estime o risco com o teste. Faça um gráfico de importância de covariáveis. Como as importâncias se comparam com as obtidas pelo estimador linear e pela floresta?\n",
    "6. Ajuste uma rede neural com early-stopping. Estime o risco com o teste. (Pós-graduação) Adicione drop-out na rede. O desempenho melhora?\n",
    "7. (Pós-graduação) Ajuste um kernel ridge regression com λ escolhido utilizando o conjunto de validação. Estime o risco (e seu erro padrão) com o teste.\n",
    "8. Plote os valores preditos versus os valores observados para o conjunto de teste em cada um dos métodos. Inclua a reta identidade.\n",
    "9. Qual modelo teve melhores resultados? Leve em conta os erros-padrão nessa análise"
   ]
  },
  {
   "cell_type": "code",
   "execution_count": 61,
   "id": "790c121a",
   "metadata": {},
   "outputs": [],
   "source": [
    "df = pd.read_csv('tmdb.csv').drop('Unnamed: 0' ,axis=1)"
   ]
  },
  {
   "cell_type": "code",
   "execution_count": 62,
   "id": "1145d3e2",
   "metadata": {},
   "outputs": [
    {
     "data": {
      "text/html": [
       "<div>\n",
       "<style scoped>\n",
       "    .dataframe tbody tr th:only-of-type {\n",
       "        vertical-align: middle;\n",
       "    }\n",
       "\n",
       "    .dataframe tbody tr th {\n",
       "        vertical-align: top;\n",
       "    }\n",
       "\n",
       "    .dataframe thead th {\n",
       "        text-align: right;\n",
       "    }\n",
       "</style>\n",
       "<table border=\"1\" class=\"dataframe\">\n",
       "  <thead>\n",
       "    <tr style=\"text-align: right;\">\n",
       "      <th></th>\n",
       "      <th>title</th>\n",
       "      <th>overview</th>\n",
       "      <th>original_language</th>\n",
       "      <th>vote_count</th>\n",
       "      <th>vote_average</th>\n",
       "    </tr>\n",
       "  </thead>\n",
       "  <tbody>\n",
       "    <tr>\n",
       "      <th>0</th>\n",
       "      <td>Ad Astra</td>\n",
       "      <td>The near future, a time when both hope and har...</td>\n",
       "      <td>en</td>\n",
       "      <td>2853</td>\n",
       "      <td>5.9</td>\n",
       "    </tr>\n",
       "    <tr>\n",
       "      <th>1</th>\n",
       "      <td>Bloodshot</td>\n",
       "      <td>After he and his wife are murdered, marine Ray...</td>\n",
       "      <td>en</td>\n",
       "      <td>1349</td>\n",
       "      <td>7.2</td>\n",
       "    </tr>\n",
       "    <tr>\n",
       "      <th>2</th>\n",
       "      <td>Bad Boys for Life</td>\n",
       "      <td>Marcus and Mike are forced to confront new thr...</td>\n",
       "      <td>en</td>\n",
       "      <td>2530</td>\n",
       "      <td>7.1</td>\n",
       "    </tr>\n",
       "    <tr>\n",
       "      <th>3</th>\n",
       "      <td>Ant-Man</td>\n",
       "      <td>Armed with the astonishing ability to shrink i...</td>\n",
       "      <td>en</td>\n",
       "      <td>13611</td>\n",
       "      <td>7.1</td>\n",
       "    </tr>\n",
       "    <tr>\n",
       "      <th>4</th>\n",
       "      <td>Percy Jackson: Sea of Monsters</td>\n",
       "      <td>In their quest to confront the ultimate evil, ...</td>\n",
       "      <td>en</td>\n",
       "      <td>3542</td>\n",
       "      <td>5.9</td>\n",
       "    </tr>\n",
       "    <tr>\n",
       "      <th>...</th>\n",
       "      <td>...</td>\n",
       "      <td>...</td>\n",
       "      <td>...</td>\n",
       "      <td>...</td>\n",
       "      <td>...</td>\n",
       "    </tr>\n",
       "    <tr>\n",
       "      <th>9995</th>\n",
       "      <td>Cargo</td>\n",
       "      <td>The story of CARGO takes place on rusty space-...</td>\n",
       "      <td>de</td>\n",
       "      <td>225</td>\n",
       "      <td>5.9</td>\n",
       "    </tr>\n",
       "    <tr>\n",
       "      <th>9996</th>\n",
       "      <td>The Good Night</td>\n",
       "      <td>Gary, a musician, is trapped in an unhappy rel...</td>\n",
       "      <td>en</td>\n",
       "      <td>67</td>\n",
       "      <td>5.6</td>\n",
       "    </tr>\n",
       "    <tr>\n",
       "      <th>9997</th>\n",
       "      <td>The World Is Yours</td>\n",
       "      <td>To escape his life of crime, a Paris drug deal...</td>\n",
       "      <td>fr</td>\n",
       "      <td>234</td>\n",
       "      <td>7.1</td>\n",
       "    </tr>\n",
       "    <tr>\n",
       "      <th>9998</th>\n",
       "      <td>The Grand Seduction</td>\n",
       "      <td>A small fishing village must procure a local d...</td>\n",
       "      <td>en</td>\n",
       "      <td>169</td>\n",
       "      <td>6.7</td>\n",
       "    </tr>\n",
       "    <tr>\n",
       "      <th>9999</th>\n",
       "      <td>Woochi: The Demon Slayer</td>\n",
       "      <td>Spanning four centuries in Korea, this epic ac...</td>\n",
       "      <td>ko</td>\n",
       "      <td>78</td>\n",
       "      <td>6.7</td>\n",
       "    </tr>\n",
       "  </tbody>\n",
       "</table>\n",
       "<p>10000 rows × 5 columns</p>\n",
       "</div>"
      ],
      "text/plain": [
       "                               title  \\\n",
       "0                           Ad Astra   \n",
       "1                          Bloodshot   \n",
       "2                  Bad Boys for Life   \n",
       "3                            Ant-Man   \n",
       "4     Percy Jackson: Sea of Monsters   \n",
       "...                              ...   \n",
       "9995                           Cargo   \n",
       "9996                  The Good Night   \n",
       "9997              The World Is Yours   \n",
       "9998             The Grand Seduction   \n",
       "9999        Woochi: The Demon Slayer   \n",
       "\n",
       "                                               overview original_language  \\\n",
       "0     The near future, a time when both hope and har...                en   \n",
       "1     After he and his wife are murdered, marine Ray...                en   \n",
       "2     Marcus and Mike are forced to confront new thr...                en   \n",
       "3     Armed with the astonishing ability to shrink i...                en   \n",
       "4     In their quest to confront the ultimate evil, ...                en   \n",
       "...                                                 ...               ...   \n",
       "9995  The story of CARGO takes place on rusty space-...                de   \n",
       "9996  Gary, a musician, is trapped in an unhappy rel...                en   \n",
       "9997  To escape his life of crime, a Paris drug deal...                fr   \n",
       "9998  A small fishing village must procure a local d...                en   \n",
       "9999  Spanning four centuries in Korea, this epic ac...                ko   \n",
       "\n",
       "      vote_count  vote_average  \n",
       "0           2853           5.9  \n",
       "1           1349           7.2  \n",
       "2           2530           7.1  \n",
       "3          13611           7.1  \n",
       "4           3542           5.9  \n",
       "...          ...           ...  \n",
       "9995         225           5.9  \n",
       "9996          67           5.6  \n",
       "9997         234           7.1  \n",
       "9998         169           6.7  \n",
       "9999          78           6.7  \n",
       "\n",
       "[10000 rows x 5 columns]"
      ]
     },
     "execution_count": 62,
     "metadata": {},
     "output_type": "execute_result"
    }
   ],
   "source": [
    "df"
   ]
  },
  {
   "cell_type": "markdown",
   "id": "e725e867",
   "metadata": {},
   "source": [
    "# Verificando dados faltantes"
   ]
  },
  {
   "cell_type": "code",
   "execution_count": 63,
   "id": "32bdac17",
   "metadata": {},
   "outputs": [
    {
     "data": {
      "text/plain": [
       "title                 0\n",
       "overview             30\n",
       "original_language     0\n",
       "vote_count            0\n",
       "vote_average          0\n",
       "dtype: int64"
      ]
     },
     "execution_count": 63,
     "metadata": {},
     "output_type": "execute_result"
    }
   ],
   "source": [
    "df.isnull().sum()"
   ]
  },
  {
   "cell_type": "code",
   "execution_count": 64,
   "id": "bea6834f",
   "metadata": {},
   "outputs": [],
   "source": [
    "# retirando valores faltantes\n",
    "df.dropna(inplace=True)"
   ]
  },
  {
   "cell_type": "code",
   "execution_count": 65,
   "id": "58764def",
   "metadata": {},
   "outputs": [
    {
     "data": {
      "text/html": [
       "<div>\n",
       "<style scoped>\n",
       "    .dataframe tbody tr th:only-of-type {\n",
       "        vertical-align: middle;\n",
       "    }\n",
       "\n",
       "    .dataframe tbody tr th {\n",
       "        vertical-align: top;\n",
       "    }\n",
       "\n",
       "    .dataframe thead th {\n",
       "        text-align: right;\n",
       "    }\n",
       "</style>\n",
       "<table border=\"1\" class=\"dataframe\">\n",
       "  <thead>\n",
       "    <tr style=\"text-align: right;\">\n",
       "      <th></th>\n",
       "      <th>title</th>\n",
       "      <th>overview</th>\n",
       "      <th>original_language</th>\n",
       "      <th>vote_count</th>\n",
       "      <th>vote_average</th>\n",
       "    </tr>\n",
       "  </thead>\n",
       "  <tbody>\n",
       "    <tr>\n",
       "      <th>0</th>\n",
       "      <td>Ad Astra</td>\n",
       "      <td>The near future, a time when both hope and har...</td>\n",
       "      <td>en</td>\n",
       "      <td>2853</td>\n",
       "      <td>5.9</td>\n",
       "    </tr>\n",
       "    <tr>\n",
       "      <th>1</th>\n",
       "      <td>Bloodshot</td>\n",
       "      <td>After he and his wife are murdered, marine Ray...</td>\n",
       "      <td>en</td>\n",
       "      <td>1349</td>\n",
       "      <td>7.2</td>\n",
       "    </tr>\n",
       "    <tr>\n",
       "      <th>2</th>\n",
       "      <td>Bad Boys for Life</td>\n",
       "      <td>Marcus and Mike are forced to confront new thr...</td>\n",
       "      <td>en</td>\n",
       "      <td>2530</td>\n",
       "      <td>7.1</td>\n",
       "    </tr>\n",
       "    <tr>\n",
       "      <th>3</th>\n",
       "      <td>Ant-Man</td>\n",
       "      <td>Armed with the astonishing ability to shrink i...</td>\n",
       "      <td>en</td>\n",
       "      <td>13611</td>\n",
       "      <td>7.1</td>\n",
       "    </tr>\n",
       "    <tr>\n",
       "      <th>4</th>\n",
       "      <td>Percy Jackson: Sea of Monsters</td>\n",
       "      <td>In their quest to confront the ultimate evil, ...</td>\n",
       "      <td>en</td>\n",
       "      <td>3542</td>\n",
       "      <td>5.9</td>\n",
       "    </tr>\n",
       "    <tr>\n",
       "      <th>...</th>\n",
       "      <td>...</td>\n",
       "      <td>...</td>\n",
       "      <td>...</td>\n",
       "      <td>...</td>\n",
       "      <td>...</td>\n",
       "    </tr>\n",
       "    <tr>\n",
       "      <th>9995</th>\n",
       "      <td>Cargo</td>\n",
       "      <td>The story of CARGO takes place on rusty space-...</td>\n",
       "      <td>de</td>\n",
       "      <td>225</td>\n",
       "      <td>5.9</td>\n",
       "    </tr>\n",
       "    <tr>\n",
       "      <th>9996</th>\n",
       "      <td>The Good Night</td>\n",
       "      <td>Gary, a musician, is trapped in an unhappy rel...</td>\n",
       "      <td>en</td>\n",
       "      <td>67</td>\n",
       "      <td>5.6</td>\n",
       "    </tr>\n",
       "    <tr>\n",
       "      <th>9997</th>\n",
       "      <td>The World Is Yours</td>\n",
       "      <td>To escape his life of crime, a Paris drug deal...</td>\n",
       "      <td>fr</td>\n",
       "      <td>234</td>\n",
       "      <td>7.1</td>\n",
       "    </tr>\n",
       "    <tr>\n",
       "      <th>9998</th>\n",
       "      <td>The Grand Seduction</td>\n",
       "      <td>A small fishing village must procure a local d...</td>\n",
       "      <td>en</td>\n",
       "      <td>169</td>\n",
       "      <td>6.7</td>\n",
       "    </tr>\n",
       "    <tr>\n",
       "      <th>9999</th>\n",
       "      <td>Woochi: The Demon Slayer</td>\n",
       "      <td>Spanning four centuries in Korea, this epic ac...</td>\n",
       "      <td>ko</td>\n",
       "      <td>78</td>\n",
       "      <td>6.7</td>\n",
       "    </tr>\n",
       "  </tbody>\n",
       "</table>\n",
       "<p>9970 rows × 5 columns</p>\n",
       "</div>"
      ],
      "text/plain": [
       "                               title  \\\n",
       "0                           Ad Astra   \n",
       "1                          Bloodshot   \n",
       "2                  Bad Boys for Life   \n",
       "3                            Ant-Man   \n",
       "4     Percy Jackson: Sea of Monsters   \n",
       "...                              ...   \n",
       "9995                           Cargo   \n",
       "9996                  The Good Night   \n",
       "9997              The World Is Yours   \n",
       "9998             The Grand Seduction   \n",
       "9999        Woochi: The Demon Slayer   \n",
       "\n",
       "                                               overview original_language  \\\n",
       "0     The near future, a time when both hope and har...                en   \n",
       "1     After he and his wife are murdered, marine Ray...                en   \n",
       "2     Marcus and Mike are forced to confront new thr...                en   \n",
       "3     Armed with the astonishing ability to shrink i...                en   \n",
       "4     In their quest to confront the ultimate evil, ...                en   \n",
       "...                                                 ...               ...   \n",
       "9995  The story of CARGO takes place on rusty space-...                de   \n",
       "9996  Gary, a musician, is trapped in an unhappy rel...                en   \n",
       "9997  To escape his life of crime, a Paris drug deal...                fr   \n",
       "9998  A small fishing village must procure a local d...                en   \n",
       "9999  Spanning four centuries in Korea, this epic ac...                ko   \n",
       "\n",
       "      vote_count  vote_average  \n",
       "0           2853           5.9  \n",
       "1           1349           7.2  \n",
       "2           2530           7.1  \n",
       "3          13611           7.1  \n",
       "4           3542           5.9  \n",
       "...          ...           ...  \n",
       "9995         225           5.9  \n",
       "9996          67           5.6  \n",
       "9997         234           7.1  \n",
       "9998         169           6.7  \n",
       "9999          78           6.7  \n",
       "\n",
       "[9970 rows x 5 columns]"
      ]
     },
     "execution_count": 65,
     "metadata": {},
     "output_type": "execute_result"
    }
   ],
   "source": [
    "df"
   ]
  },
  {
   "cell_type": "markdown",
   "id": "1f7f342f",
   "metadata": {},
   "source": [
    "# Histrograma vote_count"
   ]
  },
  {
   "cell_type": "code",
   "execution_count": 66,
   "id": "bcef1363",
   "metadata": {},
   "outputs": [
    {
     "data": {
      "text/plain": [
       "(array([8.68678885e-04, 1.40472316e-04, 6.22194243e-05, 3.30241560e-05,\n",
       "        2.34519369e-05, 1.71103417e-05, 9.33291364e-06, 5.74333147e-06,\n",
       "        6.58090065e-06, 4.54680408e-06, 4.54680408e-06, 3.23062395e-06,\n",
       "        1.91444382e-06, 2.63236026e-06, 2.27340204e-06, 1.31618013e-06,\n",
       "        1.67513835e-06, 1.07687465e-06, 8.37569173e-07, 7.17916434e-07,\n",
       "        2.39305478e-07, 3.58958217e-07, 1.19652739e-07, 0.00000000e+00,\n",
       "        2.39305478e-07, 2.39305478e-07, 2.39305478e-07, 0.00000000e+00,\n",
       "        0.00000000e+00, 1.19652739e-07]),\n",
       " array([    0.        ,   838.26666667,  1676.53333333,  2514.8       ,\n",
       "         3353.06666667,  4191.33333333,  5029.6       ,  5867.86666667,\n",
       "         6706.13333333,  7544.4       ,  8382.66666667,  9220.93333333,\n",
       "        10059.2       , 10897.46666667, 11735.73333333, 12574.        ,\n",
       "        13412.26666667, 14250.53333333, 15088.8       , 15927.06666667,\n",
       "        16765.33333333, 17603.6       , 18441.86666667, 19280.13333333,\n",
       "        20118.4       , 20956.66666667, 21794.93333333, 22633.2       ,\n",
       "        23471.46666667, 24309.73333333, 25148.        ]),\n",
       " <BarContainer object of 30 artists>)"
      ]
     },
     "execution_count": 66,
     "metadata": {},
     "output_type": "execute_result"
    },
    {
     "data": {
      "image/png": "[encoded data removed]",
      "text/plain": [
       "<Figure size 720x576 with 1 Axes>"
      ]
     },
     "metadata": {},
     "output_type": "display_data"
    }
   ],
   "source": [
    "plt.figure(figsize=(10, 8))\n",
    "plt.title('Histrograma vote_count')\n",
    "plt.hist(df['vote_count'], density=True, bins=30) "
   ]
  },
  {
   "cell_type": "markdown",
   "id": "a9514f4d",
   "metadata": {},
   "source": [
    "# Histrograma vote_average"
   ]
  },
  {
   "cell_type": "code",
   "execution_count": 67,
   "id": "5b7d55fb",
   "metadata": {},
   "outputs": [
    {
     "data": {
      "text/plain": [
       "(array([6.86058175e-02, 0.00000000e+00, 0.00000000e+00, 3.00902708e-04,\n",
       "        0.00000000e+00, 3.00902708e-04, 6.01805416e-04, 1.20361083e-03,\n",
       "        2.40722166e-03, 2.70812437e-03, 5.11534604e-03, 1.17352056e-02,\n",
       "        3.24974925e-02, 4.18254764e-02, 6.19859579e-02, 1.70010030e-01,\n",
       "        1.94684052e-01, 2.76228686e-01, 4.87763290e-01, 3.74924774e-01,\n",
       "        3.40621866e-01, 4.08324975e-01, 2.46138415e-01, 1.54062187e-01,\n",
       "        9.38816449e-02, 1.65496489e-02, 3.61083250e-03, 1.50451354e-03,\n",
       "        6.01805416e-04, 1.80541625e-03]),\n",
       " array([ 0.        ,  0.33333333,  0.66666667,  1.        ,  1.33333333,\n",
       "         1.66666667,  2.        ,  2.33333333,  2.66666667,  3.        ,\n",
       "         3.33333333,  3.66666667,  4.        ,  4.33333333,  4.66666667,\n",
       "         5.        ,  5.33333333,  5.66666667,  6.        ,  6.33333333,\n",
       "         6.66666667,  7.        ,  7.33333333,  7.66666667,  8.        ,\n",
       "         8.33333333,  8.66666667,  9.        ,  9.33333333,  9.66666667,\n",
       "        10.        ]),\n",
       " <BarContainer object of 30 artists>)"
      ]
     },
     "execution_count": 67,
     "metadata": {},
     "output_type": "execute_result"
    },
    {
     "data": {
      "image/png": "[encoded data removed]",
      "text/plain": [
       "<Figure size 720x576 with 1 Axes>"
      ]
     },
     "metadata": {},
     "output_type": "display_data"
    }
   ],
   "source": [
    "plt.figure(figsize=(10, 8))\n",
    "plt.title('Histrograma vote_average')\n",
    "plt.hist(df['vote_average'], density=True, bins=30) "
   ]
  },
  {
   "cell_type": "markdown",
   "id": "160d47e3",
   "metadata": {},
   "source": [
    "## Alguns filmes não receberam nenhum voto. Com isso, receberam nota 0. Para obter melhor resultado esses filmes serão ignorados."
   ]
  },
  {
   "cell_type": "code",
   "execution_count": 68,
   "id": "761af04e",
   "metadata": {},
   "outputs": [],
   "source": [
    "df = df[df['vote_count']!=0]"
   ]
  },
  {
   "cell_type": "code",
   "execution_count": null,
   "id": "d3d82ce8",
   "metadata": {},
   "outputs": [],
   "source": []
  }
 ],
 "metadata": {
  "kernelspec": {
   "display_name": "Python 3 (ipykernel)",
   "language": "python",
   "name": "python3"
  },
  "language_info": {
   "codemirror_mode": {
    "name": "ipython",
    "version": 3
   },
   "file_extension": ".py",
   "mimetype": "text/x-python",
   "name": "python",
   "nbconvert_exporter": "python",
   "pygments_lexer": "ipython3",
   "version": "3.9.7"
  }
 },
 "nbformat": 4,
 "nbformat_minor": 5
}
