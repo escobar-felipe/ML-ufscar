{
 "cells": [
  {
   "cell_type": "markdown",
   "id": "c76cd323",
   "metadata": {},
   "source": [
    "# Mineração de Dados / Statistical Machine Learning\n",
    "    Lista 1\n",
    "    Rafael Izbicki"
   ]
  },
  {
   "cell_type": "markdown",
   "id": "f52e7630",
   "metadata": {},
   "source": [
    "# Importando as bibliotecas"
   ]
  },
  {
   "cell_type": "code",
   "execution_count": 1,
   "id": "84f89326",
   "metadata": {},
   "outputs": [],
   "source": [
    "from sklearn.model_selection import train_test_split\n",
    "from sklearn.model_selection import cross_val_score\n",
    "from sklearn.linear_model import LinearRegression\n",
    "from sklearn.linear_model import Lasso\n",
    "from sklearn.linear_model import Ridge\n",
    "from sklearn.preprocessing import StandardScaler, OneHotEncoder, LabelEncoder, OrdinalEncoder\n",
    "from sklearn.compose import make_column_transformer\n",
    "from sklearn.model_selection import GridSearchCV\n",
    "from sklearn.metrics import mean_absolute_error\n",
    "from sklearn.metrics import mean_squared_error\n",
    "from sklearn.preprocessing import PolynomialFeatures\n",
    "\n",
    "\n",
    "import numpy as np\n",
    "import pandas as pd\n",
    "import matplotlib.pyplot as plt\n",
    "%matplotlib inline\n",
    "plt.style.use('ggplot')\n",
    "\n",
    "import warnings; warnings.simplefilter('ignore')"
   ]
  },
  {
   "cell_type": "markdown",
   "id": "657018cf",
   "metadata": {},
   "source": [
    "# Lista 01 \n",
    "**Exercı́cio 1**\n",
    "* Considere o banco houses_to_rent_v2 (https://www.dropbox.com/s/8auhk2zaogovjvn/houses_to_rent_v2.csv?dl=0), que contém o valor (em reais) do aluguel de imóveis no Brasil. Você pode trabalhar apenas com os imóveis localizados em São Paulo, Rio de Janeiro e Belo Horizonte.\n",
    "1. Divida o conjunto de dados em para treinamento e teste. Explique como decidiu qual porcentagem deixar\n",
    "para cada um.\n",
    "2. Utilizando o conjunto de treinamento, ajuste uma regressão (i) via mı́nimos quadrados, (ii) via lasso (usando validação-cruzada no treinamento para escolher λ) e (iii) (Pós-graduação apenas) regressão ridge. Qual o melhor valor de λ encontrado para o lasso?\n",
    "3. Qual dos métodos acima apresentou melhores resultados? Responda essa pergunta utilizando o conjunto de teste e o melhor valor de λ encontrado. Inclua os intervalos de confiança para o risco preditivo nos seus resultados.\n",
    "4. Interprete os resultados do melhor modelo encontrado (via coeficientes). Ele faz sentido?\n",
    "5. Includa todas as interações entre as variáveis observadas e repita o ajuste do método de mı́nimos quadrados e o lasso. Como esses ajustes se comparam em relação aos anteriores? Qual foi o melhor modelo encontrado?Esses resultados são esperados?"
   ]
  },
  {
   "cell_type": "markdown",
   "id": "de02e1fa",
   "metadata": {},
   "source": [
    "## Importando os dados para \"df\""
   ]
  },
  {
   "cell_type": "code",
   "execution_count": 2,
   "id": "50097f60",
   "metadata": {},
   "outputs": [],
   "source": [
    "df = pd.read_csv('houses_to_rent_v2.csv')"
   ]
  },
  {
   "cell_type": "code",
   "execution_count": 3,
   "id": "18c22bf0",
   "metadata": {},
   "outputs": [
    {
     "data": {
      "text/html": [
       "<div>\n",
       "<style scoped>\n",
       "    .dataframe tbody tr th:only-of-type {\n",
       "        vertical-align: middle;\n",
       "    }\n",
       "\n",
       "    .dataframe tbody tr th {\n",
       "        vertical-align: top;\n",
       "    }\n",
       "\n",
       "    .dataframe thead th {\n",
       "        text-align: right;\n",
       "    }\n",
       "</style>\n",
       "<table border=\"1\" class=\"dataframe\">\n",
       "  <thead>\n",
       "    <tr style=\"text-align: right;\">\n",
       "      <th></th>\n",
       "      <th>city</th>\n",
       "      <th>area</th>\n",
       "      <th>rooms</th>\n",
       "      <th>bathroom</th>\n",
       "      <th>parking spaces</th>\n",
       "      <th>floor</th>\n",
       "      <th>animal</th>\n",
       "      <th>furniture</th>\n",
       "      <th>rent amount (R$)</th>\n",
       "    </tr>\n",
       "  </thead>\n",
       "  <tbody>\n",
       "    <tr>\n",
       "      <th>0</th>\n",
       "      <td>São Paulo</td>\n",
       "      <td>70</td>\n",
       "      <td>2</td>\n",
       "      <td>1</td>\n",
       "      <td>1</td>\n",
       "      <td>7</td>\n",
       "      <td>acept</td>\n",
       "      <td>furnished</td>\n",
       "      <td>3300</td>\n",
       "    </tr>\n",
       "    <tr>\n",
       "      <th>1</th>\n",
       "      <td>São Paulo</td>\n",
       "      <td>320</td>\n",
       "      <td>4</td>\n",
       "      <td>4</td>\n",
       "      <td>0</td>\n",
       "      <td>20</td>\n",
       "      <td>acept</td>\n",
       "      <td>not furnished</td>\n",
       "      <td>4960</td>\n",
       "    </tr>\n",
       "    <tr>\n",
       "      <th>2</th>\n",
       "      <td>Porto Alegre</td>\n",
       "      <td>80</td>\n",
       "      <td>1</td>\n",
       "      <td>1</td>\n",
       "      <td>1</td>\n",
       "      <td>6</td>\n",
       "      <td>acept</td>\n",
       "      <td>not furnished</td>\n",
       "      <td>2800</td>\n",
       "    </tr>\n",
       "    <tr>\n",
       "      <th>3</th>\n",
       "      <td>Porto Alegre</td>\n",
       "      <td>51</td>\n",
       "      <td>2</td>\n",
       "      <td>1</td>\n",
       "      <td>0</td>\n",
       "      <td>2</td>\n",
       "      <td>acept</td>\n",
       "      <td>not furnished</td>\n",
       "      <td>1112</td>\n",
       "    </tr>\n",
       "    <tr>\n",
       "      <th>4</th>\n",
       "      <td>São Paulo</td>\n",
       "      <td>25</td>\n",
       "      <td>1</td>\n",
       "      <td>1</td>\n",
       "      <td>0</td>\n",
       "      <td>1</td>\n",
       "      <td>not acept</td>\n",
       "      <td>not furnished</td>\n",
       "      <td>800</td>\n",
       "    </tr>\n",
       "    <tr>\n",
       "      <th>...</th>\n",
       "      <td>...</td>\n",
       "      <td>...</td>\n",
       "      <td>...</td>\n",
       "      <td>...</td>\n",
       "      <td>...</td>\n",
       "      <td>...</td>\n",
       "      <td>...</td>\n",
       "      <td>...</td>\n",
       "      <td>...</td>\n",
       "    </tr>\n",
       "    <tr>\n",
       "      <th>10687</th>\n",
       "      <td>Porto Alegre</td>\n",
       "      <td>63</td>\n",
       "      <td>2</td>\n",
       "      <td>1</td>\n",
       "      <td>1</td>\n",
       "      <td>5</td>\n",
       "      <td>not acept</td>\n",
       "      <td>furnished</td>\n",
       "      <td>1478</td>\n",
       "    </tr>\n",
       "    <tr>\n",
       "      <th>10688</th>\n",
       "      <td>São Paulo</td>\n",
       "      <td>285</td>\n",
       "      <td>4</td>\n",
       "      <td>4</td>\n",
       "      <td>4</td>\n",
       "      <td>17</td>\n",
       "      <td>acept</td>\n",
       "      <td>not furnished</td>\n",
       "      <td>15000</td>\n",
       "    </tr>\n",
       "    <tr>\n",
       "      <th>10689</th>\n",
       "      <td>Rio de Janeiro</td>\n",
       "      <td>70</td>\n",
       "      <td>3</td>\n",
       "      <td>3</td>\n",
       "      <td>0</td>\n",
       "      <td>8</td>\n",
       "      <td>not acept</td>\n",
       "      <td>furnished</td>\n",
       "      <td>6000</td>\n",
       "    </tr>\n",
       "    <tr>\n",
       "      <th>10690</th>\n",
       "      <td>Rio de Janeiro</td>\n",
       "      <td>120</td>\n",
       "      <td>2</td>\n",
       "      <td>2</td>\n",
       "      <td>2</td>\n",
       "      <td>8</td>\n",
       "      <td>acept</td>\n",
       "      <td>furnished</td>\n",
       "      <td>12000</td>\n",
       "    </tr>\n",
       "    <tr>\n",
       "      <th>10691</th>\n",
       "      <td>São Paulo</td>\n",
       "      <td>80</td>\n",
       "      <td>2</td>\n",
       "      <td>1</td>\n",
       "      <td>0</td>\n",
       "      <td>-</td>\n",
       "      <td>acept</td>\n",
       "      <td>not furnished</td>\n",
       "      <td>1400</td>\n",
       "    </tr>\n",
       "  </tbody>\n",
       "</table>\n",
       "<p>10692 rows × 9 columns</p>\n",
       "</div>"
      ],
      "text/plain": [
       "                 city  area  rooms  bathroom  parking spaces floor     animal  \\\n",
       "0           São Paulo    70      2         1               1     7      acept   \n",
       "1           São Paulo   320      4         4               0    20      acept   \n",
       "2        Porto Alegre    80      1         1               1     6      acept   \n",
       "3        Porto Alegre    51      2         1               0     2      acept   \n",
       "4           São Paulo    25      1         1               0     1  not acept   \n",
       "...               ...   ...    ...       ...             ...   ...        ...   \n",
       "10687    Porto Alegre    63      2         1               1     5  not acept   \n",
       "10688       São Paulo   285      4         4               4    17      acept   \n",
       "10689  Rio de Janeiro    70      3         3               0     8  not acept   \n",
       "10690  Rio de Janeiro   120      2         2               2     8      acept   \n",
       "10691       São Paulo    80      2         1               0     -      acept   \n",
       "\n",
       "           furniture  rent amount (R$)  \n",
       "0          furnished              3300  \n",
       "1      not furnished              4960  \n",
       "2      not furnished              2800  \n",
       "3      not furnished              1112  \n",
       "4      not furnished               800  \n",
       "...              ...               ...  \n",
       "10687      furnished              1478  \n",
       "10688  not furnished             15000  \n",
       "10689      furnished              6000  \n",
       "10690      furnished             12000  \n",
       "10691  not furnished              1400  \n",
       "\n",
       "[10692 rows x 9 columns]"
      ]
     },
     "execution_count": 3,
     "metadata": {},
     "output_type": "execute_result"
    }
   ],
   "source": [
    "df"
   ]
  },
  {
   "cell_type": "markdown",
   "id": "0c52ea90",
   "metadata": {},
   "source": [
    "## Seleciando apenas as cidades de São Paulo / Rio de Janeiro / Belo Horizonte"
   ]
  },
  {
   "cell_type": "code",
   "execution_count": 4,
   "id": "88b5476e",
   "metadata": {},
   "outputs": [],
   "source": [
    "df=df.loc[df['city'].isin(['São Paulo', 'Rio de Janeiro','Belo Horizonte'])]"
   ]
  },
  {
   "cell_type": "code",
   "execution_count": 5,
   "id": "d3d3ce95",
   "metadata": {},
   "outputs": [
    {
     "data": {
      "text/plain": [
       "array(['São Paulo', 'Rio de Janeiro', 'Belo Horizonte'], dtype=object)"
      ]
     },
     "execution_count": 5,
     "metadata": {},
     "output_type": "execute_result"
    }
   ],
   "source": [
    "df['city'].unique()"
   ]
  },
  {
   "cell_type": "markdown",
   "id": "16d12ec0",
   "metadata": {},
   "source": [
    "## Verificando Valores Faltantes"
   ]
  },
  {
   "cell_type": "code",
   "execution_count": 6,
   "id": "1ff89206",
   "metadata": {},
   "outputs": [
    {
     "data": {
      "text/plain": [
       "city                0\n",
       "area                0\n",
       "rooms               0\n",
       "bathroom            0\n",
       "parking spaces      0\n",
       "floor               0\n",
       "animal              0\n",
       "furniture           0\n",
       "rent amount (R$)    0\n",
       "dtype: int64"
      ]
     },
     "execution_count": 6,
     "metadata": {},
     "output_type": "execute_result"
    }
   ],
   "source": [
    "df.isnull().sum()"
   ]
  },
  {
   "cell_type": "markdown",
   "id": "d5b3d0bc",
   "metadata": {},
   "source": [
    "## valores categóricos"
   ]
  },
  {
   "cell_type": "code",
   "execution_count": 109,
   "id": "49428a80",
   "metadata": {},
   "outputs": [
    {
     "data": {
      "text/html": [
       "<div>\n",
       "<style scoped>\n",
       "    .dataframe tbody tr th:only-of-type {\n",
       "        vertical-align: middle;\n",
       "    }\n",
       "\n",
       "    .dataframe tbody tr th {\n",
       "        vertical-align: top;\n",
       "    }\n",
       "\n",
       "    .dataframe thead th {\n",
       "        text-align: right;\n",
       "    }\n",
       "</style>\n",
       "<table border=\"1\" class=\"dataframe\">\n",
       "  <thead>\n",
       "    <tr style=\"text-align: right;\">\n",
       "      <th></th>\n",
       "      <th>city</th>\n",
       "      <th>animal</th>\n",
       "      <th>furniture</th>\n",
       "    </tr>\n",
       "  </thead>\n",
       "  <tbody>\n",
       "    <tr>\n",
       "      <th>0</th>\n",
       "      <td>São Paulo</td>\n",
       "      <td>acept</td>\n",
       "      <td>furnished</td>\n",
       "    </tr>\n",
       "    <tr>\n",
       "      <th>1</th>\n",
       "      <td>São Paulo</td>\n",
       "      <td>acept</td>\n",
       "      <td>not furnished</td>\n",
       "    </tr>\n",
       "    <tr>\n",
       "      <th>4</th>\n",
       "      <td>São Paulo</td>\n",
       "      <td>not acept</td>\n",
       "      <td>not furnished</td>\n",
       "    </tr>\n",
       "    <tr>\n",
       "      <th>5</th>\n",
       "      <td>São Paulo</td>\n",
       "      <td>acept</td>\n",
       "      <td>not furnished</td>\n",
       "    </tr>\n",
       "    <tr>\n",
       "      <th>6</th>\n",
       "      <td>Rio de Janeiro</td>\n",
       "      <td>acept</td>\n",
       "      <td>not furnished</td>\n",
       "    </tr>\n",
       "    <tr>\n",
       "      <th>...</th>\n",
       "      <td>...</td>\n",
       "      <td>...</td>\n",
       "      <td>...</td>\n",
       "    </tr>\n",
       "    <tr>\n",
       "      <th>10686</th>\n",
       "      <td>São Paulo</td>\n",
       "      <td>not acept</td>\n",
       "      <td>furnished</td>\n",
       "    </tr>\n",
       "    <tr>\n",
       "      <th>10688</th>\n",
       "      <td>São Paulo</td>\n",
       "      <td>acept</td>\n",
       "      <td>not furnished</td>\n",
       "    </tr>\n",
       "    <tr>\n",
       "      <th>10689</th>\n",
       "      <td>Rio de Janeiro</td>\n",
       "      <td>not acept</td>\n",
       "      <td>furnished</td>\n",
       "    </tr>\n",
       "    <tr>\n",
       "      <th>10690</th>\n",
       "      <td>Rio de Janeiro</td>\n",
       "      <td>acept</td>\n",
       "      <td>furnished</td>\n",
       "    </tr>\n",
       "    <tr>\n",
       "      <th>10691</th>\n",
       "      <td>São Paulo</td>\n",
       "      <td>acept</td>\n",
       "      <td>not furnished</td>\n",
       "    </tr>\n",
       "  </tbody>\n",
       "</table>\n",
       "<p>8643 rows × 3 columns</p>\n",
       "</div>"
      ],
      "text/plain": [
       "                 city     animal      furniture\n",
       "0           São Paulo      acept      furnished\n",
       "1           São Paulo      acept  not furnished\n",
       "4           São Paulo  not acept  not furnished\n",
       "5           São Paulo      acept  not furnished\n",
       "6      Rio de Janeiro      acept  not furnished\n",
       "...               ...        ...            ...\n",
       "10686       São Paulo  not acept      furnished\n",
       "10688       São Paulo      acept  not furnished\n",
       "10689  Rio de Janeiro  not acept      furnished\n",
       "10690  Rio de Janeiro      acept      furnished\n",
       "10691       São Paulo      acept  not furnished\n",
       "\n",
       "[8643 rows x 3 columns]"
      ]
     },
     "execution_count": 109,
     "metadata": {},
     "output_type": "execute_result"
    }
   ],
   "source": [
    "df.select_dtypes(include='object')"
   ]
  },
  {
   "cell_type": "markdown",
   "id": "131c8dac",
   "metadata": {},
   "source": [
    "## Foi verificado que a variável \"floor\" é uma variável numérica e está como uma variável categórica"
   ]
  },
  {
   "cell_type": "code",
   "execution_count": 8,
   "id": "a4a0d4f6",
   "metadata": {},
   "outputs": [
    {
     "data": {
      "text/plain": [
       "array(['7', '20', '1', '-', '4', '3', '2', '11', '24', '9', '8', '17',\n",
       "       '18', '10', '5', '6', '13', '15', '16', '14', '26', '12', '21',\n",
       "       '19', '22', '27', '23', '35', '25', '46', '28', '29', '301', '32'],\n",
       "      dtype=object)"
      ]
     },
     "execution_count": 8,
     "metadata": {},
     "output_type": "execute_result"
    }
   ],
   "source": [
    "df['floor'].unique()"
   ]
  },
  {
   "cell_type": "markdown",
   "id": "2586e4f8",
   "metadata": {},
   "source": [
    "### Foi encontrado um Valor com resultado igual \"-\" , substituirei por \"0\", tendo em vista que \"-\" representa os imóveis do tipo casa\n",
    "### Também foi encontrado o valor \"301\" , foi subistituido por \"31\" (erro de digitação)"
   ]
  },
  {
   "cell_type": "code",
   "execution_count": 9,
   "id": "b567edec",
   "metadata": {},
   "outputs": [],
   "source": [
    "df['floor']=df['floor'].replace('-',0)"
   ]
  },
  {
   "cell_type": "code",
   "execution_count": 10,
   "id": "2bb64d34",
   "metadata": {},
   "outputs": [],
   "source": [
    "df['floor']=df['floor'].replace('301',31)"
   ]
  },
  {
   "cell_type": "markdown",
   "id": "b93cc7f8",
   "metadata": {},
   "source": [
    "### Transformando a variável \"floor\" em (int) númerica"
   ]
  },
  {
   "cell_type": "code",
   "execution_count": 11,
   "id": "346fe929",
   "metadata": {},
   "outputs": [],
   "source": [
    "df['floor']=df['floor'].astype(int)"
   ]
  },
  {
   "cell_type": "code",
   "execution_count": 12,
   "id": "e9f59b40",
   "metadata": {},
   "outputs": [
    {
     "data": {
      "text/plain": [
       "array([ 7, 20,  1,  0,  4,  3,  2, 11, 24,  9,  8, 17, 18, 10,  5,  6, 13,\n",
       "       15, 16, 14, 26, 12, 21, 19, 22, 27, 23, 35, 25, 46, 28, 29, 31, 32])"
      ]
     },
     "execution_count": 12,
     "metadata": {},
     "output_type": "execute_result"
    }
   ],
   "source": [
    "df['floor'].unique()"
   ]
  },
  {
   "cell_type": "markdown",
   "id": "ba2aeef3",
   "metadata": {},
   "source": [
    "## Area"
   ]
  },
  {
   "cell_type": "code",
   "execution_count": 112,
   "id": "fc265b77",
   "metadata": {},
   "outputs": [
    {
     "data": {
      "text/html": [
       "<div>\n",
       "<style scoped>\n",
       "    .dataframe tbody tr th:only-of-type {\n",
       "        vertical-align: middle;\n",
       "    }\n",
       "\n",
       "    .dataframe tbody tr th {\n",
       "        vertical-align: top;\n",
       "    }\n",
       "\n",
       "    .dataframe thead th {\n",
       "        text-align: right;\n",
       "    }\n",
       "</style>\n",
       "<table border=\"1\" class=\"dataframe\">\n",
       "  <thead>\n",
       "    <tr style=\"text-align: right;\">\n",
       "      <th></th>\n",
       "      <th>area</th>\n",
       "      <th>rooms</th>\n",
       "      <th>bathroom</th>\n",
       "      <th>parking spaces</th>\n",
       "      <th>floor</th>\n",
       "      <th>rent amount (R$)</th>\n",
       "    </tr>\n",
       "  </thead>\n",
       "  <tbody>\n",
       "    <tr>\n",
       "      <th>count</th>\n",
       "      <td>8643.000000</td>\n",
       "      <td>8643.000000</td>\n",
       "      <td>8643.000000</td>\n",
       "      <td>8643.000000</td>\n",
       "      <td>8643.000000</td>\n",
       "      <td>8643.000000</td>\n",
       "    </tr>\n",
       "    <tr>\n",
       "      <th>mean</th>\n",
       "      <td>148.276177</td>\n",
       "      <td>2.570867</td>\n",
       "      <td>2.333680</td>\n",
       "      <td>1.691427</td>\n",
       "      <td>5.272012</td>\n",
       "      <td>4262.126461</td>\n",
       "    </tr>\n",
       "    <tr>\n",
       "      <th>std</th>\n",
       "      <td>136.883694</td>\n",
       "      <td>1.184318</td>\n",
       "      <td>1.437733</td>\n",
       "      <td>1.631317</td>\n",
       "      <td>5.566969</td>\n",
       "      <td>3531.987030</td>\n",
       "    </tr>\n",
       "    <tr>\n",
       "      <th>min</th>\n",
       "      <td>11.000000</td>\n",
       "      <td>1.000000</td>\n",
       "      <td>1.000000</td>\n",
       "      <td>0.000000</td>\n",
       "      <td>0.000000</td>\n",
       "      <td>450.000000</td>\n",
       "    </tr>\n",
       "    <tr>\n",
       "      <th>25%</th>\n",
       "      <td>60.000000</td>\n",
       "      <td>2.000000</td>\n",
       "      <td>1.000000</td>\n",
       "      <td>1.000000</td>\n",
       "      <td>1.000000</td>\n",
       "      <td>1750.000000</td>\n",
       "    </tr>\n",
       "    <tr>\n",
       "      <th>50%</th>\n",
       "      <td>100.000000</td>\n",
       "      <td>3.000000</td>\n",
       "      <td>2.000000</td>\n",
       "      <td>1.000000</td>\n",
       "      <td>4.000000</td>\n",
       "      <td>3000.000000</td>\n",
       "    </tr>\n",
       "    <tr>\n",
       "      <th>75%</th>\n",
       "      <td>200.000000</td>\n",
       "      <td>3.000000</td>\n",
       "      <td>3.000000</td>\n",
       "      <td>2.000000</td>\n",
       "      <td>8.000000</td>\n",
       "      <td>5500.000000</td>\n",
       "    </tr>\n",
       "    <tr>\n",
       "      <th>max</th>\n",
       "      <td>2000.000000</td>\n",
       "      <td>13.000000</td>\n",
       "      <td>10.000000</td>\n",
       "      <td>12.000000</td>\n",
       "      <td>46.000000</td>\n",
       "      <td>45000.000000</td>\n",
       "    </tr>\n",
       "  </tbody>\n",
       "</table>\n",
       "</div>"
      ],
      "text/plain": [
       "              area        rooms     bathroom  parking spaces        floor  \\\n",
       "count  8643.000000  8643.000000  8643.000000     8643.000000  8643.000000   \n",
       "mean    148.276177     2.570867     2.333680        1.691427     5.272012   \n",
       "std     136.883694     1.184318     1.437733        1.631317     5.566969   \n",
       "min      11.000000     1.000000     1.000000        0.000000     0.000000   \n",
       "25%      60.000000     2.000000     1.000000        1.000000     1.000000   \n",
       "50%     100.000000     3.000000     2.000000        1.000000     4.000000   \n",
       "75%     200.000000     3.000000     3.000000        2.000000     8.000000   \n",
       "max    2000.000000    13.000000    10.000000       12.000000    46.000000   \n",
       "\n",
       "       rent amount (R$)  \n",
       "count       8643.000000  \n",
       "mean        4262.126461  \n",
       "std         3531.987030  \n",
       "min          450.000000  \n",
       "25%         1750.000000  \n",
       "50%         3000.000000  \n",
       "75%         5500.000000  \n",
       "max        45000.000000  "
      ]
     },
     "execution_count": 112,
     "metadata": {},
     "output_type": "execute_result"
    }
   ],
   "source": [
    "df.describe()"
   ]
  },
  {
   "cell_type": "code",
   "execution_count": 14,
   "id": "98d44ba5",
   "metadata": {},
   "outputs": [
    {
     "data": {
      "text/html": [
       "<div>\n",
       "<style scoped>\n",
       "    .dataframe tbody tr th:only-of-type {\n",
       "        vertical-align: middle;\n",
       "    }\n",
       "\n",
       "    .dataframe tbody tr th {\n",
       "        vertical-align: top;\n",
       "    }\n",
       "\n",
       "    .dataframe thead th {\n",
       "        text-align: right;\n",
       "    }\n",
       "</style>\n",
       "<table border=\"1\" class=\"dataframe\">\n",
       "  <thead>\n",
       "    <tr style=\"text-align: right;\">\n",
       "      <th></th>\n",
       "      <th>city</th>\n",
       "      <th>area</th>\n",
       "      <th>rooms</th>\n",
       "      <th>bathroom</th>\n",
       "      <th>parking spaces</th>\n",
       "      <th>floor</th>\n",
       "      <th>animal</th>\n",
       "      <th>furniture</th>\n",
       "      <th>rent amount (R$)</th>\n",
       "    </tr>\n",
       "  </thead>\n",
       "  <tbody>\n",
       "    <tr>\n",
       "      <th>654</th>\n",
       "      <td>São Paulo</td>\n",
       "      <td>1600</td>\n",
       "      <td>6</td>\n",
       "      <td>6</td>\n",
       "      <td>6</td>\n",
       "      <td>0</td>\n",
       "      <td>acept</td>\n",
       "      <td>furnished</td>\n",
       "      <td>7600</td>\n",
       "    </tr>\n",
       "    <tr>\n",
       "      <th>2397</th>\n",
       "      <td>Belo Horizonte</td>\n",
       "      <td>46335</td>\n",
       "      <td>4</td>\n",
       "      <td>8</td>\n",
       "      <td>5</td>\n",
       "      <td>11</td>\n",
       "      <td>acept</td>\n",
       "      <td>furnished</td>\n",
       "      <td>8500</td>\n",
       "    </tr>\n",
       "    <tr>\n",
       "      <th>2423</th>\n",
       "      <td>Belo Horizonte</td>\n",
       "      <td>1020</td>\n",
       "      <td>5</td>\n",
       "      <td>4</td>\n",
       "      <td>6</td>\n",
       "      <td>0</td>\n",
       "      <td>acept</td>\n",
       "      <td>furnished</td>\n",
       "      <td>6520</td>\n",
       "    </tr>\n",
       "    <tr>\n",
       "      <th>3559</th>\n",
       "      <td>São Paulo</td>\n",
       "      <td>1100</td>\n",
       "      <td>4</td>\n",
       "      <td>6</td>\n",
       "      <td>10</td>\n",
       "      <td>0</td>\n",
       "      <td>acept</td>\n",
       "      <td>not furnished</td>\n",
       "      <td>14000</td>\n",
       "    </tr>\n",
       "    <tr>\n",
       "      <th>4813</th>\n",
       "      <td>São Paulo</td>\n",
       "      <td>1600</td>\n",
       "      <td>4</td>\n",
       "      <td>5</td>\n",
       "      <td>12</td>\n",
       "      <td>0</td>\n",
       "      <td>acept</td>\n",
       "      <td>not furnished</td>\n",
       "      <td>6900</td>\n",
       "    </tr>\n",
       "    <tr>\n",
       "      <th>5129</th>\n",
       "      <td>Belo Horizonte</td>\n",
       "      <td>2000</td>\n",
       "      <td>4</td>\n",
       "      <td>2</td>\n",
       "      <td>3</td>\n",
       "      <td>0</td>\n",
       "      <td>acept</td>\n",
       "      <td>not furnished</td>\n",
       "      <td>4956</td>\n",
       "    </tr>\n",
       "    <tr>\n",
       "      <th>5915</th>\n",
       "      <td>São Paulo</td>\n",
       "      <td>24606</td>\n",
       "      <td>5</td>\n",
       "      <td>4</td>\n",
       "      <td>4</td>\n",
       "      <td>12</td>\n",
       "      <td>acept</td>\n",
       "      <td>not furnished</td>\n",
       "      <td>8100</td>\n",
       "    </tr>\n",
       "    <tr>\n",
       "      <th>8790</th>\n",
       "      <td>Belo Horizonte</td>\n",
       "      <td>2000</td>\n",
       "      <td>3</td>\n",
       "      <td>3</td>\n",
       "      <td>2</td>\n",
       "      <td>2</td>\n",
       "      <td>acept</td>\n",
       "      <td>furnished</td>\n",
       "      <td>5000</td>\n",
       "    </tr>\n",
       "  </tbody>\n",
       "</table>\n",
       "</div>"
      ],
      "text/plain": [
       "                city   area  rooms  bathroom  parking spaces  floor animal  \\\n",
       "654        São Paulo   1600      6         6               6      0  acept   \n",
       "2397  Belo Horizonte  46335      4         8               5     11  acept   \n",
       "2423  Belo Horizonte   1020      5         4               6      0  acept   \n",
       "3559       São Paulo   1100      4         6              10      0  acept   \n",
       "4813       São Paulo   1600      4         5              12      0  acept   \n",
       "5129  Belo Horizonte   2000      4         2               3      0  acept   \n",
       "5915       São Paulo  24606      5         4               4     12  acept   \n",
       "8790  Belo Horizonte   2000      3         3               2      2  acept   \n",
       "\n",
       "          furniture  rent amount (R$)  \n",
       "654       furnished              7600  \n",
       "2397      furnished              8500  \n",
       "2423      furnished              6520  \n",
       "3559  not furnished             14000  \n",
       "4813  not furnished              6900  \n",
       "5129  not furnished              4956  \n",
       "5915  not furnished              8100  \n",
       "8790      furnished              5000  "
      ]
     },
     "execution_count": 14,
     "metadata": {},
     "output_type": "execute_result"
    }
   ],
   "source": [
    "df[df['area']>1000]"
   ]
  },
  {
   "cell_type": "markdown",
   "id": "029875ba",
   "metadata": {},
   "source": [
    "### Os imóveis 2397, 5915 e 8790 aprensetam a area incompatível com a area de um Prédio."
   ]
  },
  {
   "cell_type": "code",
   "execution_count": 15,
   "id": "ec06eda6",
   "metadata": {},
   "outputs": [],
   "source": [
    "df.drop([2397, 5915 ,8790],axis=0,inplace=True)"
   ]
  },
  {
   "cell_type": "markdown",
   "id": "33832d0c",
   "metadata": {},
   "source": [
    "## Verificando variável categórica"
   ]
  },
  {
   "cell_type": "code",
   "execution_count": 16,
   "id": "b8fc75e8",
   "metadata": {},
   "outputs": [
    {
     "data": {
      "text/html": [
       "<div>\n",
       "<style scoped>\n",
       "    .dataframe tbody tr th:only-of-type {\n",
       "        vertical-align: middle;\n",
       "    }\n",
       "\n",
       "    .dataframe tbody tr th {\n",
       "        vertical-align: top;\n",
       "    }\n",
       "\n",
       "    .dataframe thead th {\n",
       "        text-align: right;\n",
       "    }\n",
       "</style>\n",
       "<table border=\"1\" class=\"dataframe\">\n",
       "  <thead>\n",
       "    <tr style=\"text-align: right;\">\n",
       "      <th></th>\n",
       "      <th>city</th>\n",
       "      <th>animal</th>\n",
       "      <th>furniture</th>\n",
       "    </tr>\n",
       "  </thead>\n",
       "  <tbody>\n",
       "    <tr>\n",
       "      <th>0</th>\n",
       "      <td>São Paulo</td>\n",
       "      <td>acept</td>\n",
       "      <td>furnished</td>\n",
       "    </tr>\n",
       "    <tr>\n",
       "      <th>1</th>\n",
       "      <td>São Paulo</td>\n",
       "      <td>acept</td>\n",
       "      <td>not furnished</td>\n",
       "    </tr>\n",
       "    <tr>\n",
       "      <th>4</th>\n",
       "      <td>São Paulo</td>\n",
       "      <td>not acept</td>\n",
       "      <td>not furnished</td>\n",
       "    </tr>\n",
       "    <tr>\n",
       "      <th>5</th>\n",
       "      <td>São Paulo</td>\n",
       "      <td>acept</td>\n",
       "      <td>not furnished</td>\n",
       "    </tr>\n",
       "    <tr>\n",
       "      <th>6</th>\n",
       "      <td>Rio de Janeiro</td>\n",
       "      <td>acept</td>\n",
       "      <td>not furnished</td>\n",
       "    </tr>\n",
       "    <tr>\n",
       "      <th>...</th>\n",
       "      <td>...</td>\n",
       "      <td>...</td>\n",
       "      <td>...</td>\n",
       "    </tr>\n",
       "    <tr>\n",
       "      <th>10686</th>\n",
       "      <td>São Paulo</td>\n",
       "      <td>not acept</td>\n",
       "      <td>furnished</td>\n",
       "    </tr>\n",
       "    <tr>\n",
       "      <th>10688</th>\n",
       "      <td>São Paulo</td>\n",
       "      <td>acept</td>\n",
       "      <td>not furnished</td>\n",
       "    </tr>\n",
       "    <tr>\n",
       "      <th>10689</th>\n",
       "      <td>Rio de Janeiro</td>\n",
       "      <td>not acept</td>\n",
       "      <td>furnished</td>\n",
       "    </tr>\n",
       "    <tr>\n",
       "      <th>10690</th>\n",
       "      <td>Rio de Janeiro</td>\n",
       "      <td>acept</td>\n",
       "      <td>furnished</td>\n",
       "    </tr>\n",
       "    <tr>\n",
       "      <th>10691</th>\n",
       "      <td>São Paulo</td>\n",
       "      <td>acept</td>\n",
       "      <td>not furnished</td>\n",
       "    </tr>\n",
       "  </tbody>\n",
       "</table>\n",
       "<p>8643 rows × 3 columns</p>\n",
       "</div>"
      ],
      "text/plain": [
       "                 city     animal      furniture\n",
       "0           São Paulo      acept      furnished\n",
       "1           São Paulo      acept  not furnished\n",
       "4           São Paulo  not acept  not furnished\n",
       "5           São Paulo      acept  not furnished\n",
       "6      Rio de Janeiro      acept  not furnished\n",
       "...               ...        ...            ...\n",
       "10686       São Paulo  not acept      furnished\n",
       "10688       São Paulo      acept  not furnished\n",
       "10689  Rio de Janeiro  not acept      furnished\n",
       "10690  Rio de Janeiro      acept      furnished\n",
       "10691       São Paulo      acept  not furnished\n",
       "\n",
       "[8643 rows x 3 columns]"
      ]
     },
     "execution_count": 16,
     "metadata": {},
     "output_type": "execute_result"
    }
   ],
   "source": [
    "df.select_dtypes(include='object')"
   ]
  },
  {
   "cell_type": "code",
   "execution_count": 17,
   "id": "14a48e2c",
   "metadata": {},
   "outputs": [
    {
     "data": {
      "text/plain": [
       "array(['acept', 'not acept'], dtype=object)"
      ]
     },
     "execution_count": 17,
     "metadata": {},
     "output_type": "execute_result"
    }
   ],
   "source": [
    "df['animal'].unique()"
   ]
  },
  {
   "cell_type": "code",
   "execution_count": 18,
   "id": "28980402",
   "metadata": {},
   "outputs": [
    {
     "data": {
      "text/plain": [
       "array(['furnished', 'not furnished'], dtype=object)"
      ]
     },
     "execution_count": 18,
     "metadata": {},
     "output_type": "execute_result"
    }
   ],
   "source": [
    "df['furniture'].unique()"
   ]
  },
  {
   "cell_type": "markdown",
   "id": "7421c6c9",
   "metadata": {},
   "source": [
    "## Verificando variável númerica "
   ]
  },
  {
   "cell_type": "code",
   "execution_count": 19,
   "id": "14086c15",
   "metadata": {},
   "outputs": [
    {
     "data": {
      "text/html": [
       "<div>\n",
       "<style scoped>\n",
       "    .dataframe tbody tr th:only-of-type {\n",
       "        vertical-align: middle;\n",
       "    }\n",
       "\n",
       "    .dataframe tbody tr th {\n",
       "        vertical-align: top;\n",
       "    }\n",
       "\n",
       "    .dataframe thead th {\n",
       "        text-align: right;\n",
       "    }\n",
       "</style>\n",
       "<table border=\"1\" class=\"dataframe\">\n",
       "  <thead>\n",
       "    <tr style=\"text-align: right;\">\n",
       "      <th></th>\n",
       "      <th>area</th>\n",
       "      <th>rooms</th>\n",
       "      <th>bathroom</th>\n",
       "      <th>parking spaces</th>\n",
       "      <th>floor</th>\n",
       "      <th>rent amount (R$)</th>\n",
       "    </tr>\n",
       "  </thead>\n",
       "  <tbody>\n",
       "    <tr>\n",
       "      <th>0</th>\n",
       "      <td>70</td>\n",
       "      <td>2</td>\n",
       "      <td>1</td>\n",
       "      <td>1</td>\n",
       "      <td>7</td>\n",
       "      <td>3300</td>\n",
       "    </tr>\n",
       "    <tr>\n",
       "      <th>1</th>\n",
       "      <td>320</td>\n",
       "      <td>4</td>\n",
       "      <td>4</td>\n",
       "      <td>0</td>\n",
       "      <td>20</td>\n",
       "      <td>4960</td>\n",
       "    </tr>\n",
       "    <tr>\n",
       "      <th>4</th>\n",
       "      <td>25</td>\n",
       "      <td>1</td>\n",
       "      <td>1</td>\n",
       "      <td>0</td>\n",
       "      <td>1</td>\n",
       "      <td>800</td>\n",
       "    </tr>\n",
       "    <tr>\n",
       "      <th>5</th>\n",
       "      <td>376</td>\n",
       "      <td>3</td>\n",
       "      <td>3</td>\n",
       "      <td>7</td>\n",
       "      <td>0</td>\n",
       "      <td>8000</td>\n",
       "    </tr>\n",
       "    <tr>\n",
       "      <th>6</th>\n",
       "      <td>72</td>\n",
       "      <td>2</td>\n",
       "      <td>1</td>\n",
       "      <td>0</td>\n",
       "      <td>7</td>\n",
       "      <td>8000</td>\n",
       "    </tr>\n",
       "    <tr>\n",
       "      <th>...</th>\n",
       "      <td>...</td>\n",
       "      <td>...</td>\n",
       "      <td>...</td>\n",
       "      <td>...</td>\n",
       "      <td>...</td>\n",
       "      <td>...</td>\n",
       "    </tr>\n",
       "    <tr>\n",
       "      <th>10686</th>\n",
       "      <td>150</td>\n",
       "      <td>3</td>\n",
       "      <td>3</td>\n",
       "      <td>2</td>\n",
       "      <td>8</td>\n",
       "      <td>13500</td>\n",
       "    </tr>\n",
       "    <tr>\n",
       "      <th>10688</th>\n",
       "      <td>285</td>\n",
       "      <td>4</td>\n",
       "      <td>4</td>\n",
       "      <td>4</td>\n",
       "      <td>17</td>\n",
       "      <td>15000</td>\n",
       "    </tr>\n",
       "    <tr>\n",
       "      <th>10689</th>\n",
       "      <td>70</td>\n",
       "      <td>3</td>\n",
       "      <td>3</td>\n",
       "      <td>0</td>\n",
       "      <td>8</td>\n",
       "      <td>6000</td>\n",
       "    </tr>\n",
       "    <tr>\n",
       "      <th>10690</th>\n",
       "      <td>120</td>\n",
       "      <td>2</td>\n",
       "      <td>2</td>\n",
       "      <td>2</td>\n",
       "      <td>8</td>\n",
       "      <td>12000</td>\n",
       "    </tr>\n",
       "    <tr>\n",
       "      <th>10691</th>\n",
       "      <td>80</td>\n",
       "      <td>2</td>\n",
       "      <td>1</td>\n",
       "      <td>0</td>\n",
       "      <td>0</td>\n",
       "      <td>1400</td>\n",
       "    </tr>\n",
       "  </tbody>\n",
       "</table>\n",
       "<p>8643 rows × 6 columns</p>\n",
       "</div>"
      ],
      "text/plain": [
       "       area  rooms  bathroom  parking spaces  floor  rent amount (R$)\n",
       "0        70      2         1               1      7              3300\n",
       "1       320      4         4               0     20              4960\n",
       "4        25      1         1               0      1               800\n",
       "5       376      3         3               7      0              8000\n",
       "6        72      2         1               0      7              8000\n",
       "...     ...    ...       ...             ...    ...               ...\n",
       "10686   150      3         3               2      8             13500\n",
       "10688   285      4         4               4     17             15000\n",
       "10689    70      3         3               0      8              6000\n",
       "10690   120      2         2               2      8             12000\n",
       "10691    80      2         1               0      0              1400\n",
       "\n",
       "[8643 rows x 6 columns]"
      ]
     },
     "execution_count": 19,
     "metadata": {},
     "output_type": "execute_result"
    }
   ],
   "source": [
    "df.select_dtypes(exclude='object')"
   ]
  },
  {
   "cell_type": "code",
   "execution_count": 20,
   "id": "014a45e3",
   "metadata": {},
   "outputs": [
    {
     "data": {
      "text/plain": [
       "array([ 2,  4,  1,  3,  7,  5,  8,  6, 10, 13,  9])"
      ]
     },
     "execution_count": 20,
     "metadata": {},
     "output_type": "execute_result"
    }
   ],
   "source": [
    "df['rooms'].unique()"
   ]
  },
  {
   "cell_type": "code",
   "execution_count": 21,
   "id": "78b20312",
   "metadata": {},
   "outputs": [
    {
     "data": {
      "text/plain": [
       "array([ 1,  4,  3,  2,  5,  6,  9,  7, 10,  8])"
      ]
     },
     "execution_count": 21,
     "metadata": {},
     "output_type": "execute_result"
    }
   ],
   "source": [
    "df['bathroom'].unique()"
   ]
  },
  {
   "cell_type": "code",
   "execution_count": 22,
   "id": "37deca99",
   "metadata": {},
   "outputs": [
    {
     "data": {
      "text/plain": [
       "count    8643.000000\n",
       "mean      148.276177\n",
       "std       136.883694\n",
       "min        11.000000\n",
       "25%        60.000000\n",
       "50%       100.000000\n",
       "75%       200.000000\n",
       "max      2000.000000\n",
       "Name: area, dtype: float64"
      ]
     },
     "execution_count": 22,
     "metadata": {},
     "output_type": "execute_result"
    }
   ],
   "source": [
    "df['area'].describe()"
   ]
  },
  {
   "cell_type": "markdown",
   "id": "950be1e8",
   "metadata": {},
   "source": [
    "## Verificando variável alvo - 'rent amount (R$)'"
   ]
  },
  {
   "cell_type": "code",
   "execution_count": 23,
   "id": "e2831625",
   "metadata": {},
   "outputs": [
    {
     "data": {
      "text/plain": [
       "(array([1.98132351e-04, 1.78420403e-04, 9.84039165e-05, 5.68763730e-05,\n",
       "        3.77877272e-05, 3.44374751e-05, 1.95561228e-05, 1.73745632e-05,\n",
       "        9.42745360e-06, 2.20493336e-05, 7.79128397e-08, 7.79128397e-08,\n",
       "        7.79128397e-08, 3.89564198e-07, 0.00000000e+00, 7.79128397e-08,\n",
       "        7.79128397e-08, 0.00000000e+00, 0.00000000e+00, 7.79128397e-08,\n",
       "        0.00000000e+00, 0.00000000e+00, 0.00000000e+00, 0.00000000e+00,\n",
       "        0.00000000e+00, 0.00000000e+00, 0.00000000e+00, 0.00000000e+00,\n",
       "        0.00000000e+00, 7.79128397e-08]),\n",
       " array([  450.,  1935.,  3420.,  4905.,  6390.,  7875.,  9360., 10845.,\n",
       "        12330., 13815., 15300., 16785., 18270., 19755., 21240., 22725.,\n",
       "        24210., 25695., 27180., 28665., 30150., 31635., 33120., 34605.,\n",
       "        36090., 37575., 39060., 40545., 42030., 43515., 45000.]),\n",
       " <BarContainer object of 30 artists>)"
      ]
     },
     "execution_count": 23,
     "metadata": {},
     "output_type": "execute_result"
    },
    {
     "data": {
      "image/png": "[encoded data removed]",
      "text/plain": [
       "<Figure size 720x576 with 1 Axes>"
      ]
     },
     "metadata": {},
     "output_type": "display_data"
    }
   ],
   "source": [
    "plt.figure(figsize=(10, 8))\n",
    "plt.title('Histrograma variável rent amount (R$)')\n",
    "plt.hist(df['rent amount (R$)'], density=True, bins=30) "
   ]
  },
  {
   "cell_type": "markdown",
   "id": "f68df626",
   "metadata": {},
   "source": [
    "### Aplicando a transformação logarítma com o intuito melhorar a simetria dos dados, a transformação logaritima faz com que os dados fiquem proporcionais. Assim sua distribuição se aproxima da normal , melhorando o desempenho do modelo."
   ]
  },
  {
   "cell_type": "code",
   "execution_count": 24,
   "id": "b7a8da3b",
   "metadata": {},
   "outputs": [
    {
     "data": {
      "text/plain": [
       "(array([0.00979838, 0.0173356 , 0.04597703, 0.07537218, 0.13190131,\n",
       "        0.28339938, 0.36932367, 0.35048062, 0.36329389, 0.50273242,\n",
       "        0.42359163, 0.50122497, 0.50273242, 0.41077836, 0.35726412,\n",
       "        0.4258528 , 0.33992852, 0.28189194, 0.26380262, 0.20953465,\n",
       "        0.21933303, 0.19295277, 0.22687025, 0.00075372, 0.00527605,\n",
       "        0.00075372, 0.00075372, 0.00075372, 0.        , 0.00075372]),\n",
       " array([ 6.10924758,  6.26275326,  6.41625893,  6.5697646 ,  6.72327027,\n",
       "         6.87677595,  7.03028162,  7.18378729,  7.33729297,  7.49079864,\n",
       "         7.64430431,  7.79780998,  7.95131566,  8.10482133,  8.258327  ,\n",
       "         8.41183268,  8.56533835,  8.71884402,  8.87234969,  9.02585537,\n",
       "         9.17936104,  9.33286671,  9.48637239,  9.63987806,  9.79338373,\n",
       "         9.9468894 , 10.10039508, 10.25390075, 10.40740642, 10.5609121 ,\n",
       "        10.71441777]),\n",
       " <BarContainer object of 30 artists>)"
      ]
     },
     "execution_count": 24,
     "metadata": {},
     "output_type": "execute_result"
    },
    {
     "data": {
      "image/png": "[encoded data removed]",
      "text/plain": [
       "<Figure size 720x576 with 1 Axes>"
      ]
     },
     "metadata": {},
     "output_type": "display_data"
    }
   ],
   "source": [
    "plt.figure(figsize=(10, 8))\n",
    "plt.title('Histrograma após a transformação logarítma (rent amount (R$))')\n",
    "plt.hist(np.log(df['rent amount (R$)']), density=True, bins=30)\n"
   ]
  },
  {
   "cell_type": "code",
   "execution_count": 25,
   "id": "217d1be4",
   "metadata": {},
   "outputs": [
    {
     "data": {
      "text/html": [
       "<div>\n",
       "<style scoped>\n",
       "    .dataframe tbody tr th:only-of-type {\n",
       "        vertical-align: middle;\n",
       "    }\n",
       "\n",
       "    .dataframe tbody tr th {\n",
       "        vertical-align: top;\n",
       "    }\n",
       "\n",
       "    .dataframe thead th {\n",
       "        text-align: right;\n",
       "    }\n",
       "</style>\n",
       "<table border=\"1\" class=\"dataframe\">\n",
       "  <thead>\n",
       "    <tr style=\"text-align: right;\">\n",
       "      <th></th>\n",
       "      <th>city</th>\n",
       "      <th>area</th>\n",
       "      <th>rooms</th>\n",
       "      <th>bathroom</th>\n",
       "      <th>parking spaces</th>\n",
       "      <th>floor</th>\n",
       "      <th>animal</th>\n",
       "      <th>furniture</th>\n",
       "      <th>rent amount (R$)</th>\n",
       "    </tr>\n",
       "  </thead>\n",
       "  <tbody>\n",
       "    <tr>\n",
       "      <th>0</th>\n",
       "      <td>São Paulo</td>\n",
       "      <td>70</td>\n",
       "      <td>2</td>\n",
       "      <td>1</td>\n",
       "      <td>1</td>\n",
       "      <td>7</td>\n",
       "      <td>acept</td>\n",
       "      <td>furnished</td>\n",
       "      <td>3300</td>\n",
       "    </tr>\n",
       "    <tr>\n",
       "      <th>1</th>\n",
       "      <td>São Paulo</td>\n",
       "      <td>320</td>\n",
       "      <td>4</td>\n",
       "      <td>4</td>\n",
       "      <td>0</td>\n",
       "      <td>20</td>\n",
       "      <td>acept</td>\n",
       "      <td>not furnished</td>\n",
       "      <td>4960</td>\n",
       "    </tr>\n",
       "    <tr>\n",
       "      <th>4</th>\n",
       "      <td>São Paulo</td>\n",
       "      <td>25</td>\n",
       "      <td>1</td>\n",
       "      <td>1</td>\n",
       "      <td>0</td>\n",
       "      <td>1</td>\n",
       "      <td>not acept</td>\n",
       "      <td>not furnished</td>\n",
       "      <td>800</td>\n",
       "    </tr>\n",
       "    <tr>\n",
       "      <th>5</th>\n",
       "      <td>São Paulo</td>\n",
       "      <td>376</td>\n",
       "      <td>3</td>\n",
       "      <td>3</td>\n",
       "      <td>7</td>\n",
       "      <td>0</td>\n",
       "      <td>acept</td>\n",
       "      <td>not furnished</td>\n",
       "      <td>8000</td>\n",
       "    </tr>\n",
       "    <tr>\n",
       "      <th>6</th>\n",
       "      <td>Rio de Janeiro</td>\n",
       "      <td>72</td>\n",
       "      <td>2</td>\n",
       "      <td>1</td>\n",
       "      <td>0</td>\n",
       "      <td>7</td>\n",
       "      <td>acept</td>\n",
       "      <td>not furnished</td>\n",
       "      <td>8000</td>\n",
       "    </tr>\n",
       "    <tr>\n",
       "      <th>...</th>\n",
       "      <td>...</td>\n",
       "      <td>...</td>\n",
       "      <td>...</td>\n",
       "      <td>...</td>\n",
       "      <td>...</td>\n",
       "      <td>...</td>\n",
       "      <td>...</td>\n",
       "      <td>...</td>\n",
       "      <td>...</td>\n",
       "    </tr>\n",
       "    <tr>\n",
       "      <th>10686</th>\n",
       "      <td>São Paulo</td>\n",
       "      <td>150</td>\n",
       "      <td>3</td>\n",
       "      <td>3</td>\n",
       "      <td>2</td>\n",
       "      <td>8</td>\n",
       "      <td>not acept</td>\n",
       "      <td>furnished</td>\n",
       "      <td>13500</td>\n",
       "    </tr>\n",
       "    <tr>\n",
       "      <th>10688</th>\n",
       "      <td>São Paulo</td>\n",
       "      <td>285</td>\n",
       "      <td>4</td>\n",
       "      <td>4</td>\n",
       "      <td>4</td>\n",
       "      <td>17</td>\n",
       "      <td>acept</td>\n",
       "      <td>not furnished</td>\n",
       "      <td>15000</td>\n",
       "    </tr>\n",
       "    <tr>\n",
       "      <th>10689</th>\n",
       "      <td>Rio de Janeiro</td>\n",
       "      <td>70</td>\n",
       "      <td>3</td>\n",
       "      <td>3</td>\n",
       "      <td>0</td>\n",
       "      <td>8</td>\n",
       "      <td>not acept</td>\n",
       "      <td>furnished</td>\n",
       "      <td>6000</td>\n",
       "    </tr>\n",
       "    <tr>\n",
       "      <th>10690</th>\n",
       "      <td>Rio de Janeiro</td>\n",
       "      <td>120</td>\n",
       "      <td>2</td>\n",
       "      <td>2</td>\n",
       "      <td>2</td>\n",
       "      <td>8</td>\n",
       "      <td>acept</td>\n",
       "      <td>furnished</td>\n",
       "      <td>12000</td>\n",
       "    </tr>\n",
       "    <tr>\n",
       "      <th>10691</th>\n",
       "      <td>São Paulo</td>\n",
       "      <td>80</td>\n",
       "      <td>2</td>\n",
       "      <td>1</td>\n",
       "      <td>0</td>\n",
       "      <td>0</td>\n",
       "      <td>acept</td>\n",
       "      <td>not furnished</td>\n",
       "      <td>1400</td>\n",
       "    </tr>\n",
       "  </tbody>\n",
       "</table>\n",
       "<p>8643 rows × 9 columns</p>\n",
       "</div>"
      ],
      "text/plain": [
       "                 city  area  rooms  bathroom  parking spaces  floor  \\\n",
       "0           São Paulo    70      2         1               1      7   \n",
       "1           São Paulo   320      4         4               0     20   \n",
       "4           São Paulo    25      1         1               0      1   \n",
       "5           São Paulo   376      3         3               7      0   \n",
       "6      Rio de Janeiro    72      2         1               0      7   \n",
       "...               ...   ...    ...       ...             ...    ...   \n",
       "10686       São Paulo   150      3         3               2      8   \n",
       "10688       São Paulo   285      4         4               4     17   \n",
       "10689  Rio de Janeiro    70      3         3               0      8   \n",
       "10690  Rio de Janeiro   120      2         2               2      8   \n",
       "10691       São Paulo    80      2         1               0      0   \n",
       "\n",
       "          animal      furniture  rent amount (R$)  \n",
       "0          acept      furnished              3300  \n",
       "1          acept  not furnished              4960  \n",
       "4      not acept  not furnished               800  \n",
       "5          acept  not furnished              8000  \n",
       "6          acept  not furnished              8000  \n",
       "...          ...            ...               ...  \n",
       "10686  not acept      furnished             13500  \n",
       "10688      acept  not furnished             15000  \n",
       "10689  not acept      furnished              6000  \n",
       "10690      acept      furnished             12000  \n",
       "10691      acept  not furnished              1400  \n",
       "\n",
       "[8643 rows x 9 columns]"
      ]
     },
     "execution_count": 25,
     "metadata": {},
     "output_type": "execute_result"
    }
   ],
   "source": [
    "df"
   ]
  },
  {
   "cell_type": "markdown",
   "id": "5ba7ade6",
   "metadata": {},
   "source": [
    "## 1) Foi divido em 70% para treino e 30% para teste - essa % foi escolhida dado que 30% do dataset corresponde a 2593 linhas , dados  suficientes para se ter uma estimativa precisa do risco. A separação entre treino e teste foi realizada antes do processamento dos dados para evitar data leakage."
   ]
  },
  {
   "cell_type": "code",
   "execution_count": 26,
   "id": "c4168e60",
   "metadata": {},
   "outputs": [],
   "source": [
    "x_train, x_test, y_train, y_test = train_test_split(df.drop('rent amount (R$)', axis=1), df['rent amount (R$)'], test_size=0.3, random_state=42)"
   ]
  },
  {
   "cell_type": "markdown",
   "id": "20a7efd2",
   "metadata": {},
   "source": [
    "## Transformando valores "
   ]
  },
  {
   "cell_type": "code",
   "execution_count": 27,
   "id": "26704bc7",
   "metadata": {
    "scrolled": true
   },
   "outputs": [],
   "source": [
    "transformer = make_column_transformer((StandardScaler(), ['area', 'rooms', 'bathroom', 'parking spaces', 'floor']),(OneHotEncoder(), ['city']),(OrdinalEncoder(categories= [[\"not acept\", \"acept\"]]),['animal']),(OrdinalEncoder(categories= [[\"not furnished\", \"furnished\"]]),['furniture']))"
   ]
  },
  {
   "cell_type": "code",
   "execution_count": 28,
   "id": "11e1960e",
   "metadata": {},
   "outputs": [],
   "source": [
    "x_train_transf = transformer.fit_transform(x_train)\n",
    "x_test_transf = transformer.transform(x_test)"
   ]
  },
  {
   "cell_type": "code",
   "execution_count": 30,
   "id": "ef2b675f",
   "metadata": {},
   "outputs": [],
   "source": [
    "df_transf = pd.DataFrame(x_train_transf, columns =['area','rooms','bathroom','parking spaces','floor','BH','RJ','SP', 'animal','furniture'] )"
   ]
  },
  {
   "cell_type": "code",
   "execution_count": 31,
   "id": "8d8a0aed",
   "metadata": {},
   "outputs": [
    {
     "data": {
      "text/html": [
       "<div>\n",
       "<style scoped>\n",
       "    .dataframe tbody tr th:only-of-type {\n",
       "        vertical-align: middle;\n",
       "    }\n",
       "\n",
       "    .dataframe tbody tr th {\n",
       "        vertical-align: top;\n",
       "    }\n",
       "\n",
       "    .dataframe thead th {\n",
       "        text-align: right;\n",
       "    }\n",
       "</style>\n",
       "<table border=\"1\" class=\"dataframe\">\n",
       "  <thead>\n",
       "    <tr style=\"text-align: right;\">\n",
       "      <th></th>\n",
       "      <th>area</th>\n",
       "      <th>rooms</th>\n",
       "      <th>bathroom</th>\n",
       "      <th>parking spaces</th>\n",
       "      <th>floor</th>\n",
       "      <th>BH</th>\n",
       "      <th>RJ</th>\n",
       "      <th>SP</th>\n",
       "      <th>animal</th>\n",
       "      <th>furniture</th>\n",
       "    </tr>\n",
       "  </thead>\n",
       "  <tbody>\n",
       "    <tr>\n",
       "      <th>0</th>\n",
       "      <td>0.156827</td>\n",
       "      <td>1.200247</td>\n",
       "      <td>1.162885</td>\n",
       "      <td>0.807887</td>\n",
       "      <td>0.873724</td>\n",
       "      <td>0.0</td>\n",
       "      <td>0.0</td>\n",
       "      <td>1.0</td>\n",
       "      <td>0.0</td>\n",
       "      <td>1.0</td>\n",
       "    </tr>\n",
       "    <tr>\n",
       "      <th>1</th>\n",
       "      <td>-0.771794</td>\n",
       "      <td>-1.321398</td>\n",
       "      <td>-0.929339</td>\n",
       "      <td>-0.423276</td>\n",
       "      <td>-0.216704</td>\n",
       "      <td>0.0</td>\n",
       "      <td>0.0</td>\n",
       "      <td>1.0</td>\n",
       "      <td>0.0</td>\n",
       "      <td>1.0</td>\n",
       "    </tr>\n",
       "    <tr>\n",
       "      <th>2</th>\n",
       "      <td>0.301924</td>\n",
       "      <td>0.359699</td>\n",
       "      <td>1.162885</td>\n",
       "      <td>1.423468</td>\n",
       "      <td>-0.943656</td>\n",
       "      <td>0.0</td>\n",
       "      <td>0.0</td>\n",
       "      <td>1.0</td>\n",
       "      <td>1.0</td>\n",
       "      <td>0.0</td>\n",
       "    </tr>\n",
       "    <tr>\n",
       "      <th>3</th>\n",
       "      <td>-0.604933</td>\n",
       "      <td>-0.480849</td>\n",
       "      <td>-0.231931</td>\n",
       "      <td>-1.038857</td>\n",
       "      <td>0.146772</td>\n",
       "      <td>0.0</td>\n",
       "      <td>0.0</td>\n",
       "      <td>1.0</td>\n",
       "      <td>1.0</td>\n",
       "      <td>0.0</td>\n",
       "    </tr>\n",
       "    <tr>\n",
       "      <th>4</th>\n",
       "      <td>0.447022</td>\n",
       "      <td>1.200247</td>\n",
       "      <td>0.465477</td>\n",
       "      <td>0.807887</td>\n",
       "      <td>1.055462</td>\n",
       "      <td>0.0</td>\n",
       "      <td>0.0</td>\n",
       "      <td>1.0</td>\n",
       "      <td>1.0</td>\n",
       "      <td>0.0</td>\n",
       "    </tr>\n",
       "    <tr>\n",
       "      <th>...</th>\n",
       "      <td>...</td>\n",
       "      <td>...</td>\n",
       "      <td>...</td>\n",
       "      <td>...</td>\n",
       "      <td>...</td>\n",
       "      <td>...</td>\n",
       "      <td>...</td>\n",
       "      <td>...</td>\n",
       "      <td>...</td>\n",
       "      <td>...</td>\n",
       "    </tr>\n",
       "    <tr>\n",
       "      <th>6045</th>\n",
       "      <td>-0.416306</td>\n",
       "      <td>0.359699</td>\n",
       "      <td>0.465477</td>\n",
       "      <td>0.807887</td>\n",
       "      <td>-0.034966</td>\n",
       "      <td>0.0</td>\n",
       "      <td>0.0</td>\n",
       "      <td>1.0</td>\n",
       "      <td>0.0</td>\n",
       "      <td>0.0</td>\n",
       "    </tr>\n",
       "    <tr>\n",
       "      <th>6046</th>\n",
       "      <td>-0.554149</td>\n",
       "      <td>-0.480849</td>\n",
       "      <td>-0.231931</td>\n",
       "      <td>-0.423276</td>\n",
       "      <td>0.146772</td>\n",
       "      <td>0.0</td>\n",
       "      <td>0.0</td>\n",
       "      <td>1.0</td>\n",
       "      <td>1.0</td>\n",
       "      <td>0.0</td>\n",
       "    </tr>\n",
       "    <tr>\n",
       "      <th>6047</th>\n",
       "      <td>1.245056</td>\n",
       "      <td>0.359699</td>\n",
       "      <td>1.860293</td>\n",
       "      <td>-1.038857</td>\n",
       "      <td>0.873724</td>\n",
       "      <td>0.0</td>\n",
       "      <td>0.0</td>\n",
       "      <td>1.0</td>\n",
       "      <td>0.0</td>\n",
       "      <td>0.0</td>\n",
       "    </tr>\n",
       "    <tr>\n",
       "      <th>6048</th>\n",
       "      <td>-0.351013</td>\n",
       "      <td>-0.480849</td>\n",
       "      <td>-0.231931</td>\n",
       "      <td>-0.423276</td>\n",
       "      <td>-0.398442</td>\n",
       "      <td>0.0</td>\n",
       "      <td>0.0</td>\n",
       "      <td>1.0</td>\n",
       "      <td>1.0</td>\n",
       "      <td>0.0</td>\n",
       "    </tr>\n",
       "    <tr>\n",
       "      <th>6049</th>\n",
       "      <td>2.260736</td>\n",
       "      <td>3.721893</td>\n",
       "      <td>1.860293</td>\n",
       "      <td>2.039050</td>\n",
       "      <td>-0.943656</td>\n",
       "      <td>0.0</td>\n",
       "      <td>0.0</td>\n",
       "      <td>1.0</td>\n",
       "      <td>1.0</td>\n",
       "      <td>1.0</td>\n",
       "    </tr>\n",
       "  </tbody>\n",
       "</table>\n",
       "<p>6050 rows × 10 columns</p>\n",
       "</div>"
      ],
      "text/plain": [
       "          area     rooms  bathroom  parking spaces     floor   BH   RJ   SP  \\\n",
       "0     0.156827  1.200247  1.162885        0.807887  0.873724  0.0  0.0  1.0   \n",
       "1    -0.771794 -1.321398 -0.929339       -0.423276 -0.216704  0.0  0.0  1.0   \n",
       "2     0.301924  0.359699  1.162885        1.423468 -0.943656  0.0  0.0  1.0   \n",
       "3    -0.604933 -0.480849 -0.231931       -1.038857  0.146772  0.0  0.0  1.0   \n",
       "4     0.447022  1.200247  0.465477        0.807887  1.055462  0.0  0.0  1.0   \n",
       "...        ...       ...       ...             ...       ...  ...  ...  ...   \n",
       "6045 -0.416306  0.359699  0.465477        0.807887 -0.034966  0.0  0.0  1.0   \n",
       "6046 -0.554149 -0.480849 -0.231931       -0.423276  0.146772  0.0  0.0  1.0   \n",
       "6047  1.245056  0.359699  1.860293       -1.038857  0.873724  0.0  0.0  1.0   \n",
       "6048 -0.351013 -0.480849 -0.231931       -0.423276 -0.398442  0.0  0.0  1.0   \n",
       "6049  2.260736  3.721893  1.860293        2.039050 -0.943656  0.0  0.0  1.0   \n",
       "\n",
       "      animal  furniture  \n",
       "0        0.0        1.0  \n",
       "1        0.0        1.0  \n",
       "2        1.0        0.0  \n",
       "3        1.0        0.0  \n",
       "4        1.0        0.0  \n",
       "...      ...        ...  \n",
       "6045     0.0        0.0  \n",
       "6046     1.0        0.0  \n",
       "6047     0.0        0.0  \n",
       "6048     1.0        0.0  \n",
       "6049     1.0        1.0  \n",
       "\n",
       "[6050 rows x 10 columns]"
      ]
     },
     "execution_count": 31,
     "metadata": {},
     "output_type": "execute_result"
    }
   ],
   "source": [
    "df_transf"
   ]
  },
  {
   "cell_type": "code",
   "execution_count": 33,
   "id": "3ba6a85a",
   "metadata": {},
   "outputs": [],
   "source": [
    "y_train_transf = np.log(y_train)\n",
    "y_test_transf = np.log(y_test)"
   ]
  },
  {
   "cell_type": "markdown",
   "id": "74712640",
   "metadata": {},
   "source": [
    "# Regressão Linear Simples (Mínimos Quadrados)"
   ]
  },
  {
   "cell_type": "code",
   "execution_count": 34,
   "id": "c01f9544",
   "metadata": {},
   "outputs": [],
   "source": [
    "LR = LinearRegression()"
   ]
  },
  {
   "cell_type": "code",
   "execution_count": 35,
   "id": "16c3a527",
   "metadata": {},
   "outputs": [
    {
     "data": {
      "text/plain": [
       "LinearRegression()"
      ]
     },
     "execution_count": 35,
     "metadata": {},
     "output_type": "execute_result"
    }
   ],
   "source": [
    "LR.fit(x_train_transf,y_train_transf)"
   ]
  },
  {
   "cell_type": "code",
   "execution_count": 36,
   "id": "b65802dd",
   "metadata": {},
   "outputs": [
    {
     "data": {
      "text/plain": [
       "array([ 0.19956439,  0.13696243,  0.19851499,  0.0904155 ,  0.09104006,\n",
       "       -0.18404397,  0.04738412,  0.13665985,  0.01124942,  0.35458762])"
      ]
     },
     "execution_count": 36,
     "metadata": {},
     "output_type": "execute_result"
    }
   ],
   "source": [
    "LR.coef_"
   ]
  },
  {
   "cell_type": "code",
   "execution_count": 37,
   "id": "a35306f3",
   "metadata": {},
   "outputs": [],
   "source": [
    "coeff_df_lr = pd.DataFrame(LR.coef_,df_transf.columns,columns=['Coefficient'])"
   ]
  },
  {
   "cell_type": "code",
   "execution_count": 38,
   "id": "7151c381",
   "metadata": {},
   "outputs": [],
   "source": [
    "coeff_df_lr = coeff_df_lr.sort_values(by='Coefficient', ascending=True)"
   ]
  },
  {
   "cell_type": "code",
   "execution_count": 39,
   "id": "64cdccaf",
   "metadata": {},
   "outputs": [
    {
     "data": {
      "text/html": [
       "<div>\n",
       "<style scoped>\n",
       "    .dataframe tbody tr th:only-of-type {\n",
       "        vertical-align: middle;\n",
       "    }\n",
       "\n",
       "    .dataframe tbody tr th {\n",
       "        vertical-align: top;\n",
       "    }\n",
       "\n",
       "    .dataframe thead th {\n",
       "        text-align: right;\n",
       "    }\n",
       "</style>\n",
       "<table border=\"1\" class=\"dataframe\">\n",
       "  <thead>\n",
       "    <tr style=\"text-align: right;\">\n",
       "      <th></th>\n",
       "      <th>Coefficient</th>\n",
       "    </tr>\n",
       "  </thead>\n",
       "  <tbody>\n",
       "    <tr>\n",
       "      <th>BH</th>\n",
       "      <td>-0.184044</td>\n",
       "    </tr>\n",
       "    <tr>\n",
       "      <th>animal</th>\n",
       "      <td>0.011249</td>\n",
       "    </tr>\n",
       "    <tr>\n",
       "      <th>RJ</th>\n",
       "      <td>0.047384</td>\n",
       "    </tr>\n",
       "    <tr>\n",
       "      <th>parking spaces</th>\n",
       "      <td>0.090416</td>\n",
       "    </tr>\n",
       "    <tr>\n",
       "      <th>floor</th>\n",
       "      <td>0.091040</td>\n",
       "    </tr>\n",
       "    <tr>\n",
       "      <th>SP</th>\n",
       "      <td>0.136660</td>\n",
       "    </tr>\n",
       "    <tr>\n",
       "      <th>rooms</th>\n",
       "      <td>0.136962</td>\n",
       "    </tr>\n",
       "    <tr>\n",
       "      <th>bathroom</th>\n",
       "      <td>0.198515</td>\n",
       "    </tr>\n",
       "    <tr>\n",
       "      <th>area</th>\n",
       "      <td>0.199564</td>\n",
       "    </tr>\n",
       "    <tr>\n",
       "      <th>furniture</th>\n",
       "      <td>0.354588</td>\n",
       "    </tr>\n",
       "  </tbody>\n",
       "</table>\n",
       "</div>"
      ],
      "text/plain": [
       "                Coefficient\n",
       "BH                -0.184044\n",
       "animal             0.011249\n",
       "RJ                 0.047384\n",
       "parking spaces     0.090416\n",
       "floor              0.091040\n",
       "SP                 0.136660\n",
       "rooms              0.136962\n",
       "bathroom           0.198515\n",
       "area               0.199564\n",
       "furniture          0.354588"
      ]
     },
     "execution_count": 39,
     "metadata": {},
     "output_type": "execute_result"
    }
   ],
   "source": [
    "coeff_df_lr"
   ]
  },
  {
   "cell_type": "code",
   "execution_count": 40,
   "id": "921d18d8",
   "metadata": {},
   "outputs": [
    {
     "name": "stdout",
     "output_type": "stream",
     "text": [
      "Intercepto: 7.885432958572059\n"
     ]
    }
   ],
   "source": [
    "print('Intercepto:',LR.intercept_)"
   ]
  },
  {
   "cell_type": "code",
   "execution_count": 41,
   "id": "74e2345b",
   "metadata": {},
   "outputs": [
    {
     "data": {
      "image/png": "[encoded data removed]",
      "text/plain": [
       "<Figure size 576x432 with 1 Axes>"
      ]
     },
     "metadata": {},
     "output_type": "display_data"
    }
   ],
   "source": [
    "fig = plt.figure(figsize=(8, 6))\n",
    "ax = fig.add_axes([0,0,1,1])\n",
    "plt.xlabel(\"Valores dos coeficientes\")\n",
    "plt.ylabel(\"Coeficientes\")\n",
    "plt.title('COEFICIENTES REGRESSÃO LINEAR (MQ)')\n",
    "ax.barh(coeff_df_lr.index,coeff_df_lr['Coefficient'])\n",
    "plt.show()"
   ]
  },
  {
   "cell_type": "code",
   "execution_count": 42,
   "id": "8769234d",
   "metadata": {},
   "outputs": [],
   "source": [
    "scores = cross_val_score(LR, x_train_transf, y_train_transf, cv=5,scoring='neg_mean_squared_error')"
   ]
  },
  {
   "cell_type": "markdown",
   "id": "f22ead47",
   "metadata": {},
   "source": [
    "## Verificando MSE "
   ]
  },
  {
   "cell_type": "code",
   "execution_count": 114,
   "id": "47c0e2b9",
   "metadata": {},
   "outputs": [
    {
     "data": {
      "text/plain": [
       "array([0.22518103, 0.23690785, 0.24768692, 0.25226343, 0.22591263])"
      ]
     },
     "execution_count": 114,
     "metadata": {},
     "output_type": "execute_result"
    }
   ],
   "source": [
    "(-1*scores)"
   ]
  },
  {
   "cell_type": "markdown",
   "id": "9e8d9bc0",
   "metadata": {},
   "source": [
    "# Regressão Lasso"
   ]
  },
  {
   "cell_type": "code",
   "execution_count": 44,
   "id": "2b3b058b",
   "metadata": {},
   "outputs": [],
   "source": [
    "lambdas_lasso = np.logspace(-3, 0, 30)"
   ]
  },
  {
   "cell_type": "code",
   "execution_count": 45,
   "id": "226c1395",
   "metadata": {},
   "outputs": [
    {
     "data": {
      "text/plain": [
       "GridSearchCV(cv=5, estimator=Lasso(),\n",
       "             param_grid={'alpha': array([0.001     , 0.00126896, 0.00161026, 0.00204336, 0.00259294,\n",
       "       0.00329034, 0.00417532, 0.00529832, 0.00672336, 0.00853168,\n",
       "       0.01082637, 0.01373824, 0.01743329, 0.02212216, 0.02807216,\n",
       "       0.03562248, 0.04520354, 0.05736153, 0.07278954, 0.09236709,\n",
       "       0.11721023, 0.14873521, 0.18873918, 0.23950266, 0.30391954,\n",
       "       0.38566204, 0.48939009, 0.62101694, 0.78804628, 1.        ])},\n",
       "             scoring='neg_mean_squared_error')"
      ]
     },
     "execution_count": 45,
     "metadata": {},
     "output_type": "execute_result"
    }
   ],
   "source": [
    "lasso = Lasso()\n",
    "grid_lasso = GridSearchCV(estimator=lasso, param_grid=dict(alpha=lambdas_lasso), cv=5, scoring = 'neg_mean_squared_error')\n",
    "grid_lasso.fit(x_train_transf,y_train_transf)"
   ]
  },
  {
   "cell_type": "code",
   "execution_count": 46,
   "id": "4ef1982d",
   "metadata": {},
   "outputs": [],
   "source": [
    "scores_lasso =(-grid_lasso.cv_results_['mean_test_score'])"
   ]
  },
  {
   "cell_type": "code",
   "execution_count": 47,
   "id": "a2199f2f",
   "metadata": {},
   "outputs": [
    {
     "data": {
      "text/plain": [
       "(0.001, 1.0)"
      ]
     },
     "execution_count": 47,
     "metadata": {},
     "output_type": "execute_result"
    },
    {
     "data": {
      "image/png": "[encoded data removed]",
      "text/plain": [
       "<Figure size 720x576 with 1 Axes>"
      ]
     },
     "metadata": {},
     "output_type": "display_data"
    }
   ],
   "source": [
    "plt.figure().set_size_inches(10, 8)\n",
    "plt.semilogx(lambdas_lasso, scores_lasso)\n",
    "plt.ylabel('MSE')\n",
    "plt.xlabel('lambda')\n",
    "plt.title('MSE X LAMBDA (LASSO)')\n",
    "plt.axhline(np.min(scores_lasso), linestyle='--', color='.5')\n",
    "plt.xlim([lambdas_lasso[0], lambdas_lasso[-1]])"
   ]
  },
  {
   "cell_type": "markdown",
   "id": "736702ba",
   "metadata": {},
   "source": [
    "## Menor erro médio quadrado - lasso"
   ]
  },
  {
   "cell_type": "code",
   "execution_count": 48,
   "id": "86a75876",
   "metadata": {},
   "outputs": [
    {
     "data": {
      "text/plain": [
       "0.23756280669768892"
      ]
     },
     "execution_count": 48,
     "metadata": {},
     "output_type": "execute_result"
    }
   ],
   "source": [
    "np.min(scores_lasso)"
   ]
  },
  {
   "cell_type": "markdown",
   "id": "e5db7f31",
   "metadata": {},
   "source": [
    "## 2) Lambda que minimiza o MSE - lasso"
   ]
  },
  {
   "cell_type": "code",
   "execution_count": 49,
   "id": "4c60bf76",
   "metadata": {},
   "outputs": [
    {
     "data": {
      "text/plain": [
       "0.001"
      ]
     },
     "execution_count": 49,
     "metadata": {},
     "output_type": "execute_result"
    }
   ],
   "source": [
    "lambdas_lasso[np.argmin(scores_lasso)]"
   ]
  },
  {
   "cell_type": "markdown",
   "id": "e6dd00d4",
   "metadata": {},
   "source": [
    "## Coefientes do modelo Lasso com lambda ajustado"
   ]
  },
  {
   "cell_type": "code",
   "execution_count": 50,
   "id": "ed5f0e44",
   "metadata": {},
   "outputs": [],
   "source": [
    "reg_lasso = Lasso (alpha= lambdas_lasso[np.argmin(scores_lasso)])"
   ]
  },
  {
   "cell_type": "code",
   "execution_count": 51,
   "id": "97eb5dd3",
   "metadata": {},
   "outputs": [
    {
     "data": {
      "text/plain": [
       "Lasso(alpha=0.001)"
      ]
     },
     "execution_count": 51,
     "metadata": {},
     "output_type": "execute_result"
    }
   ],
   "source": [
    "reg_lasso.fit(x_train_transf,y_train_transf)"
   ]
  },
  {
   "cell_type": "code",
   "execution_count": 52,
   "id": "dec66da3",
   "metadata": {},
   "outputs": [
    {
     "data": {
      "text/plain": [
       "array([ 0.19920427,  0.13550388,  0.1993808 ,  0.09016648,  0.0904426 ,\n",
       "       -0.22496463, -0.        ,  0.0878403 ,  0.00597513,  0.34930453])"
      ]
     },
     "execution_count": 52,
     "metadata": {},
     "output_type": "execute_result"
    }
   ],
   "source": [
    "reg_lasso.coef_"
   ]
  },
  {
   "cell_type": "code",
   "execution_count": 53,
   "id": "3357e0ad",
   "metadata": {},
   "outputs": [],
   "source": [
    "coeff_df_lasso = pd.DataFrame(reg_lasso.coef_,df_transf.columns,columns=['Coefficient'])"
   ]
  },
  {
   "cell_type": "code",
   "execution_count": 54,
   "id": "c3f8b405",
   "metadata": {
    "scrolled": false
   },
   "outputs": [],
   "source": [
    "coeff_df_lasso =coeff_df_lasso.sort_values(by='Coefficient', ascending=True)"
   ]
  },
  {
   "cell_type": "code",
   "execution_count": 116,
   "id": "34f53101",
   "metadata": {},
   "outputs": [
    {
     "data": {
      "text/html": [
       "<div>\n",
       "<style scoped>\n",
       "    .dataframe tbody tr th:only-of-type {\n",
       "        vertical-align: middle;\n",
       "    }\n",
       "\n",
       "    .dataframe tbody tr th {\n",
       "        vertical-align: top;\n",
       "    }\n",
       "\n",
       "    .dataframe thead th {\n",
       "        text-align: right;\n",
       "    }\n",
       "</style>\n",
       "<table border=\"1\" class=\"dataframe\">\n",
       "  <thead>\n",
       "    <tr style=\"text-align: right;\">\n",
       "      <th></th>\n",
       "      <th>Coefficient</th>\n",
       "    </tr>\n",
       "  </thead>\n",
       "  <tbody>\n",
       "    <tr>\n",
       "      <th>BH</th>\n",
       "      <td>-0.224965</td>\n",
       "    </tr>\n",
       "    <tr>\n",
       "      <th>RJ</th>\n",
       "      <td>-0.000000</td>\n",
       "    </tr>\n",
       "    <tr>\n",
       "      <th>animal</th>\n",
       "      <td>0.005975</td>\n",
       "    </tr>\n",
       "    <tr>\n",
       "      <th>SP</th>\n",
       "      <td>0.087840</td>\n",
       "    </tr>\n",
       "    <tr>\n",
       "      <th>parking spaces</th>\n",
       "      <td>0.090166</td>\n",
       "    </tr>\n",
       "    <tr>\n",
       "      <th>floor</th>\n",
       "      <td>0.090443</td>\n",
       "    </tr>\n",
       "    <tr>\n",
       "      <th>rooms</th>\n",
       "      <td>0.135504</td>\n",
       "    </tr>\n",
       "    <tr>\n",
       "      <th>area</th>\n",
       "      <td>0.199204</td>\n",
       "    </tr>\n",
       "    <tr>\n",
       "      <th>bathroom</th>\n",
       "      <td>0.199381</td>\n",
       "    </tr>\n",
       "    <tr>\n",
       "      <th>furniture</th>\n",
       "      <td>0.349305</td>\n",
       "    </tr>\n",
       "  </tbody>\n",
       "</table>\n",
       "</div>"
      ],
      "text/plain": [
       "                Coefficient\n",
       "BH                -0.224965\n",
       "RJ                -0.000000\n",
       "animal             0.005975\n",
       "SP                 0.087840\n",
       "parking spaces     0.090166\n",
       "floor              0.090443\n",
       "rooms              0.135504\n",
       "area               0.199204\n",
       "bathroom           0.199381\n",
       "furniture          0.349305"
      ]
     },
     "execution_count": 116,
     "metadata": {},
     "output_type": "execute_result"
    }
   ],
   "source": [
    "coeff_df_lasso"
   ]
  },
  {
   "cell_type": "markdown",
   "id": "e5fc595e",
   "metadata": {},
   "source": [
    "## Intercepto - lasso"
   ]
  },
  {
   "cell_type": "code",
   "execution_count": 55,
   "id": "7d0e52a3",
   "metadata": {},
   "outputs": [
    {
     "name": "stdout",
     "output_type": "stream",
     "text": [
      "Intercepto: 7.938147794127533\n"
     ]
    }
   ],
   "source": [
    "print('Intercepto:',reg_lasso.intercept_)"
   ]
  },
  {
   "cell_type": "code",
   "execution_count": 56,
   "id": "9bb4062c",
   "metadata": {},
   "outputs": [
    {
     "data": {
      "image/png": "[encoded data removed]",
      "text/plain": [
       "<Figure size 576x432 with 1 Axes>"
      ]
     },
     "metadata": {},
     "output_type": "display_data"
    }
   ],
   "source": [
    "fig = plt.figure(figsize=(8, 6))\n",
    "ax = fig.add_axes([0,0,1,1])\n",
    "plt.xlabel(\"Valores dos coeficientes\")\n",
    "plt.ylabel(\"Coeficientes\")\n",
    "plt.title('COEFICIENTES LASSO')\n",
    "ax.barh(coeff_df_lasso.index,coeff_df_lasso['Coefficient'])\n",
    "plt.show()"
   ]
  },
  {
   "cell_type": "markdown",
   "id": "1f2f4e4b",
   "metadata": {},
   "source": [
    "# Regressão Ridge"
   ]
  },
  {
   "cell_type": "code",
   "execution_count": 57,
   "id": "5a719947",
   "metadata": {},
   "outputs": [],
   "source": [
    "lambdas_ridge = np.logspace(-3, 8,30)"
   ]
  },
  {
   "cell_type": "code",
   "execution_count": 58,
   "id": "cf0db04a",
   "metadata": {},
   "outputs": [
    {
     "data": {
      "text/plain": [
       "GridSearchCV(cv=5, estimator=Ridge(),\n",
       "             param_grid={'alpha': array([1.00000000e-03, 2.39502662e-03, 5.73615251e-03, 1.37382380e-02,\n",
       "       3.29034456e-02, 7.88046282e-02, 1.88739182e-01, 4.52035366e-01,\n",
       "       1.08263673e+00, 2.59294380e+00, 6.21016942e+00, 1.48735211e+01,\n",
       "       3.56224789e+01, 8.53167852e+01, 2.04335972e+02, 4.89390092e+02,\n",
       "       1.17210230e+03, 2.80721620e+03, 6.72335754e+03, 1.61026203e+04,\n",
       "       3.85662042e+04, 9.23670857e+04, 2.21221629e+05, 5.29831691e+05,\n",
       "       1.26896100e+06, 3.03919538e+06, 7.27895384e+06, 1.74332882e+07,\n",
       "       4.17531894e+07, 1.00000000e+08])},\n",
       "             scoring='neg_mean_squared_error')"
      ]
     },
     "execution_count": 58,
     "metadata": {},
     "output_type": "execute_result"
    }
   ],
   "source": [
    "ridge = Ridge()\n",
    "grid_ridge = GridSearchCV(estimator=ridge, param_grid=dict(alpha=lambdas_ridge), cv=5, scoring = 'neg_mean_squared_error')\n",
    "grid_ridge.fit(x_train_transf,y_train_transf)"
   ]
  },
  {
   "cell_type": "code",
   "execution_count": 59,
   "id": "2e2836ec",
   "metadata": {},
   "outputs": [],
   "source": [
    "scores_ridge =-(grid_ridge.cv_results_['mean_test_score'])"
   ]
  },
  {
   "cell_type": "code",
   "execution_count": 60,
   "id": "32a13560",
   "metadata": {},
   "outputs": [
    {
     "data": {
      "text/plain": [
       "(0.001, 100000000.0)"
      ]
     },
     "execution_count": 60,
     "metadata": {},
     "output_type": "execute_result"
    },
    {
     "data": {
      "image/png": "[encoded data removed]",
      "text/plain": [
       "<Figure size 720x576 with 1 Axes>"
      ]
     },
     "metadata": {},
     "output_type": "display_data"
    }
   ],
   "source": [
    "plt.figure().set_size_inches(10, 8)\n",
    "plt.semilogx(lambdas_ridge, scores_ridge)\n",
    "plt.ylabel('MSE')\n",
    "plt.xlabel('lambda')\n",
    "plt.title('MSE X LAMBDA (RIDGE)')\n",
    "plt.axhline(np.min(scores_ridge), linestyle='--', color='.5')\n",
    "plt.xlim([lambdas_ridge[0], lambdas_ridge[-1]])"
   ]
  },
  {
   "cell_type": "markdown",
   "id": "141464c4",
   "metadata": {},
   "source": [
    "## Menor erro médio quadrado - ridge"
   ]
  },
  {
   "cell_type": "code",
   "execution_count": 118,
   "id": "d67165a0",
   "metadata": {},
   "outputs": [
    {
     "data": {
      "text/plain": [
       "0.2375779610088689"
      ]
     },
     "execution_count": 118,
     "metadata": {},
     "output_type": "execute_result"
    }
   ],
   "source": [
    "np.min(scores_ridge)"
   ]
  },
  {
   "cell_type": "markdown",
   "id": "45cf0836",
   "metadata": {},
   "source": [
    "## Lambda que minimiza o MSE - ridge"
   ]
  },
  {
   "cell_type": "code",
   "execution_count": 62,
   "id": "baff4b33",
   "metadata": {},
   "outputs": [
    {
     "data": {
      "text/plain": [
       "14.873521072935118"
      ]
     },
     "execution_count": 62,
     "metadata": {},
     "output_type": "execute_result"
    }
   ],
   "source": [
    "lambdas_ridge[np.argmin(scores_ridge)]"
   ]
  },
  {
   "cell_type": "markdown",
   "id": "7192f0ee",
   "metadata": {},
   "source": [
    "## Coefientes do modelo Ridge ajustado"
   ]
  },
  {
   "cell_type": "code",
   "execution_count": 63,
   "id": "9d7b2172",
   "metadata": {},
   "outputs": [],
   "source": [
    "reg_ridge = Ridge(alpha= lambdas_ridge[np.argmin(scores_ridge)])"
   ]
  },
  {
   "cell_type": "code",
   "execution_count": 64,
   "id": "d26bf9b4",
   "metadata": {},
   "outputs": [
    {
     "data": {
      "text/plain": [
       "Ridge(alpha=14.873521072935118)"
      ]
     },
     "execution_count": 64,
     "metadata": {},
     "output_type": "execute_result"
    }
   ],
   "source": [
    "reg_ridge.fit(x_train_transf,y_train_transf)"
   ]
  },
  {
   "cell_type": "code",
   "execution_count": 65,
   "id": "e87dc577",
   "metadata": {},
   "outputs": [
    {
     "data": {
      "text/plain": [
       "array([ 0.19917452,  0.13631579,  0.19859808,  0.09068563,  0.0911197 ,\n",
       "       -0.18182017,  0.04618553,  0.13563464,  0.01111452,  0.35008271])"
      ]
     },
     "execution_count": 65,
     "metadata": {},
     "output_type": "execute_result"
    }
   ],
   "source": [
    "reg_ridge.coef_"
   ]
  },
  {
   "cell_type": "code",
   "execution_count": 66,
   "id": "cb39924f",
   "metadata": {},
   "outputs": [],
   "source": [
    "coeff_df_ridge = pd.DataFrame(reg_ridge.coef_,df_transf.columns,columns=['Coefficient'])"
   ]
  },
  {
   "cell_type": "code",
   "execution_count": 67,
   "id": "112cbb67",
   "metadata": {},
   "outputs": [],
   "source": [
    "coeff_df_ridge = coeff_df_ridge.sort_values(by='Coefficient', ascending=True)"
   ]
  },
  {
   "cell_type": "code",
   "execution_count": 117,
   "id": "bba00bdc",
   "metadata": {},
   "outputs": [
    {
     "data": {
      "text/html": [
       "<div>\n",
       "<style scoped>\n",
       "    .dataframe tbody tr th:only-of-type {\n",
       "        vertical-align: middle;\n",
       "    }\n",
       "\n",
       "    .dataframe tbody tr th {\n",
       "        vertical-align: top;\n",
       "    }\n",
       "\n",
       "    .dataframe thead th {\n",
       "        text-align: right;\n",
       "    }\n",
       "</style>\n",
       "<table border=\"1\" class=\"dataframe\">\n",
       "  <thead>\n",
       "    <tr style=\"text-align: right;\">\n",
       "      <th></th>\n",
       "      <th>Coefficient</th>\n",
       "    </tr>\n",
       "  </thead>\n",
       "  <tbody>\n",
       "    <tr>\n",
       "      <th>BH</th>\n",
       "      <td>-0.181820</td>\n",
       "    </tr>\n",
       "    <tr>\n",
       "      <th>animal</th>\n",
       "      <td>0.011115</td>\n",
       "    </tr>\n",
       "    <tr>\n",
       "      <th>RJ</th>\n",
       "      <td>0.046186</td>\n",
       "    </tr>\n",
       "    <tr>\n",
       "      <th>parking spaces</th>\n",
       "      <td>0.090686</td>\n",
       "    </tr>\n",
       "    <tr>\n",
       "      <th>floor</th>\n",
       "      <td>0.091120</td>\n",
       "    </tr>\n",
       "    <tr>\n",
       "      <th>SP</th>\n",
       "      <td>0.135635</td>\n",
       "    </tr>\n",
       "    <tr>\n",
       "      <th>rooms</th>\n",
       "      <td>0.136316</td>\n",
       "    </tr>\n",
       "    <tr>\n",
       "      <th>bathroom</th>\n",
       "      <td>0.198598</td>\n",
       "    </tr>\n",
       "    <tr>\n",
       "      <th>area</th>\n",
       "      <td>0.199175</td>\n",
       "    </tr>\n",
       "    <tr>\n",
       "      <th>furniture</th>\n",
       "      <td>0.350083</td>\n",
       "    </tr>\n",
       "  </tbody>\n",
       "</table>\n",
       "</div>"
      ],
      "text/plain": [
       "                Coefficient\n",
       "BH                -0.181820\n",
       "animal             0.011115\n",
       "RJ                 0.046186\n",
       "parking spaces     0.090686\n",
       "floor              0.091120\n",
       "SP                 0.135635\n",
       "rooms              0.136316\n",
       "bathroom           0.198598\n",
       "area               0.199175\n",
       "furniture          0.350083"
      ]
     },
     "execution_count": 117,
     "metadata": {},
     "output_type": "execute_result"
    }
   ],
   "source": [
    "coeff_df_ridge"
   ]
  },
  {
   "cell_type": "code",
   "execution_count": 69,
   "id": "d2e7bd55",
   "metadata": {},
   "outputs": [
    {
     "data": {
      "image/png": "[encoded data removed]",
      "text/plain": [
       "<Figure size 576x432 with 1 Axes>"
      ]
     },
     "metadata": {},
     "output_type": "display_data"
    }
   ],
   "source": [
    "fig = plt.figure(figsize=(8, 6))\n",
    "ax = fig.add_axes([0,0,1,1])\n",
    "plt.xlabel(\"Valores dos coeficientes\")\n",
    "plt.ylabel(\"Coeficientes\")\n",
    "plt.title('COEFICIENTES RIDGE')\n",
    "ax.barh(coeff_df_ridge.index,coeff_df_ridge['Coefficient'])\n",
    "plt.show()"
   ]
  },
  {
   "cell_type": "markdown",
   "id": "a97560a5",
   "metadata": {},
   "source": [
    "## Intercepto - Ridge"
   ]
  },
  {
   "cell_type": "code",
   "execution_count": 70,
   "id": "9fe72df9",
   "metadata": {},
   "outputs": [
    {
     "name": "stdout",
     "output_type": "stream",
     "text": [
      "Intercepto: 7.938147794127533\n"
     ]
    }
   ],
   "source": [
    "print('Intercepto:',reg_lasso.intercept_)"
   ]
  },
  {
   "cell_type": "markdown",
   "id": "124cd87d",
   "metadata": {},
   "source": [
    "# Validação dos modelos\n",
    "## Para escolher o melhor modelo , foi utilizado o Mean Absolute error evitando assim erros inflados (os dados voltaram para a mesma escala exp() ) "
   ]
  },
  {
   "cell_type": "code",
   "execution_count": 71,
   "id": "86f919f5",
   "metadata": {},
   "outputs": [],
   "source": [
    "y_pred_lr = LR.predict(x_test_transf)\n",
    "y_pred_lasso = reg_lasso.predict(x_test_transf)\n",
    "y_pred_ridge = reg_ridge.predict(x_test_transf)"
   ]
  },
  {
   "cell_type": "markdown",
   "id": "92db7171",
   "metadata": {},
   "source": [
    "## Intervalo de confiança"
   ]
  },
  {
   "cell_type": "code",
   "execution_count": 72,
   "id": "d2068623",
   "metadata": {},
   "outputs": [],
   "source": [
    "def std_error(loss_func , y_pred , y_test):\n",
    "    ic = np.sqrt((1/len(y_test))*np.mean((abs(y_pred - y_test) - (loss_func(y_test, y_pred)))**2))\n",
    "    return(2*ic)"
   ]
  },
  {
   "cell_type": "code",
   "execution_count": 73,
   "id": "b4f1812f",
   "metadata": {},
   "outputs": [],
   "source": [
    "std_error_lr = std_error(mean_absolute_error,np.exp(y_pred_lr),np.exp(y_test_transf))\n",
    "std_error_lasso = std_error(mean_absolute_error,np.exp(y_pred_lasso),np.exp(y_test_transf))\n",
    "std_error_ridge = std_error(mean_absolute_error,np.exp(y_pred_ridge),np.exp(y_test_transf))"
   ]
  },
  {
   "cell_type": "code",
   "execution_count": 74,
   "id": "a8d9c444",
   "metadata": {},
   "outputs": [],
   "source": [
    "mae_lr = mean_absolute_error(np.exp(y_test_transf), np.exp(y_pred_lr))\n",
    "mae_lasso = mean_absolute_error(np.exp(y_test_transf), np.exp(y_pred_lasso))\n",
    "mae_ridge = mean_absolute_error(np.exp(y_test_transf), np.exp(y_pred_ridge))"
   ]
  },
  {
   "cell_type": "code",
   "execution_count": 75,
   "id": "1d1e5d20",
   "metadata": {},
   "outputs": [],
   "source": [
    "df_validacao = {\"MODELOS\": [\"LR (MQ)\", \"LASSO\", \"RIDGE\"] ,\"MAE\": [mae_lr, mae_lasso, mae_ridge], \"IC_lower\": [(mae_lr - std_error_lr),(mae_lasso-std_error_lasso),(mae_ridge-std_error_ridge)],\"IC_power\": [(mae_lr+std_error_lr),(mae_lasso+std_error_lasso),(mae_ridge+std_error_ridge)]}"
   ]
  },
  {
   "cell_type": "code",
   "execution_count": 76,
   "id": "c73c2b83",
   "metadata": {},
   "outputs": [],
   "source": [
    "df_validacao = pd.DataFrame(df_validacao)"
   ]
  },
  {
   "cell_type": "code",
   "execution_count": 77,
   "id": "b00a8f62",
   "metadata": {},
   "outputs": [
    {
     "data": {
      "text/html": [
       "<div>\n",
       "<style scoped>\n",
       "    .dataframe tbody tr th:only-of-type {\n",
       "        vertical-align: middle;\n",
       "    }\n",
       "\n",
       "    .dataframe tbody tr th {\n",
       "        vertical-align: top;\n",
       "    }\n",
       "\n",
       "    .dataframe thead th {\n",
       "        text-align: right;\n",
       "    }\n",
       "</style>\n",
       "<table border=\"1\" class=\"dataframe\">\n",
       "  <thead>\n",
       "    <tr style=\"text-align: right;\">\n",
       "      <th></th>\n",
       "      <th>MODELOS</th>\n",
       "      <th>MAE</th>\n",
       "      <th>IC_lower</th>\n",
       "      <th>IC_power</th>\n",
       "    </tr>\n",
       "  </thead>\n",
       "  <tbody>\n",
       "    <tr>\n",
       "      <th>0</th>\n",
       "      <td>LR (MQ)</td>\n",
       "      <td>1766.816359</td>\n",
       "      <td>1664.951983</td>\n",
       "      <td>1868.680736</td>\n",
       "    </tr>\n",
       "    <tr>\n",
       "      <th>1</th>\n",
       "      <td>LASSO</td>\n",
       "      <td>1765.136095</td>\n",
       "      <td>1663.596101</td>\n",
       "      <td>1866.676090</td>\n",
       "    </tr>\n",
       "    <tr>\n",
       "      <th>2</th>\n",
       "      <td>RIDGE</td>\n",
       "      <td>1765.715901</td>\n",
       "      <td>1664.081617</td>\n",
       "      <td>1867.350186</td>\n",
       "    </tr>\n",
       "  </tbody>\n",
       "</table>\n",
       "</div>"
      ],
      "text/plain": [
       "   MODELOS          MAE     IC_lower     IC_power\n",
       "0  LR (MQ)  1766.816359  1664.951983  1868.680736\n",
       "1    LASSO  1765.136095  1663.596101  1866.676090\n",
       "2    RIDGE  1765.715901  1664.081617  1867.350186"
      ]
     },
     "execution_count": 77,
     "metadata": {},
     "output_type": "execute_result"
    }
   ],
   "source": [
    "df_validacao"
   ]
  },
  {
   "cell_type": "code",
   "execution_count": 78,
   "id": "a25c5b8e",
   "metadata": {},
   "outputs": [
    {
     "data": {
      "text/plain": [
       "0    1766.816359\n",
       "1    1765.136095\n",
       "2    1765.715901\n",
       "Name: MAE, dtype: float64"
      ]
     },
     "execution_count": 78,
     "metadata": {},
     "output_type": "execute_result"
    }
   ],
   "source": [
    "df_validacao.MAE"
   ]
  },
  {
   "cell_type": "code",
   "execution_count": 120,
   "id": "fa0af14a",
   "metadata": {},
   "outputs": [
    {
     "data": {
      "image/png": "[encoded data removed]",
      "text/plain": [
       "<Figure size 864x720 with 1 Axes>"
      ]
     },
     "metadata": {},
     "output_type": "display_data"
    }
   ],
   "source": [
    "plt.figure().set_size_inches(12, 10)\n",
    "x_ticks = df_validacao.MODELOS\n",
    "x_1 = np.arange(1, 4)\n",
    "y_1 = df_validacao.MAE\n",
    "err_1 = [std_error_lr,std_error_lasso,std_error_ridge]\n",
    "plt.errorbar(x=x_1, y=y_1, yerr=err_1, color=\"red\", capsize=50,\n",
    "             linestyle=\"None\",\n",
    "             marker=\"o\", markersize=5, mfc=\"black\", mec=\"black\")\n",
    "plt.title('MAE / INTERVALO DE CONFIANÇA PARA CADA MODELO')\n",
    "plt.ylabel(\"MAE\")\n",
    "plt.xlabel(\"MODELOS\")\n",
    "plt.xticks(x_1, x_ticks)\n",
    "plt.xlim([0.5, 3.5])\n",
    "style = dict(size=15, color='black')\n",
    "plt.text(0.66, 1766.816359, \"1766.81\", **style)\n",
    "plt.text(1.66, 1765.136095, \"1765.13\", **style)\n",
    "plt.text(2.66, 1765.715901, \"1765.71\", **style)\n",
    "plt.tight_layout()\n",
    "plt.show()"
   ]
  },
  {
   "cell_type": "markdown",
   "id": "c35f4b58",
   "metadata": {},
   "source": [
    "## 3) Melhor modelo encontrado foi o lasso para este caso, o mesmo aprenseta o menor ERRO MÉDIO ABSOLUTO, e seu intervalo de confiança apresenta menor amplitude."
   ]
  },
  {
   "cell_type": "code",
   "execution_count": 80,
   "id": "b5983257",
   "metadata": {},
   "outputs": [
    {
     "data": {
      "image/png": "[encoded data removed]",
      "text/plain": [
       "<Figure size 576x432 with 1 Axes>"
      ]
     },
     "metadata": {},
     "output_type": "display_data"
    }
   ],
   "source": [
    "fig = plt.figure(figsize=(8, 6))\n",
    "ax = fig.add_axes([0,0,1,1])\n",
    "plt.xlabel(\"Valores dos coeficientes\")\n",
    "plt.ylabel(\"Coeficientes\")\n",
    "plt.title('COEFICIENTES LASSO')\n",
    "ax.barh(coeff_df_lasso.index,coeff_df_lasso['Coefficient'])\n",
    "plt.show()"
   ]
  },
  {
   "cell_type": "markdown",
   "id": "aeb0a934",
   "metadata": {},
   "source": [
    "### 4) Atráves dos coeficientes, pode-se concluir que atritbutos como Furniture, Bathroom e area estão positivamente ligadas ao preço do aluguel.  Assim , casas mais completas tentem a ter um aluguel maior do que casas mais simples.\n",
    "### Aluguéis em SP são mais caros do que no RJ e BH. \n"
   ]
  },
  {
   "cell_type": "markdown",
   "id": "d3463f48",
   "metadata": {},
   "source": [
    "# Incluindo interações entre as features"
   ]
  },
  {
   "cell_type": "code",
   "execution_count": 81,
   "id": "83f0dc29",
   "metadata": {},
   "outputs": [],
   "source": [
    "poly = PolynomialFeatures()"
   ]
  },
  {
   "cell_type": "code",
   "execution_count": 82,
   "id": "e77d53f2",
   "metadata": {},
   "outputs": [],
   "source": [
    "x_all_train = poly.fit_transform(df_transf)\n",
    "x_all_test = poly.transform(x_test_transf)"
   ]
  },
  {
   "cell_type": "code",
   "execution_count": 83,
   "id": "c0b2b491",
   "metadata": {},
   "outputs": [],
   "source": [
    "dfPoly = pd.DataFrame(x_all_train,columns=poly.get_feature_names(df_transf.columns))"
   ]
  },
  {
   "cell_type": "code",
   "execution_count": 84,
   "id": "f998472d",
   "metadata": {},
   "outputs": [
    {
     "data": {
      "text/html": [
       "<div>\n",
       "<style scoped>\n",
       "    .dataframe tbody tr th:only-of-type {\n",
       "        vertical-align: middle;\n",
       "    }\n",
       "\n",
       "    .dataframe tbody tr th {\n",
       "        vertical-align: top;\n",
       "    }\n",
       "\n",
       "    .dataframe thead th {\n",
       "        text-align: right;\n",
       "    }\n",
       "</style>\n",
       "<table border=\"1\" class=\"dataframe\">\n",
       "  <thead>\n",
       "    <tr style=\"text-align: right;\">\n",
       "      <th></th>\n",
       "      <th>1</th>\n",
       "      <th>area</th>\n",
       "      <th>rooms</th>\n",
       "      <th>bathroom</th>\n",
       "      <th>parking spaces</th>\n",
       "      <th>floor</th>\n",
       "      <th>BH</th>\n",
       "      <th>RJ</th>\n",
       "      <th>SP</th>\n",
       "      <th>animal</th>\n",
       "      <th>...</th>\n",
       "      <th>RJ^2</th>\n",
       "      <th>RJ SP</th>\n",
       "      <th>RJ animal</th>\n",
       "      <th>RJ furniture</th>\n",
       "      <th>SP^2</th>\n",
       "      <th>SP animal</th>\n",
       "      <th>SP furniture</th>\n",
       "      <th>animal^2</th>\n",
       "      <th>animal furniture</th>\n",
       "      <th>furniture^2</th>\n",
       "    </tr>\n",
       "  </thead>\n",
       "  <tbody>\n",
       "    <tr>\n",
       "      <th>0</th>\n",
       "      <td>1.0</td>\n",
       "      <td>0.156827</td>\n",
       "      <td>1.200247</td>\n",
       "      <td>1.162885</td>\n",
       "      <td>0.807887</td>\n",
       "      <td>0.873724</td>\n",
       "      <td>0.0</td>\n",
       "      <td>0.0</td>\n",
       "      <td>1.0</td>\n",
       "      <td>0.0</td>\n",
       "      <td>...</td>\n",
       "      <td>0.0</td>\n",
       "      <td>0.0</td>\n",
       "      <td>0.0</td>\n",
       "      <td>0.0</td>\n",
       "      <td>1.0</td>\n",
       "      <td>0.0</td>\n",
       "      <td>1.0</td>\n",
       "      <td>0.0</td>\n",
       "      <td>0.0</td>\n",
       "      <td>1.0</td>\n",
       "    </tr>\n",
       "    <tr>\n",
       "      <th>1</th>\n",
       "      <td>1.0</td>\n",
       "      <td>-0.771794</td>\n",
       "      <td>-1.321398</td>\n",
       "      <td>-0.929339</td>\n",
       "      <td>-0.423276</td>\n",
       "      <td>-0.216704</td>\n",
       "      <td>0.0</td>\n",
       "      <td>0.0</td>\n",
       "      <td>1.0</td>\n",
       "      <td>0.0</td>\n",
       "      <td>...</td>\n",
       "      <td>0.0</td>\n",
       "      <td>0.0</td>\n",
       "      <td>0.0</td>\n",
       "      <td>0.0</td>\n",
       "      <td>1.0</td>\n",
       "      <td>0.0</td>\n",
       "      <td>1.0</td>\n",
       "      <td>0.0</td>\n",
       "      <td>0.0</td>\n",
       "      <td>1.0</td>\n",
       "    </tr>\n",
       "    <tr>\n",
       "      <th>2</th>\n",
       "      <td>1.0</td>\n",
       "      <td>0.301924</td>\n",
       "      <td>0.359699</td>\n",
       "      <td>1.162885</td>\n",
       "      <td>1.423468</td>\n",
       "      <td>-0.943656</td>\n",
       "      <td>0.0</td>\n",
       "      <td>0.0</td>\n",
       "      <td>1.0</td>\n",
       "      <td>1.0</td>\n",
       "      <td>...</td>\n",
       "      <td>0.0</td>\n",
       "      <td>0.0</td>\n",
       "      <td>0.0</td>\n",
       "      <td>0.0</td>\n",
       "      <td>1.0</td>\n",
       "      <td>1.0</td>\n",
       "      <td>0.0</td>\n",
       "      <td>1.0</td>\n",
       "      <td>0.0</td>\n",
       "      <td>0.0</td>\n",
       "    </tr>\n",
       "    <tr>\n",
       "      <th>3</th>\n",
       "      <td>1.0</td>\n",
       "      <td>-0.604933</td>\n",
       "      <td>-0.480849</td>\n",
       "      <td>-0.231931</td>\n",
       "      <td>-1.038857</td>\n",
       "      <td>0.146772</td>\n",
       "      <td>0.0</td>\n",
       "      <td>0.0</td>\n",
       "      <td>1.0</td>\n",
       "      <td>1.0</td>\n",
       "      <td>...</td>\n",
       "      <td>0.0</td>\n",
       "      <td>0.0</td>\n",
       "      <td>0.0</td>\n",
       "      <td>0.0</td>\n",
       "      <td>1.0</td>\n",
       "      <td>1.0</td>\n",
       "      <td>0.0</td>\n",
       "      <td>1.0</td>\n",
       "      <td>0.0</td>\n",
       "      <td>0.0</td>\n",
       "    </tr>\n",
       "    <tr>\n",
       "      <th>4</th>\n",
       "      <td>1.0</td>\n",
       "      <td>0.447022</td>\n",
       "      <td>1.200247</td>\n",
       "      <td>0.465477</td>\n",
       "      <td>0.807887</td>\n",
       "      <td>1.055462</td>\n",
       "      <td>0.0</td>\n",
       "      <td>0.0</td>\n",
       "      <td>1.0</td>\n",
       "      <td>1.0</td>\n",
       "      <td>...</td>\n",
       "      <td>0.0</td>\n",
       "      <td>0.0</td>\n",
       "      <td>0.0</td>\n",
       "      <td>0.0</td>\n",
       "      <td>1.0</td>\n",
       "      <td>1.0</td>\n",
       "      <td>0.0</td>\n",
       "      <td>1.0</td>\n",
       "      <td>0.0</td>\n",
       "      <td>0.0</td>\n",
       "    </tr>\n",
       "    <tr>\n",
       "      <th>...</th>\n",
       "      <td>...</td>\n",
       "      <td>...</td>\n",
       "      <td>...</td>\n",
       "      <td>...</td>\n",
       "      <td>...</td>\n",
       "      <td>...</td>\n",
       "      <td>...</td>\n",
       "      <td>...</td>\n",
       "      <td>...</td>\n",
       "      <td>...</td>\n",
       "      <td>...</td>\n",
       "      <td>...</td>\n",
       "      <td>...</td>\n",
       "      <td>...</td>\n",
       "      <td>...</td>\n",
       "      <td>...</td>\n",
       "      <td>...</td>\n",
       "      <td>...</td>\n",
       "      <td>...</td>\n",
       "      <td>...</td>\n",
       "      <td>...</td>\n",
       "    </tr>\n",
       "    <tr>\n",
       "      <th>6045</th>\n",
       "      <td>1.0</td>\n",
       "      <td>-0.416306</td>\n",
       "      <td>0.359699</td>\n",
       "      <td>0.465477</td>\n",
       "      <td>0.807887</td>\n",
       "      <td>-0.034966</td>\n",
       "      <td>0.0</td>\n",
       "      <td>0.0</td>\n",
       "      <td>1.0</td>\n",
       "      <td>0.0</td>\n",
       "      <td>...</td>\n",
       "      <td>0.0</td>\n",
       "      <td>0.0</td>\n",
       "      <td>0.0</td>\n",
       "      <td>0.0</td>\n",
       "      <td>1.0</td>\n",
       "      <td>0.0</td>\n",
       "      <td>0.0</td>\n",
       "      <td>0.0</td>\n",
       "      <td>0.0</td>\n",
       "      <td>0.0</td>\n",
       "    </tr>\n",
       "    <tr>\n",
       "      <th>6046</th>\n",
       "      <td>1.0</td>\n",
       "      <td>-0.554149</td>\n",
       "      <td>-0.480849</td>\n",
       "      <td>-0.231931</td>\n",
       "      <td>-0.423276</td>\n",
       "      <td>0.146772</td>\n",
       "      <td>0.0</td>\n",
       "      <td>0.0</td>\n",
       "      <td>1.0</td>\n",
       "      <td>1.0</td>\n",
       "      <td>...</td>\n",
       "      <td>0.0</td>\n",
       "      <td>0.0</td>\n",
       "      <td>0.0</td>\n",
       "      <td>0.0</td>\n",
       "      <td>1.0</td>\n",
       "      <td>1.0</td>\n",
       "      <td>0.0</td>\n",
       "      <td>1.0</td>\n",
       "      <td>0.0</td>\n",
       "      <td>0.0</td>\n",
       "    </tr>\n",
       "    <tr>\n",
       "      <th>6047</th>\n",
       "      <td>1.0</td>\n",
       "      <td>1.245056</td>\n",
       "      <td>0.359699</td>\n",
       "      <td>1.860293</td>\n",
       "      <td>-1.038857</td>\n",
       "      <td>0.873724</td>\n",
       "      <td>0.0</td>\n",
       "      <td>0.0</td>\n",
       "      <td>1.0</td>\n",
       "      <td>0.0</td>\n",
       "      <td>...</td>\n",
       "      <td>0.0</td>\n",
       "      <td>0.0</td>\n",
       "      <td>0.0</td>\n",
       "      <td>0.0</td>\n",
       "      <td>1.0</td>\n",
       "      <td>0.0</td>\n",
       "      <td>0.0</td>\n",
       "      <td>0.0</td>\n",
       "      <td>0.0</td>\n",
       "      <td>0.0</td>\n",
       "    </tr>\n",
       "    <tr>\n",
       "      <th>6048</th>\n",
       "      <td>1.0</td>\n",
       "      <td>-0.351013</td>\n",
       "      <td>-0.480849</td>\n",
       "      <td>-0.231931</td>\n",
       "      <td>-0.423276</td>\n",
       "      <td>-0.398442</td>\n",
       "      <td>0.0</td>\n",
       "      <td>0.0</td>\n",
       "      <td>1.0</td>\n",
       "      <td>1.0</td>\n",
       "      <td>...</td>\n",
       "      <td>0.0</td>\n",
       "      <td>0.0</td>\n",
       "      <td>0.0</td>\n",
       "      <td>0.0</td>\n",
       "      <td>1.0</td>\n",
       "      <td>1.0</td>\n",
       "      <td>0.0</td>\n",
       "      <td>1.0</td>\n",
       "      <td>0.0</td>\n",
       "      <td>0.0</td>\n",
       "    </tr>\n",
       "    <tr>\n",
       "      <th>6049</th>\n",
       "      <td>1.0</td>\n",
       "      <td>2.260736</td>\n",
       "      <td>3.721893</td>\n",
       "      <td>1.860293</td>\n",
       "      <td>2.039050</td>\n",
       "      <td>-0.943656</td>\n",
       "      <td>0.0</td>\n",
       "      <td>0.0</td>\n",
       "      <td>1.0</td>\n",
       "      <td>1.0</td>\n",
       "      <td>...</td>\n",
       "      <td>0.0</td>\n",
       "      <td>0.0</td>\n",
       "      <td>0.0</td>\n",
       "      <td>0.0</td>\n",
       "      <td>1.0</td>\n",
       "      <td>1.0</td>\n",
       "      <td>1.0</td>\n",
       "      <td>1.0</td>\n",
       "      <td>1.0</td>\n",
       "      <td>1.0</td>\n",
       "    </tr>\n",
       "  </tbody>\n",
       "</table>\n",
       "<p>6050 rows × 66 columns</p>\n",
       "</div>"
      ],
      "text/plain": [
       "        1      area     rooms  bathroom  parking spaces     floor   BH   RJ  \\\n",
       "0     1.0  0.156827  1.200247  1.162885        0.807887  0.873724  0.0  0.0   \n",
       "1     1.0 -0.771794 -1.321398 -0.929339       -0.423276 -0.216704  0.0  0.0   \n",
       "2     1.0  0.301924  0.359699  1.162885        1.423468 -0.943656  0.0  0.0   \n",
       "3     1.0 -0.604933 -0.480849 -0.231931       -1.038857  0.146772  0.0  0.0   \n",
       "4     1.0  0.447022  1.200247  0.465477        0.807887  1.055462  0.0  0.0   \n",
       "...   ...       ...       ...       ...             ...       ...  ...  ...   \n",
       "6045  1.0 -0.416306  0.359699  0.465477        0.807887 -0.034966  0.0  0.0   \n",
       "6046  1.0 -0.554149 -0.480849 -0.231931       -0.423276  0.146772  0.0  0.0   \n",
       "6047  1.0  1.245056  0.359699  1.860293       -1.038857  0.873724  0.0  0.0   \n",
       "6048  1.0 -0.351013 -0.480849 -0.231931       -0.423276 -0.398442  0.0  0.0   \n",
       "6049  1.0  2.260736  3.721893  1.860293        2.039050 -0.943656  0.0  0.0   \n",
       "\n",
       "       SP  animal  ...  RJ^2  RJ SP  RJ animal  RJ furniture  SP^2  SP animal  \\\n",
       "0     1.0     0.0  ...   0.0    0.0        0.0           0.0   1.0        0.0   \n",
       "1     1.0     0.0  ...   0.0    0.0        0.0           0.0   1.0        0.0   \n",
       "2     1.0     1.0  ...   0.0    0.0        0.0           0.0   1.0        1.0   \n",
       "3     1.0     1.0  ...   0.0    0.0        0.0           0.0   1.0        1.0   \n",
       "4     1.0     1.0  ...   0.0    0.0        0.0           0.0   1.0        1.0   \n",
       "...   ...     ...  ...   ...    ...        ...           ...   ...        ...   \n",
       "6045  1.0     0.0  ...   0.0    0.0        0.0           0.0   1.0        0.0   \n",
       "6046  1.0     1.0  ...   0.0    0.0        0.0           0.0   1.0        1.0   \n",
       "6047  1.0     0.0  ...   0.0    0.0        0.0           0.0   1.0        0.0   \n",
       "6048  1.0     1.0  ...   0.0    0.0        0.0           0.0   1.0        1.0   \n",
       "6049  1.0     1.0  ...   0.0    0.0        0.0           0.0   1.0        1.0   \n",
       "\n",
       "      SP furniture  animal^2  animal furniture  furniture^2  \n",
       "0              1.0       0.0               0.0          1.0  \n",
       "1              1.0       0.0               0.0          1.0  \n",
       "2              0.0       1.0               0.0          0.0  \n",
       "3              0.0       1.0               0.0          0.0  \n",
       "4              0.0       1.0               0.0          0.0  \n",
       "...            ...       ...               ...          ...  \n",
       "6045           0.0       0.0               0.0          0.0  \n",
       "6046           0.0       1.0               0.0          0.0  \n",
       "6047           0.0       0.0               0.0          0.0  \n",
       "6048           0.0       1.0               0.0          0.0  \n",
       "6049           1.0       1.0               1.0          1.0  \n",
       "\n",
       "[6050 rows x 66 columns]"
      ]
     },
     "execution_count": 84,
     "metadata": {},
     "output_type": "execute_result"
    }
   ],
   "source": [
    "dfPoly"
   ]
  },
  {
   "cell_type": "markdown",
   "id": "4f207705",
   "metadata": {},
   "source": [
    "# Regressão Linear (MQ)"
   ]
  },
  {
   "cell_type": "code",
   "execution_count": 85,
   "id": "c7a59b8f",
   "metadata": {},
   "outputs": [
    {
     "data": {
      "text/plain": [
       "LinearRegression()"
      ]
     },
     "execution_count": 85,
     "metadata": {},
     "output_type": "execute_result"
    }
   ],
   "source": [
    "LR_all = LinearRegression()\n",
    "LR_all.fit(x_all_train,y_train_transf)"
   ]
  },
  {
   "cell_type": "code",
   "execution_count": 86,
   "id": "a886cf54",
   "metadata": {},
   "outputs": [
    {
     "data": {
      "text/plain": [
       "66"
      ]
     },
     "execution_count": 86,
     "metadata": {},
     "output_type": "execute_result"
    }
   ],
   "source": [
    "LR_all.coef_.size"
   ]
  },
  {
   "cell_type": "code",
   "execution_count": 87,
   "id": "f434ef3a",
   "metadata": {},
   "outputs": [
    {
     "data": {
      "text/plain": [
       "66"
      ]
     },
     "execution_count": 87,
     "metadata": {},
     "output_type": "execute_result"
    }
   ],
   "source": [
    "LR_all.n_features_in_"
   ]
  },
  {
   "cell_type": "code",
   "execution_count": 88,
   "id": "316034f9",
   "metadata": {},
   "outputs": [],
   "source": [
    "coeff_df_lr_all = pd.DataFrame(LR_all.coef_,dfPoly.columns,columns=['Coefficient'])"
   ]
  },
  {
   "cell_type": "code",
   "execution_count": 89,
   "id": "194b1f34",
   "metadata": {},
   "outputs": [
    {
     "data": {
      "image/png": "[encoded data removed]",
      "text/plain": [
       "<Figure size 576x1152 with 1 Axes>"
      ]
     },
     "metadata": {},
     "output_type": "display_data"
    }
   ],
   "source": [
    "fig = plt.figure(figsize=(8, 16))\n",
    "ax = fig.add_axes([0,0,1,1])\n",
    "plt.xlabel(\"Valores dos coeficientes\")\n",
    "plt.ylabel(\"Coeficientes\")\n",
    "plt.title('COEFICIENTES LR(MQ)')\n",
    "ax.barh(coeff_df_lr_all.index,coeff_df_lr_all['Coefficient'])\n",
    "plt.show()"
   ]
  },
  {
   "cell_type": "markdown",
   "id": "2fddc912",
   "metadata": {},
   "source": [
    "# Regressão Lasso"
   ]
  },
  {
   "cell_type": "code",
   "execution_count": 90,
   "id": "5359dd89",
   "metadata": {},
   "outputs": [],
   "source": [
    "lambdas_lasso_all = np.logspace(-3,0, 20)"
   ]
  },
  {
   "cell_type": "code",
   "execution_count": 91,
   "id": "cf2338fe",
   "metadata": {
    "scrolled": true
   },
   "outputs": [
    {
     "data": {
      "text/plain": [
       "GridSearchCV(cv=5, estimator=Lasso(),\n",
       "             param_grid={'alpha': array([0.001     , 0.00143845, 0.00206914, 0.00297635, 0.00428133,\n",
       "       0.00615848, 0.00885867, 0.01274275, 0.01832981, 0.02636651,\n",
       "       0.0379269 , 0.05455595, 0.078476  , 0.11288379, 0.16237767,\n",
       "       0.23357215, 0.33598183, 0.48329302, 0.6951928 , 1.        ])},\n",
       "             scoring='neg_mean_squared_error')"
      ]
     },
     "execution_count": 91,
     "metadata": {},
     "output_type": "execute_result"
    }
   ],
   "source": [
    "lasso_all = Lasso()\n",
    "grid_lasso_all = GridSearchCV(estimator=lasso_all, param_grid=dict(alpha=lambdas_lasso_all), cv=5, scoring = 'neg_mean_squared_error')\n",
    "grid_lasso_all.fit(x_all_train,y_train_transf)"
   ]
  },
  {
   "cell_type": "code",
   "execution_count": 92,
   "id": "e27db070",
   "metadata": {},
   "outputs": [],
   "source": [
    "scores_lasso_all =(-grid_lasso_all.cv_results_['mean_test_score'])"
   ]
  },
  {
   "cell_type": "code",
   "execution_count": 93,
   "id": "b793f4cd",
   "metadata": {},
   "outputs": [
    {
     "data": {
      "text/plain": [
       "(0.001, 1.0)"
      ]
     },
     "execution_count": 93,
     "metadata": {},
     "output_type": "execute_result"
    },
    {
     "data": {
      "image/png": "[encoded data removed]",
      "text/plain": [
       "<Figure size 720x576 with 1 Axes>"
      ]
     },
     "metadata": {},
     "output_type": "display_data"
    }
   ],
   "source": [
    "plt.figure().set_size_inches(10, 8)\n",
    "plt.semilogx(lambdas_lasso_all,scores_lasso_all)\n",
    "plt.ylabel('MSE')\n",
    "plt.xlabel('lambda')\n",
    "plt.title('MSE X LAMBDA (LASSO) INTERACTION')\n",
    "plt.axhline(np.min(scores_lasso_all), linestyle='--', color='.5')\n",
    "plt.xlim([lambdas_lasso_all[0], lambdas_lasso_all[-1]])"
   ]
  },
  {
   "cell_type": "markdown",
   "id": "a5b29fef",
   "metadata": {},
   "source": [
    "# MSE interaction"
   ]
  },
  {
   "cell_type": "code",
   "execution_count": 94,
   "id": "6c25151a",
   "metadata": {},
   "outputs": [
    {
     "data": {
      "text/plain": [
       "0.1971507392983659"
      ]
     },
     "execution_count": 94,
     "metadata": {},
     "output_type": "execute_result"
    }
   ],
   "source": [
    "np.min(scores_lasso_all)"
   ]
  },
  {
   "cell_type": "markdown",
   "id": "e67188c6",
   "metadata": {},
   "source": [
    "## Lambda que minimiza o MSE - lasso (interaction)"
   ]
  },
  {
   "cell_type": "code",
   "execution_count": 95,
   "id": "5a309ca1",
   "metadata": {},
   "outputs": [
    {
     "data": {
      "text/plain": [
       "0.001"
      ]
     },
     "execution_count": 95,
     "metadata": {},
     "output_type": "execute_result"
    }
   ],
   "source": [
    "lambdas_lasso_all[np.argmin(scores_lasso_all)]"
   ]
  },
  {
   "cell_type": "code",
   "execution_count": 96,
   "id": "c73ca1cf",
   "metadata": {},
   "outputs": [],
   "source": [
    "reg_lasso_all = Lasso (alpha= lambdas_lasso_all[np.argmin(scores_lasso_all)])"
   ]
  },
  {
   "cell_type": "code",
   "execution_count": 97,
   "id": "c428eb41",
   "metadata": {},
   "outputs": [
    {
     "data": {
      "text/plain": [
       "Lasso(alpha=0.001)"
      ]
     },
     "execution_count": 97,
     "metadata": {},
     "output_type": "execute_result"
    }
   ],
   "source": [
    "reg_lasso_all.fit(x_all_train,y_train_transf)"
   ]
  },
  {
   "cell_type": "code",
   "execution_count": 98,
   "id": "1859f199",
   "metadata": {},
   "outputs": [],
   "source": [
    "coeff_df_lasso_all = pd.DataFrame(reg_lasso_all.coef_,dfPoly.columns,columns=['Coefficient'])"
   ]
  },
  {
   "cell_type": "code",
   "execution_count": 99,
   "id": "65af2769",
   "metadata": {},
   "outputs": [
    {
     "data": {
      "image/png": "[encoded data removed]",
      "text/plain": [
       "<Figure size 576x1152 with 1 Axes>"
      ]
     },
     "metadata": {},
     "output_type": "display_data"
    }
   ],
   "source": [
    "fig = plt.figure(figsize=(8, 16))\n",
    "ax = fig.add_axes([0,0,1,1])\n",
    "plt.xlabel(\"Valores dos coeficientes\")\n",
    "plt.ylabel(\"Coeficientes\")\n",
    "plt.title('COEFICIENTES LASSO')\n",
    "ax.barh(coeff_df_lasso_all.index,coeff_df_lasso_all['Coefficient'])\n",
    "plt.show()"
   ]
  },
  {
   "cell_type": "markdown",
   "id": "4c9169cb",
   "metadata": {},
   "source": [
    "# Verificando os modelos (interação)"
   ]
  },
  {
   "cell_type": "code",
   "execution_count": 100,
   "id": "939ec921",
   "metadata": {},
   "outputs": [],
   "source": [
    "y_pred_lr_all = LR_all.predict(x_all_test)\n",
    "y_pred_lasso_all = reg_lasso_all.predict(x_all_test)"
   ]
  },
  {
   "cell_type": "code",
   "execution_count": 101,
   "id": "97d1269e",
   "metadata": {},
   "outputs": [],
   "source": [
    "std_error_lr_all = std_error(mean_absolute_error,np.exp(y_pred_lr_all),np.exp(y_test_transf))\n",
    "std_error_lasso_all = std_error(mean_absolute_error,np.exp(y_pred_lasso_all),np.exp(y_test_transf))"
   ]
  },
  {
   "cell_type": "code",
   "execution_count": 102,
   "id": "0274a0bd",
   "metadata": {},
   "outputs": [],
   "source": [
    "mae_lr_all = mean_absolute_error(np.exp(y_test_transf), np.exp(y_pred_lr_all))\n",
    "mae_lasso_all = mean_absolute_error(np.exp(y_test_transf), np.exp(y_pred_lasso_all))"
   ]
  },
  {
   "cell_type": "code",
   "execution_count": 103,
   "id": "5aa045a8",
   "metadata": {},
   "outputs": [],
   "source": [
    "df_validacao_all = {\"MODELOS\": [\"LR (MQ)\", \"LASSO\"] ,\"MAE\": [mae_lr_all, mae_lasso_all], \"IC_lower\": [(mae_lr_all - std_error_lr_all),(mae_lasso_all-std_error_lasso_all)],\"IC_power\": [(mae_lr_all+std_error_lr_all),(mae_lasso_all+std_error_lasso_all)]}"
   ]
  },
  {
   "cell_type": "code",
   "execution_count": 104,
   "id": "afc01d49",
   "metadata": {},
   "outputs": [],
   "source": [
    "df_validacao_all = pd.DataFrame(df_validacao_all)"
   ]
  },
  {
   "cell_type": "code",
   "execution_count": 105,
   "id": "c297f216",
   "metadata": {},
   "outputs": [
    {
     "data": {
      "text/html": [
       "<div>\n",
       "<style scoped>\n",
       "    .dataframe tbody tr th:only-of-type {\n",
       "        vertical-align: middle;\n",
       "    }\n",
       "\n",
       "    .dataframe tbody tr th {\n",
       "        vertical-align: top;\n",
       "    }\n",
       "\n",
       "    .dataframe thead th {\n",
       "        text-align: right;\n",
       "    }\n",
       "</style>\n",
       "<table border=\"1\" class=\"dataframe\">\n",
       "  <thead>\n",
       "    <tr style=\"text-align: right;\">\n",
       "      <th></th>\n",
       "      <th>MODELOS</th>\n",
       "      <th>MAE</th>\n",
       "      <th>IC_lower</th>\n",
       "      <th>IC_power</th>\n",
       "    </tr>\n",
       "  </thead>\n",
       "  <tbody>\n",
       "    <tr>\n",
       "      <th>0</th>\n",
       "      <td>LR (MQ)</td>\n",
       "      <td>1549.095379</td>\n",
       "      <td>1468.284872</td>\n",
       "      <td>1629.905885</td>\n",
       "    </tr>\n",
       "    <tr>\n",
       "      <th>1</th>\n",
       "      <td>LASSO</td>\n",
       "      <td>1545.282152</td>\n",
       "      <td>1464.793530</td>\n",
       "      <td>1625.770774</td>\n",
       "    </tr>\n",
       "  </tbody>\n",
       "</table>\n",
       "</div>"
      ],
      "text/plain": [
       "   MODELOS          MAE     IC_lower     IC_power\n",
       "0  LR (MQ)  1549.095379  1468.284872  1629.905885\n",
       "1    LASSO  1545.282152  1464.793530  1625.770774"
      ]
     },
     "execution_count": 105,
     "metadata": {},
     "output_type": "execute_result"
    }
   ],
   "source": [
    "df_validacao_all"
   ]
  },
  {
   "cell_type": "code",
   "execution_count": 106,
   "id": "66c297df",
   "metadata": {},
   "outputs": [
    {
     "data": {
      "image/png": "[encoded data removed]",
      "text/plain": [
       "<Figure size 720x576 with 1 Axes>"
      ]
     },
     "metadata": {},
     "output_type": "display_data"
    }
   ],
   "source": [
    "plt.figure().set_size_inches(10, 8)\n",
    "x_ticks = df_validacao_all.MODELOS\n",
    "x_1 = np.arange(1.5,3.5)\n",
    "y_1 = df_validacao_all.MAE\n",
    "err_1 = [std_error_lr_all,std_error_lasso_all]\n",
    "plt.errorbar(x=x_1, y=y_1, yerr=err_1, color=\"red\", capsize=50,\n",
    "             linestyle=\"None\",\n",
    "             marker=\"o\", markersize=5, mfc=\"black\", mec=\"black\")\n",
    "plt.axhline(df_validacao_all.MAE.min(), linestyle='--', color='.5')\n",
    "plt.title('MAE / INTERVALO DE CONFIANÇA PARA CADA MODELO')\n",
    "plt.ylabel(\"MAE\")\n",
    "plt.xlabel(\"MODELOS\")\n",
    "plt.xticks(x_1, x_ticks)\n",
    "plt.xlim([0.5, 3.5])\n",
    "plt.tight_layout()\n",
    "plt.show()"
   ]
  },
  {
   "cell_type": "markdown",
   "id": "d88040b4",
   "metadata": {},
   "source": [
    "## Foi observado uma melhora no desempenho, tendo em vista que com as interações os modelos se ajustaram melhor aos dados.\n",
    "## A regressão via Lasso se saiu melhor. A penalização faz com que o modelo fique menos flexivel aumentando o viés e diminuindo a variância tento um risco estimado melhor."
   ]
  },
  {
   "cell_type": "code",
   "execution_count": 107,
   "id": "5b74e8bc",
   "metadata": {},
   "outputs": [],
   "source": [
    "erro_lr = np.exp(y_test_transf) - np.exp(y_pred_lr_all) \n",
    "erro_lasso = np.exp(y_test_transf) - np.exp(y_pred_lasso_all)\n",
    "df_boxplot = {\"ERRO_LR\": erro_lr,\"ERRO_LASSO\": erro_lasso}\n",
    "data_boxplot = pd.DataFrame(df_boxplot)"
   ]
  },
  {
   "cell_type": "code",
   "execution_count": 108,
   "id": "1b94b5b0",
   "metadata": {},
   "outputs": [
    {
     "data": {
      "text/plain": [
       "Text(0, 0.5, 'MODELOS')"
      ]
     },
     "execution_count": 108,
     "metadata": {},
     "output_type": "execute_result"
    },
    {
     "data": {
      "image/png": "[encoded data removed]",
      "text/plain": [
       "<Figure size 720x576 with 1 Axes>"
      ]
     },
     "metadata": {},
     "output_type": "display_data"
    }
   ],
   "source": [
    "fig = plt.figure(1, figsize=(10,8))\n",
    "ax = fig.add_subplot()\n",
    "bp = ax.boxplot(data_boxplot,vert=False)\n",
    "ax.set_yticklabels(['lr','lasso'])\n",
    "plt.title('BOXPLOT DOS ERROS')\n",
    "plt.ylabel(\"MODELOS\")"
   ]
  }
 ],
 "metadata": {
  "kernelspec": {
   "display_name": "Python 3 (ipykernel)",
   "language": "python",
   "name": "python3"
  },
  "language_info": {
   "codemirror_mode": {
    "name": "ipython",
    "version": 3
   },
   "file_extension": ".py",
   "mimetype": "text/x-python",
   "name": "python",
   "nbconvert_exporter": "python",
   "pygments_lexer": "ipython3",
   "version": "3.9.7"
  }
 },
 "nbformat": 4,
 "nbformat_minor": 5
}
